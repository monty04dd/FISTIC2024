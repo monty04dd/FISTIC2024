{
 "cells": [
  {
   "attachments": {},
   "cell_type": "markdown",
   "metadata": {},
   "source": [
    "## Esercizio Classificazione NLP2"
   ]
  },
  {
   "cell_type": "code",
   "execution_count": null,
   "metadata": {},
   "outputs": [],
   "source": [
    "import numpy as np\n",
    "import pandas as pd\n",
    "\n",
    "import warnings\n",
    "warnings.filterwarnings('ignore')\n",
    "\n",
    "path = 'https://frenzy86.s3.eu-west-2.amazonaws.com/python/text_2_clean.csv'"
   ]
  },
  {
   "cell_type": "code",
   "execution_count": null,
   "metadata": {},
   "outputs": [],
   "source": [
    "# STEP1 DEFINIRE ED APPLICARE LA REGEX\n",
    "## STEP 2 : EDA con WORDCLOUD\n",
    "##STEP 3: Definizre X e y (features testuali e Target)\n",
    "##STEP 4: Vettorizzazione - Bag of Words\n",
    "##STEP 5: TF-IDF\n",
    "##STEP 6: Split Training and Test\n",
    "##STEP 7: Modellazione\n",
    "# Step 8: Pipeline Finale (nuovo train test split su dati raw tetuali)"
   ]
  }
 ],
 "metadata": {
  "kernelspec": {
   "display_name": "Python 3",
   "language": "python",
   "name": "python3"
  },
  "language_info": {
   "codemirror_mode": {
    "name": "ipython",
    "version": 3
   },
   "file_extension": ".py",
   "mimetype": "text/x-python",
   "name": "python",
   "nbconvert_exporter": "python",
   "pygments_lexer": "ipython3",
   "version": "3.10.9"
  },
  "orig_nbformat": 4
 },
 "nbformat": 4,
 "nbformat_minor": 2
}
