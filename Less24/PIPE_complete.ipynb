{
 "cells": [
  {
   "cell_type": "code",
   "execution_count": null,
   "metadata": {},
   "outputs": [],
   "source": [
    "import re\n",
    "\n",
    "words_to_remove = ['gargamella', 'doggy', 'word3']\n",
    "words_pattern = r'\\b(?:' + '|'.join(map(re.escape, words_to_remove)) + r')\\b'\n",
    "\n",
    "patterns = {\n",
    "            r\"[a-zA-Z]+n\\'t\": 'not',\n",
    "            r'\\s+': ' ',             # Substitute multiple spaces with a single space\n",
    "            r'\\d+': '',              # Remove digits\n",
    "            r'[^\\w\\s]': '',          # Remove punctuation and symbols\n",
    "            r'\\b\\w{1,2}\\b': '',      # Remove all tokens less than 2 characters\n",
    "            r'(http|www)[^\\s]+': '', # Remove websites\n",
    "            words_pattern: ''        # Remove specific words\n",
    "            }\n",
    "\n",
    "def clean_column(df, column, patterns):\n",
    "    df[column] = df[column].str.lower() # Apply lowercase transformation\n",
    "    for pattern, replacement in patterns.items():\n",
    "        df[column] = df[column].str.replace(pattern, replacement, regex=True)\n",
    "    return df"
   ]
  },
  {
   "cell_type": "code",
   "execution_count": 1,
   "metadata": {},
   "outputs": [],
   "source": [
    "from sklearn.base import BaseEstimator, TransformerMixin\n",
    "\n",
    "class TextCleaner(BaseEstimator, TransformerMixin):\n",
    "    def __init__(self, patterns):\n",
    "        self.patterns = patterns\n",
    "\n",
    "    def fit(self, X, y=None):\n",
    "        return self\n",
    "\n",
    "    def transform(self, X):\n",
    "        df = pd.DataFrame(X, columns=['text'])\n",
    "        df = clean_column(df, 'text', self.patterns)\n",
    "        return df['text'].values"
   ]
  },
  {
   "cell_type": "code",
   "execution_count": null,
   "metadata": {},
   "outputs": [],
   "source": [
    "text_cleaner = TextCleaner(patterns)\n",
    "bow = CountVectorizer(max_features=15000,stop_words=\"english\")\n",
    "tfidf = TfidfTransformer()\n",
    "clf = MultinomialNB(alpha=0.1)\n",
    "\n",
    "model_pipe = Pipeline([\n",
    "                    ('text cleaner', text_cleaner),  ## Regex and clean\n",
    "                    ('bow', bow),                    ## BoW\n",
    "                    ('tfidf', tfidf),                ## TF-IDF\n",
    "                    ('classifier', clf),             ## Classifier\n",
    "                    ])"
   ]
  }
 ],
 "metadata": {
  "kernelspec": {
   "display_name": "Python 3",
   "language": "python",
   "name": "python3"
  },
  "language_info": {
   "codemirror_mode": {
    "name": "ipython",
    "version": 3
   },
   "file_extension": ".py",
   "mimetype": "text/x-python",
   "name": "python",
   "nbconvert_exporter": "python",
   "pygments_lexer": "ipython3",
   "version": "3.11.9"
  }
 },
 "nbformat": 4,
 "nbformat_minor": 2
}
