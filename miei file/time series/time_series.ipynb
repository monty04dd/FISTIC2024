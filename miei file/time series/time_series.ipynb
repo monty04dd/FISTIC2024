{
 "cells": [
  {
   "cell_type": "code",
   "execution_count": 1,
   "metadata": {},
   "outputs": [
    {
     "name": "stderr",
     "output_type": "stream",
     "text": [
      "c:\\Users\\lucam\\AppData\\Local\\Programs\\Python\\Python311\\Lib\\site-packages\\tqdm\\auto.py:21: TqdmWarning: IProgress not found. Please update jupyter and ipywidgets. See https://ipywidgets.readthedocs.io/en/stable/user_install.html\n",
      "  from .autonotebook import tqdm as notebook_tqdm\n"
     ]
    }
   ],
   "source": [
    "import pandas as pd\n",
    "import prophet"
   ]
  },
  {
   "cell_type": "code",
   "execution_count": 6,
   "metadata": {},
   "outputs": [],
   "source": [
    "df = pd.read_csv(\"Electric_Production (1).csv\",\n",
    "                index_col='DATE',\n",
    "                parse_dates=True\n",
    ")"
   ]
  },
  {
   "cell_type": "code",
   "execution_count": null,
   "metadata": {},
   "outputs": [
    {
     "data": {
      "application/vnd.microsoft.datawrangler.viewer.v0+json": {
       "columns": [
        {
         "name": "DATE",
         "rawType": "datetime64[ns]",
         "type": "datetime"
        },
        {
         "name": "IPG2211A2N",
         "rawType": "float64",
         "type": "float"
        }
       ],
       "conversionMethod": "pd.DataFrame",
       "ref": "f53f981c-967e-41f5-a947-cabb5ddb6442",
       "rows": [
        [
         "1985-01-01 00:00:00",
         "72.5052"
        ],
        [
         "1985-02-01 00:00:00",
         "70.672"
        ],
        [
         "1985-03-01 00:00:00",
         "62.4502"
        ],
        [
         "1985-04-01 00:00:00",
         "57.4714"
        ],
        [
         "1985-05-01 00:00:00",
         "55.3151"
        ],
        [
         "1985-06-01 00:00:00",
         "58.0904"
        ],
        [
         "1985-07-01 00:00:00",
         "62.6202"
        ],
        [
         "1985-08-01 00:00:00",
         "63.2485"
        ],
        [
         "1985-09-01 00:00:00",
         "60.5846"
        ],
        [
         "1985-10-01 00:00:00",
         "56.3154"
        ],
        [
         "1985-11-01 00:00:00",
         "58.0005"
        ],
        [
         "1985-12-01 00:00:00",
         "68.7145"
        ],
        [
         "1986-01-01 00:00:00",
         "73.3057"
        ],
        [
         "1986-02-01 00:00:00",
         "67.9869"
        ],
        [
         "1986-03-01 00:00:00",
         "62.2221"
        ],
        [
         "1986-04-01 00:00:00",
         "57.0329"
        ],
        [
         "1986-05-01 00:00:00",
         "55.8137"
        ],
        [
         "1986-06-01 00:00:00",
         "59.9005"
        ],
        [
         "1986-07-01 00:00:00",
         "65.7655"
        ],
        [
         "1986-08-01 00:00:00",
         "64.4816"
        ],
        [
         "1986-09-01 00:00:00",
         "61.0005"
        ],
        [
         "1986-10-01 00:00:00",
         "57.5322"
        ],
        [
         "1986-11-01 00:00:00",
         "59.3417"
        ],
        [
         "1986-12-01 00:00:00",
         "68.1354"
        ],
        [
         "1987-01-01 00:00:00",
         "73.8152"
        ],
        [
         "1987-02-01 00:00:00",
         "70.062"
        ],
        [
         "1987-03-01 00:00:00",
         "65.61"
        ],
        [
         "1987-04-01 00:00:00",
         "60.1586"
        ],
        [
         "1987-05-01 00:00:00",
         "58.8734"
        ],
        [
         "1987-06-01 00:00:00",
         "63.8918"
        ],
        [
         "1987-07-01 00:00:00",
         "68.8694"
        ],
        [
         "1987-08-01 00:00:00",
         "70.0669"
        ],
        [
         "1987-09-01 00:00:00",
         "64.1151"
        ],
        [
         "1987-10-01 00:00:00",
         "60.3789"
        ],
        [
         "1987-11-01 00:00:00",
         "62.4643"
        ],
        [
         "1987-12-01 00:00:00",
         "70.5777"
        ],
        [
         "1988-01-01 00:00:00",
         "79.8703"
        ],
        [
         "1988-02-01 00:00:00",
         "76.1622"
        ],
        [
         "1988-03-01 00:00:00",
         "70.2928"
        ],
        [
         "1988-04-01 00:00:00",
         "63.2384"
        ],
        [
         "1988-05-01 00:00:00",
         "61.4065"
        ],
        [
         "1988-06-01 00:00:00",
         "67.1097"
        ],
        [
         "1988-07-01 00:00:00",
         "72.9816"
        ],
        [
         "1988-08-01 00:00:00",
         "75.7655"
        ],
        [
         "1988-09-01 00:00:00",
         "67.5152"
        ],
        [
         "1988-10-01 00:00:00",
         "63.2832"
        ],
        [
         "1988-11-01 00:00:00",
         "65.1078"
        ],
        [
         "1988-12-01 00:00:00",
         "73.8631"
        ],
        [
         "1989-01-01 00:00:00",
         "77.9188"
        ],
        [
         "1989-02-01 00:00:00",
         "76.6822"
        ]
       ],
       "shape": {
        "columns": 1,
        "rows": 397
       }
      },
      "text/html": [
       "<div>\n",
       "<style scoped>\n",
       "    .dataframe tbody tr th:only-of-type {\n",
       "        vertical-align: middle;\n",
       "    }\n",
       "\n",
       "    .dataframe tbody tr th {\n",
       "        vertical-align: top;\n",
       "    }\n",
       "\n",
       "    .dataframe thead th {\n",
       "        text-align: right;\n",
       "    }\n",
       "</style>\n",
       "<table border=\"1\" class=\"dataframe\">\n",
       "  <thead>\n",
       "    <tr style=\"text-align: right;\">\n",
       "      <th></th>\n",
       "      <th>IPG2211A2N</th>\n",
       "    </tr>\n",
       "    <tr>\n",
       "      <th>DATE</th>\n",
       "      <th></th>\n",
       "    </tr>\n",
       "  </thead>\n",
       "  <tbody>\n",
       "    <tr>\n",
       "      <th>1985-01-01</th>\n",
       "      <td>72.5052</td>\n",
       "    </tr>\n",
       "    <tr>\n",
       "      <th>1985-02-01</th>\n",
       "      <td>70.6720</td>\n",
       "    </tr>\n",
       "    <tr>\n",
       "      <th>1985-03-01</th>\n",
       "      <td>62.4502</td>\n",
       "    </tr>\n",
       "    <tr>\n",
       "      <th>1985-04-01</th>\n",
       "      <td>57.4714</td>\n",
       "    </tr>\n",
       "    <tr>\n",
       "      <th>1985-05-01</th>\n",
       "      <td>55.3151</td>\n",
       "    </tr>\n",
       "    <tr>\n",
       "      <th>...</th>\n",
       "      <td>...</td>\n",
       "    </tr>\n",
       "    <tr>\n",
       "      <th>2017-09-01</th>\n",
       "      <td>98.6154</td>\n",
       "    </tr>\n",
       "    <tr>\n",
       "      <th>2017-10-01</th>\n",
       "      <td>93.6137</td>\n",
       "    </tr>\n",
       "    <tr>\n",
       "      <th>2017-11-01</th>\n",
       "      <td>97.3359</td>\n",
       "    </tr>\n",
       "    <tr>\n",
       "      <th>2017-12-01</th>\n",
       "      <td>114.7212</td>\n",
       "    </tr>\n",
       "    <tr>\n",
       "      <th>2018-01-01</th>\n",
       "      <td>129.4048</td>\n",
       "    </tr>\n",
       "  </tbody>\n",
       "</table>\n",
       "<p>397 rows × 1 columns</p>\n",
       "</div>"
      ],
      "text/plain": [
       "            IPG2211A2N\n",
       "DATE                  \n",
       "1985-01-01     72.5052\n",
       "1985-02-01     70.6720\n",
       "1985-03-01     62.4502\n",
       "1985-04-01     57.4714\n",
       "1985-05-01     55.3151\n",
       "...                ...\n",
       "2017-09-01     98.6154\n",
       "2017-10-01     93.6137\n",
       "2017-11-01     97.3359\n",
       "2017-12-01    114.7212\n",
       "2018-01-01    129.4048\n",
       "\n",
       "[397 rows x 1 columns]"
      ]
     },
     "execution_count": 7,
     "metadata": {},
     "output_type": "execute_result"
    }
   ],
   "source": [
    "df"
   ]
  },
  {
   "cell_type": "code",
   "execution_count": 8,
   "metadata": {},
   "outputs": [
    {
     "data": {
      "text/plain": [
       "DatetimeIndex(['1985-01-01', '1985-02-01', '1985-03-01', '1985-04-01',\n",
       "               '1985-05-01', '1985-06-01', '1985-07-01', '1985-08-01',\n",
       "               '1985-09-01', '1985-10-01',\n",
       "               ...\n",
       "               '2017-04-01', '2017-05-01', '2017-06-01', '2017-07-01',\n",
       "               '2017-08-01', '2017-09-01', '2017-10-01', '2017-11-01',\n",
       "               '2017-12-01', '2018-01-01'],\n",
       "              dtype='datetime64[ns]', name='DATE', length=397, freq=None)"
      ]
     },
     "execution_count": 8,
     "metadata": {},
     "output_type": "execute_result"
    }
   ],
   "source": [
    "df.index"
   ]
  },
  {
   "cell_type": "code",
   "execution_count": 9,
   "metadata": {},
   "outputs": [],
   "source": [
    "df.index.freq = \"MS\""
   ]
  },
  {
   "cell_type": "code",
   "execution_count": 10,
   "metadata": {},
   "outputs": [
    {
     "data": {
      "application/vnd.microsoft.datawrangler.viewer.v0+json": {
       "columns": [
        {
         "name": "DATE",
         "rawType": "datetime64[ns]",
         "type": "datetime"
        },
        {
         "name": "IPG2211A2N",
         "rawType": "float64",
         "type": "float"
        }
       ],
       "conversionMethod": "pd.DataFrame",
       "ref": "3524a0b5-c585-433e-a635-bf711fbedcbe",
       "rows": [
        [
         "1985-01-01 00:00:00",
         "72.5052"
        ],
        [
         "1985-02-01 00:00:00",
         "70.672"
        ],
        [
         "1985-03-01 00:00:00",
         "62.4502"
        ],
        [
         "1985-04-01 00:00:00",
         "57.4714"
        ],
        [
         "1985-05-01 00:00:00",
         "55.3151"
        ],
        [
         "1985-06-01 00:00:00",
         "58.0904"
        ],
        [
         "1985-07-01 00:00:00",
         "62.6202"
        ],
        [
         "1985-08-01 00:00:00",
         "63.2485"
        ],
        [
         "1985-09-01 00:00:00",
         "60.5846"
        ],
        [
         "1985-10-01 00:00:00",
         "56.3154"
        ],
        [
         "1985-11-01 00:00:00",
         "58.0005"
        ],
        [
         "1985-12-01 00:00:00",
         "68.7145"
        ],
        [
         "1986-01-01 00:00:00",
         "73.3057"
        ],
        [
         "1986-02-01 00:00:00",
         "67.9869"
        ],
        [
         "1986-03-01 00:00:00",
         "62.2221"
        ],
        [
         "1986-04-01 00:00:00",
         "57.0329"
        ],
        [
         "1986-05-01 00:00:00",
         "55.8137"
        ],
        [
         "1986-06-01 00:00:00",
         "59.9005"
        ],
        [
         "1986-07-01 00:00:00",
         "65.7655"
        ],
        [
         "1986-08-01 00:00:00",
         "64.4816"
        ],
        [
         "1986-09-01 00:00:00",
         "61.0005"
        ],
        [
         "1986-10-01 00:00:00",
         "57.5322"
        ],
        [
         "1986-11-01 00:00:00",
         "59.3417"
        ],
        [
         "1986-12-01 00:00:00",
         "68.1354"
        ],
        [
         "1987-01-01 00:00:00",
         "73.8152"
        ],
        [
         "1987-02-01 00:00:00",
         "70.062"
        ],
        [
         "1987-03-01 00:00:00",
         "65.61"
        ],
        [
         "1987-04-01 00:00:00",
         "60.1586"
        ],
        [
         "1987-05-01 00:00:00",
         "58.8734"
        ],
        [
         "1987-06-01 00:00:00",
         "63.8918"
        ],
        [
         "1987-07-01 00:00:00",
         "68.8694"
        ],
        [
         "1987-08-01 00:00:00",
         "70.0669"
        ],
        [
         "1987-09-01 00:00:00",
         "64.1151"
        ],
        [
         "1987-10-01 00:00:00",
         "60.3789"
        ],
        [
         "1987-11-01 00:00:00",
         "62.4643"
        ],
        [
         "1987-12-01 00:00:00",
         "70.5777"
        ],
        [
         "1988-01-01 00:00:00",
         "79.8703"
        ],
        [
         "1988-02-01 00:00:00",
         "76.1622"
        ],
        [
         "1988-03-01 00:00:00",
         "70.2928"
        ],
        [
         "1988-04-01 00:00:00",
         "63.2384"
        ],
        [
         "1988-05-01 00:00:00",
         "61.4065"
        ],
        [
         "1988-06-01 00:00:00",
         "67.1097"
        ],
        [
         "1988-07-01 00:00:00",
         "72.9816"
        ],
        [
         "1988-08-01 00:00:00",
         "75.7655"
        ],
        [
         "1988-09-01 00:00:00",
         "67.5152"
        ],
        [
         "1988-10-01 00:00:00",
         "63.2832"
        ],
        [
         "1988-11-01 00:00:00",
         "65.1078"
        ],
        [
         "1988-12-01 00:00:00",
         "73.8631"
        ],
        [
         "1989-01-01 00:00:00",
         "77.9188"
        ],
        [
         "1989-02-01 00:00:00",
         "76.6822"
        ]
       ],
       "shape": {
        "columns": 1,
        "rows": 397
       }
      },
      "text/html": [
       "<div>\n",
       "<style scoped>\n",
       "    .dataframe tbody tr th:only-of-type {\n",
       "        vertical-align: middle;\n",
       "    }\n",
       "\n",
       "    .dataframe tbody tr th {\n",
       "        vertical-align: top;\n",
       "    }\n",
       "\n",
       "    .dataframe thead th {\n",
       "        text-align: right;\n",
       "    }\n",
       "</style>\n",
       "<table border=\"1\" class=\"dataframe\">\n",
       "  <thead>\n",
       "    <tr style=\"text-align: right;\">\n",
       "      <th></th>\n",
       "      <th>IPG2211A2N</th>\n",
       "    </tr>\n",
       "    <tr>\n",
       "      <th>DATE</th>\n",
       "      <th></th>\n",
       "    </tr>\n",
       "  </thead>\n",
       "  <tbody>\n",
       "    <tr>\n",
       "      <th>1985-01-01</th>\n",
       "      <td>72.5052</td>\n",
       "    </tr>\n",
       "    <tr>\n",
       "      <th>1985-02-01</th>\n",
       "      <td>70.6720</td>\n",
       "    </tr>\n",
       "    <tr>\n",
       "      <th>1985-03-01</th>\n",
       "      <td>62.4502</td>\n",
       "    </tr>\n",
       "    <tr>\n",
       "      <th>1985-04-01</th>\n",
       "      <td>57.4714</td>\n",
       "    </tr>\n",
       "    <tr>\n",
       "      <th>1985-05-01</th>\n",
       "      <td>55.3151</td>\n",
       "    </tr>\n",
       "    <tr>\n",
       "      <th>...</th>\n",
       "      <td>...</td>\n",
       "    </tr>\n",
       "    <tr>\n",
       "      <th>2017-09-01</th>\n",
       "      <td>98.6154</td>\n",
       "    </tr>\n",
       "    <tr>\n",
       "      <th>2017-10-01</th>\n",
       "      <td>93.6137</td>\n",
       "    </tr>\n",
       "    <tr>\n",
       "      <th>2017-11-01</th>\n",
       "      <td>97.3359</td>\n",
       "    </tr>\n",
       "    <tr>\n",
       "      <th>2017-12-01</th>\n",
       "      <td>114.7212</td>\n",
       "    </tr>\n",
       "    <tr>\n",
       "      <th>2018-01-01</th>\n",
       "      <td>129.4048</td>\n",
       "    </tr>\n",
       "  </tbody>\n",
       "</table>\n",
       "<p>397 rows × 1 columns</p>\n",
       "</div>"
      ],
      "text/plain": [
       "            IPG2211A2N\n",
       "DATE                  \n",
       "1985-01-01     72.5052\n",
       "1985-02-01     70.6720\n",
       "1985-03-01     62.4502\n",
       "1985-04-01     57.4714\n",
       "1985-05-01     55.3151\n",
       "...                ...\n",
       "2017-09-01     98.6154\n",
       "2017-10-01     93.6137\n",
       "2017-11-01     97.3359\n",
       "2017-12-01    114.7212\n",
       "2018-01-01    129.4048\n",
       "\n",
       "[397 rows x 1 columns]"
      ]
     },
     "execution_count": 10,
     "metadata": {},
     "output_type": "execute_result"
    }
   ],
   "source": [
    "df"
   ]
  },
  {
   "cell_type": "code",
   "execution_count": 12,
   "metadata": {},
   "outputs": [
    {
     "data": {
      "image/png": "[encoded data removed]",
      "text/plain": [
       "<Figure size 1800x1000 with 1 Axes>"
      ]
     },
     "metadata": {},
     "output_type": "display_data"
    }
   ],
   "source": [
    "df.plot(figsize = (18,10));"
   ]
  },
  {
   "cell_type": "code",
   "execution_count": 14,
   "metadata": {},
   "outputs": [
    {
     "data": {
      "application/vnd.microsoft.datawrangler.viewer.v0+json": {
       "columns": [
        {
         "name": "DATE",
         "rawType": "datetime64[ns]",
         "type": "datetime"
        },
        {
         "name": "IPG2211A2N",
         "rawType": "float64",
         "type": "float"
        }
       ],
       "conversionMethod": "pd.DataFrame",
       "ref": "f3c3c052-0850-45c0-b24d-57117cac98be",
       "rows": [
        [
         "1985-01-31 00:00:00",
         "72.5052"
        ],
        [
         "1985-02-28 00:00:00",
         "70.672"
        ],
        [
         "1985-03-31 00:00:00",
         "62.4502"
        ],
        [
         "1985-04-30 00:00:00",
         "57.4714"
        ],
        [
         "1985-05-31 00:00:00",
         "55.3151"
        ],
        [
         "1985-06-30 00:00:00",
         "58.0904"
        ],
        [
         "1985-07-31 00:00:00",
         "62.6202"
        ],
        [
         "1985-08-31 00:00:00",
         "63.2485"
        ],
        [
         "1985-09-30 00:00:00",
         "60.5846"
        ],
        [
         "1985-10-31 00:00:00",
         "56.3154"
        ],
        [
         "1985-11-30 00:00:00",
         "58.0005"
        ],
        [
         "1985-12-31 00:00:00",
         "68.7145"
        ],
        [
         "1986-01-31 00:00:00",
         "73.3057"
        ],
        [
         "1986-02-28 00:00:00",
         "67.9869"
        ],
        [
         "1986-03-31 00:00:00",
         "62.2221"
        ],
        [
         "1986-04-30 00:00:00",
         "57.0329"
        ],
        [
         "1986-05-31 00:00:00",
         "55.8137"
        ],
        [
         "1986-06-30 00:00:00",
         "59.9005"
        ],
        [
         "1986-07-31 00:00:00",
         "65.7655"
        ],
        [
         "1986-08-31 00:00:00",
         "64.4816"
        ],
        [
         "1986-09-30 00:00:00",
         "61.0005"
        ],
        [
         "1986-10-31 00:00:00",
         "57.5322"
        ],
        [
         "1986-11-30 00:00:00",
         "59.3417"
        ],
        [
         "1986-12-31 00:00:00",
         "68.1354"
        ],
        [
         "1987-01-31 00:00:00",
         "73.8152"
        ],
        [
         "1987-02-28 00:00:00",
         "70.062"
        ],
        [
         "1987-03-31 00:00:00",
         "65.61"
        ],
        [
         "1987-04-30 00:00:00",
         "60.1586"
        ],
        [
         "1987-05-31 00:00:00",
         "58.8734"
        ],
        [
         "1987-06-30 00:00:00",
         "63.8918"
        ],
        [
         "1987-07-31 00:00:00",
         "68.8694"
        ],
        [
         "1987-08-31 00:00:00",
         "70.0669"
        ],
        [
         "1987-09-30 00:00:00",
         "64.1151"
        ],
        [
         "1987-10-31 00:00:00",
         "60.3789"
        ],
        [
         "1987-11-30 00:00:00",
         "62.4643"
        ],
        [
         "1987-12-31 00:00:00",
         "70.5777"
        ],
        [
         "1988-01-31 00:00:00",
         "79.8703"
        ],
        [
         "1988-02-29 00:00:00",
         "76.1622"
        ],
        [
         "1988-03-31 00:00:00",
         "70.2928"
        ],
        [
         "1988-04-30 00:00:00",
         "63.2384"
        ],
        [
         "1988-05-31 00:00:00",
         "61.4065"
        ],
        [
         "1988-06-30 00:00:00",
         "67.1097"
        ],
        [
         "1988-07-31 00:00:00",
         "72.9816"
        ],
        [
         "1988-08-31 00:00:00",
         "75.7655"
        ],
        [
         "1988-09-30 00:00:00",
         "67.5152"
        ],
        [
         "1988-10-31 00:00:00",
         "63.2832"
        ],
        [
         "1988-11-30 00:00:00",
         "65.1078"
        ],
        [
         "1988-12-31 00:00:00",
         "73.8631"
        ],
        [
         "1989-01-31 00:00:00",
         "77.9188"
        ],
        [
         "1989-02-28 00:00:00",
         "76.6822"
        ]
       ],
       "shape": {
        "columns": 1,
        "rows": 397
       }
      },
      "text/html": [
       "<div>\n",
       "<style scoped>\n",
       "    .dataframe tbody tr th:only-of-type {\n",
       "        vertical-align: middle;\n",
       "    }\n",
       "\n",
       "    .dataframe tbody tr th {\n",
       "        vertical-align: top;\n",
       "    }\n",
       "\n",
       "    .dataframe thead th {\n",
       "        text-align: right;\n",
       "    }\n",
       "</style>\n",
       "<table border=\"1\" class=\"dataframe\">\n",
       "  <thead>\n",
       "    <tr style=\"text-align: right;\">\n",
       "      <th></th>\n",
       "      <th>IPG2211A2N</th>\n",
       "    </tr>\n",
       "    <tr>\n",
       "      <th>DATE</th>\n",
       "      <th></th>\n",
       "    </tr>\n",
       "  </thead>\n",
       "  <tbody>\n",
       "    <tr>\n",
       "      <th>1985-01-31</th>\n",
       "      <td>72.5052</td>\n",
       "    </tr>\n",
       "    <tr>\n",
       "      <th>1985-02-28</th>\n",
       "      <td>70.6720</td>\n",
       "    </tr>\n",
       "    <tr>\n",
       "      <th>1985-03-31</th>\n",
       "      <td>62.4502</td>\n",
       "    </tr>\n",
       "    <tr>\n",
       "      <th>1985-04-30</th>\n",
       "      <td>57.4714</td>\n",
       "    </tr>\n",
       "    <tr>\n",
       "      <th>1985-05-31</th>\n",
       "      <td>55.3151</td>\n",
       "    </tr>\n",
       "    <tr>\n",
       "      <th>...</th>\n",
       "      <td>...</td>\n",
       "    </tr>\n",
       "    <tr>\n",
       "      <th>2017-09-30</th>\n",
       "      <td>98.6154</td>\n",
       "    </tr>\n",
       "    <tr>\n",
       "      <th>2017-10-31</th>\n",
       "      <td>93.6137</td>\n",
       "    </tr>\n",
       "    <tr>\n",
       "      <th>2017-11-30</th>\n",
       "      <td>97.3359</td>\n",
       "    </tr>\n",
       "    <tr>\n",
       "      <th>2017-12-31</th>\n",
       "      <td>114.7212</td>\n",
       "    </tr>\n",
       "    <tr>\n",
       "      <th>2018-01-31</th>\n",
       "      <td>129.4048</td>\n",
       "    </tr>\n",
       "  </tbody>\n",
       "</table>\n",
       "<p>397 rows × 1 columns</p>\n",
       "</div>"
      ],
      "text/plain": [
       "            IPG2211A2N\n",
       "DATE                  \n",
       "1985-01-31     72.5052\n",
       "1985-02-28     70.6720\n",
       "1985-03-31     62.4502\n",
       "1985-04-30     57.4714\n",
       "1985-05-31     55.3151\n",
       "...                ...\n",
       "2017-09-30     98.6154\n",
       "2017-10-31     93.6137\n",
       "2017-11-30     97.3359\n",
       "2017-12-31    114.7212\n",
       "2018-01-31    129.4048\n",
       "\n",
       "[397 rows x 1 columns]"
      ]
     },
     "execution_count": 14,
     "metadata": {},
     "output_type": "execute_result"
    }
   ],
   "source": [
    "df.shift(periods=1, freq=\"ME\")"
   ]
  },
  {
   "cell_type": "code",
   "execution_count": 15,
   "metadata": {},
   "outputs": [
    {
     "data": {
      "application/vnd.microsoft.datawrangler.viewer.v0+json": {
       "columns": [
        {
         "name": "DATE",
         "rawType": "datetime64[ns]",
         "type": "datetime"
        },
        {
         "name": "IPG2211A2N",
         "rawType": "float64",
         "type": "float"
        }
       ],
       "conversionMethod": "pd.DataFrame",
       "ref": "980abbaa-14ff-4ae6-b9d3-5c5cbfc4f629",
       "rows": [
        [
         "1985-12-31 00:00:00",
         "72.5052"
        ],
        [
         "1985-12-31 00:00:00",
         "70.672"
        ],
        [
         "1985-12-31 00:00:00",
         "62.4502"
        ],
        [
         "1985-12-31 00:00:00",
         "57.4714"
        ],
        [
         "1985-12-31 00:00:00",
         "55.3151"
        ],
        [
         "1985-12-31 00:00:00",
         "58.0904"
        ],
        [
         "1985-12-31 00:00:00",
         "62.6202"
        ],
        [
         "1985-12-31 00:00:00",
         "63.2485"
        ],
        [
         "1985-12-31 00:00:00",
         "60.5846"
        ],
        [
         "1985-12-31 00:00:00",
         "56.3154"
        ],
        [
         "1985-12-31 00:00:00",
         "58.0005"
        ],
        [
         "1985-12-31 00:00:00",
         "68.7145"
        ],
        [
         "1986-12-31 00:00:00",
         "73.3057"
        ],
        [
         "1986-12-31 00:00:00",
         "67.9869"
        ],
        [
         "1986-12-31 00:00:00",
         "62.2221"
        ],
        [
         "1986-12-31 00:00:00",
         "57.0329"
        ],
        [
         "1986-12-31 00:00:00",
         "55.8137"
        ],
        [
         "1986-12-31 00:00:00",
         "59.9005"
        ],
        [
         "1986-12-31 00:00:00",
         "65.7655"
        ],
        [
         "1986-12-31 00:00:00",
         "64.4816"
        ],
        [
         "1986-12-31 00:00:00",
         "61.0005"
        ],
        [
         "1986-12-31 00:00:00",
         "57.5322"
        ],
        [
         "1986-12-31 00:00:00",
         "59.3417"
        ],
        [
         "1986-12-31 00:00:00",
         "68.1354"
        ],
        [
         "1987-12-31 00:00:00",
         "73.8152"
        ],
        [
         "1987-12-31 00:00:00",
         "70.062"
        ],
        [
         "1987-12-31 00:00:00",
         "65.61"
        ],
        [
         "1987-12-31 00:00:00",
         "60.1586"
        ],
        [
         "1987-12-31 00:00:00",
         "58.8734"
        ],
        [
         "1987-12-31 00:00:00",
         "63.8918"
        ],
        [
         "1987-12-31 00:00:00",
         "68.8694"
        ],
        [
         "1987-12-31 00:00:00",
         "70.0669"
        ],
        [
         "1987-12-31 00:00:00",
         "64.1151"
        ],
        [
         "1987-12-31 00:00:00",
         "60.3789"
        ],
        [
         "1987-12-31 00:00:00",
         "62.4643"
        ],
        [
         "1987-12-31 00:00:00",
         "70.5777"
        ],
        [
         "1988-12-31 00:00:00",
         "79.8703"
        ],
        [
         "1988-12-31 00:00:00",
         "76.1622"
        ],
        [
         "1988-12-31 00:00:00",
         "70.2928"
        ],
        [
         "1988-12-31 00:00:00",
         "63.2384"
        ],
        [
         "1988-12-31 00:00:00",
         "61.4065"
        ],
        [
         "1988-12-31 00:00:00",
         "67.1097"
        ],
        [
         "1988-12-31 00:00:00",
         "72.9816"
        ],
        [
         "1988-12-31 00:00:00",
         "75.7655"
        ],
        [
         "1988-12-31 00:00:00",
         "67.5152"
        ],
        [
         "1988-12-31 00:00:00",
         "63.2832"
        ],
        [
         "1988-12-31 00:00:00",
         "65.1078"
        ],
        [
         "1988-12-31 00:00:00",
         "73.8631"
        ],
        [
         "1989-12-31 00:00:00",
         "77.9188"
        ],
        [
         "1989-12-31 00:00:00",
         "76.6822"
        ]
       ],
       "shape": {
        "columns": 1,
        "rows": 397
       }
      },
      "text/html": [
       "<div>\n",
       "<style scoped>\n",
       "    .dataframe tbody tr th:only-of-type {\n",
       "        vertical-align: middle;\n",
       "    }\n",
       "\n",
       "    .dataframe tbody tr th {\n",
       "        vertical-align: top;\n",
       "    }\n",
       "\n",
       "    .dataframe thead th {\n",
       "        text-align: right;\n",
       "    }\n",
       "</style>\n",
       "<table border=\"1\" class=\"dataframe\">\n",
       "  <thead>\n",
       "    <tr style=\"text-align: right;\">\n",
       "      <th></th>\n",
       "      <th>IPG2211A2N</th>\n",
       "    </tr>\n",
       "    <tr>\n",
       "      <th>DATE</th>\n",
       "      <th></th>\n",
       "    </tr>\n",
       "  </thead>\n",
       "  <tbody>\n",
       "    <tr>\n",
       "      <th>1985-12-31</th>\n",
       "      <td>72.5052</td>\n",
       "    </tr>\n",
       "    <tr>\n",
       "      <th>1985-12-31</th>\n",
       "      <td>70.6720</td>\n",
       "    </tr>\n",
       "    <tr>\n",
       "      <th>1985-12-31</th>\n",
       "      <td>62.4502</td>\n",
       "    </tr>\n",
       "    <tr>\n",
       "      <th>1985-12-31</th>\n",
       "      <td>57.4714</td>\n",
       "    </tr>\n",
       "    <tr>\n",
       "      <th>1985-12-31</th>\n",
       "      <td>55.3151</td>\n",
       "    </tr>\n",
       "    <tr>\n",
       "      <th>...</th>\n",
       "      <td>...</td>\n",
       "    </tr>\n",
       "    <tr>\n",
       "      <th>2017-12-31</th>\n",
       "      <td>98.6154</td>\n",
       "    </tr>\n",
       "    <tr>\n",
       "      <th>2017-12-31</th>\n",
       "      <td>93.6137</td>\n",
       "    </tr>\n",
       "    <tr>\n",
       "      <th>2017-12-31</th>\n",
       "      <td>97.3359</td>\n",
       "    </tr>\n",
       "    <tr>\n",
       "      <th>2017-12-31</th>\n",
       "      <td>114.7212</td>\n",
       "    </tr>\n",
       "    <tr>\n",
       "      <th>2018-12-31</th>\n",
       "      <td>129.4048</td>\n",
       "    </tr>\n",
       "  </tbody>\n",
       "</table>\n",
       "<p>397 rows × 1 columns</p>\n",
       "</div>"
      ],
      "text/plain": [
       "            IPG2211A2N\n",
       "DATE                  \n",
       "1985-12-31     72.5052\n",
       "1985-12-31     70.6720\n",
       "1985-12-31     62.4502\n",
       "1985-12-31     57.4714\n",
       "1985-12-31     55.3151\n",
       "...                ...\n",
       "2017-12-31     98.6154\n",
       "2017-12-31     93.6137\n",
       "2017-12-31     97.3359\n",
       "2017-12-31    114.7212\n",
       "2018-12-31    129.4048\n",
       "\n",
       "[397 rows x 1 columns]"
      ]
     },
     "execution_count": 15,
     "metadata": {},
     "output_type": "execute_result"
    }
   ],
   "source": [
    "df.shift(periods=1, freq=\"YE\")"
   ]
  },
  {
   "cell_type": "code",
   "execution_count": 17,
   "metadata": {},
   "outputs": [],
   "source": [
    "import statsmodels.api as sm\n"
   ]
  },
  {
   "cell_type": "code",
   "execution_count": 18,
   "metadata": {},
   "outputs": [
    {
     "data": {
      "application/vnd.microsoft.datawrangler.viewer.v0+json": {
       "columns": [
        {
         "name": "DATE",
         "rawType": "datetime64[ns]",
         "type": "datetime"
        },
        {
         "name": "IPG2211A2N",
         "rawType": "float64",
         "type": "float"
        }
       ],
       "conversionMethod": "pd.DataFrame",
       "ref": "f2eb75ca-76bd-47fd-ad60-72adc60959db",
       "rows": [
        [
         "1985-01-01 00:00:00",
         "72.5052"
        ],
        [
         "1985-02-01 00:00:00",
         "70.672"
        ],
        [
         "1985-03-01 00:00:00",
         "62.4502"
        ],
        [
         "1985-04-01 00:00:00",
         "57.4714"
        ],
        [
         "1985-05-01 00:00:00",
         "55.3151"
        ],
        [
         "1985-06-01 00:00:00",
         "58.0904"
        ],
        [
         "1985-07-01 00:00:00",
         "62.6202"
        ],
        [
         "1985-08-01 00:00:00",
         "63.2485"
        ],
        [
         "1985-09-01 00:00:00",
         "60.5846"
        ],
        [
         "1985-10-01 00:00:00",
         "56.3154"
        ],
        [
         "1985-11-01 00:00:00",
         "58.0005"
        ],
        [
         "1985-12-01 00:00:00",
         "68.7145"
        ],
        [
         "1986-01-01 00:00:00",
         "73.3057"
        ],
        [
         "1986-02-01 00:00:00",
         "67.9869"
        ],
        [
         "1986-03-01 00:00:00",
         "62.2221"
        ],
        [
         "1986-04-01 00:00:00",
         "57.0329"
        ],
        [
         "1986-05-01 00:00:00",
         "55.8137"
        ],
        [
         "1986-06-01 00:00:00",
         "59.9005"
        ],
        [
         "1986-07-01 00:00:00",
         "65.7655"
        ],
        [
         "1986-08-01 00:00:00",
         "64.4816"
        ],
        [
         "1986-09-01 00:00:00",
         "61.0005"
        ],
        [
         "1986-10-01 00:00:00",
         "57.5322"
        ],
        [
         "1986-11-01 00:00:00",
         "59.3417"
        ],
        [
         "1986-12-01 00:00:00",
         "68.1354"
        ],
        [
         "1987-01-01 00:00:00",
         "73.8152"
        ],
        [
         "1987-02-01 00:00:00",
         "70.062"
        ],
        [
         "1987-03-01 00:00:00",
         "65.61"
        ],
        [
         "1987-04-01 00:00:00",
         "60.1586"
        ],
        [
         "1987-05-01 00:00:00",
         "58.8734"
        ],
        [
         "1987-06-01 00:00:00",
         "63.8918"
        ],
        [
         "1987-07-01 00:00:00",
         "68.8694"
        ],
        [
         "1987-08-01 00:00:00",
         "70.0669"
        ],
        [
         "1987-09-01 00:00:00",
         "64.1151"
        ],
        [
         "1987-10-01 00:00:00",
         "60.3789"
        ],
        [
         "1987-11-01 00:00:00",
         "62.4643"
        ],
        [
         "1987-12-01 00:00:00",
         "70.5777"
        ],
        [
         "1988-01-01 00:00:00",
         "79.8703"
        ],
        [
         "1988-02-01 00:00:00",
         "76.1622"
        ],
        [
         "1988-03-01 00:00:00",
         "70.2928"
        ],
        [
         "1988-04-01 00:00:00",
         "63.2384"
        ],
        [
         "1988-05-01 00:00:00",
         "61.4065"
        ],
        [
         "1988-06-01 00:00:00",
         "67.1097"
        ],
        [
         "1988-07-01 00:00:00",
         "72.9816"
        ],
        [
         "1988-08-01 00:00:00",
         "75.7655"
        ],
        [
         "1988-09-01 00:00:00",
         "67.5152"
        ],
        [
         "1988-10-01 00:00:00",
         "63.2832"
        ],
        [
         "1988-11-01 00:00:00",
         "65.1078"
        ],
        [
         "1988-12-01 00:00:00",
         "73.8631"
        ],
        [
         "1989-01-01 00:00:00",
         "77.9188"
        ],
        [
         "1989-02-01 00:00:00",
         "76.6822"
        ]
       ],
       "shape": {
        "columns": 1,
        "rows": 397
       }
      },
      "text/html": [
       "<div>\n",
       "<style scoped>\n",
       "    .dataframe tbody tr th:only-of-type {\n",
       "        vertical-align: middle;\n",
       "    }\n",
       "\n",
       "    .dataframe tbody tr th {\n",
       "        vertical-align: top;\n",
       "    }\n",
       "\n",
       "    .dataframe thead th {\n",
       "        text-align: right;\n",
       "    }\n",
       "</style>\n",
       "<table border=\"1\" class=\"dataframe\">\n",
       "  <thead>\n",
       "    <tr style=\"text-align: right;\">\n",
       "      <th></th>\n",
       "      <th>IPG2211A2N</th>\n",
       "    </tr>\n",
       "    <tr>\n",
       "      <th>DATE</th>\n",
       "      <th></th>\n",
       "    </tr>\n",
       "  </thead>\n",
       "  <tbody>\n",
       "    <tr>\n",
       "      <th>1985-01-01</th>\n",
       "      <td>72.5052</td>\n",
       "    </tr>\n",
       "    <tr>\n",
       "      <th>1985-02-01</th>\n",
       "      <td>70.6720</td>\n",
       "    </tr>\n",
       "    <tr>\n",
       "      <th>1985-03-01</th>\n",
       "      <td>62.4502</td>\n",
       "    </tr>\n",
       "    <tr>\n",
       "      <th>1985-04-01</th>\n",
       "      <td>57.4714</td>\n",
       "    </tr>\n",
       "    <tr>\n",
       "      <th>1985-05-01</th>\n",
       "      <td>55.3151</td>\n",
       "    </tr>\n",
       "    <tr>\n",
       "      <th>...</th>\n",
       "      <td>...</td>\n",
       "    </tr>\n",
       "    <tr>\n",
       "      <th>2017-09-01</th>\n",
       "      <td>98.6154</td>\n",
       "    </tr>\n",
       "    <tr>\n",
       "      <th>2017-10-01</th>\n",
       "      <td>93.6137</td>\n",
       "    </tr>\n",
       "    <tr>\n",
       "      <th>2017-11-01</th>\n",
       "      <td>97.3359</td>\n",
       "    </tr>\n",
       "    <tr>\n",
       "      <th>2017-12-01</th>\n",
       "      <td>114.7212</td>\n",
       "    </tr>\n",
       "    <tr>\n",
       "      <th>2018-01-01</th>\n",
       "      <td>129.4048</td>\n",
       "    </tr>\n",
       "  </tbody>\n",
       "</table>\n",
       "<p>397 rows × 1 columns</p>\n",
       "</div>"
      ],
      "text/plain": [
       "            IPG2211A2N\n",
       "DATE                  \n",
       "1985-01-01     72.5052\n",
       "1985-02-01     70.6720\n",
       "1985-03-01     62.4502\n",
       "1985-04-01     57.4714\n",
       "1985-05-01     55.3151\n",
       "...                ...\n",
       "2017-09-01     98.6154\n",
       "2017-10-01     93.6137\n",
       "2017-11-01     97.3359\n",
       "2017-12-01    114.7212\n",
       "2018-01-01    129.4048\n",
       "\n",
       "[397 rows x 1 columns]"
      ]
     },
     "execution_count": 18,
     "metadata": {},
     "output_type": "execute_result"
    }
   ],
   "source": [
    "df"
   ]
  },
  {
   "cell_type": "code",
   "execution_count": 21,
   "metadata": {},
   "outputs": [],
   "source": [
    "result = sm.tsa.seasonal_decompose(df, model=\"moltiplicative\")\n",
    "\n",
    "df_component = (\n",
    "    df.assign(\n",
    "        trend = result.trend,\n",
    "        seasonal = result.seasonal,\n",
    "        residual = result.resid\n",
    "    ).dropna()\n",
    ")"
   ]
  },
  {
   "cell_type": "code",
   "execution_count": 22,
   "metadata": {},
   "outputs": [
    {
     "data": {
      "application/vnd.microsoft.datawrangler.viewer.v0+json": {
       "columns": [
        {
         "name": "DATE",
         "rawType": "datetime64[ns]",
         "type": "datetime"
        },
        {
         "name": "IPG2211A2N",
         "rawType": "float64",
         "type": "float"
        }
       ],
       "conversionMethod": "pd.DataFrame",
       "ref": "c382afd9-94be-457b-aecf-5a8354326823",
       "rows": [
        [
         "1985-01-01 00:00:00",
         "72.5052"
        ],
        [
         "1985-02-01 00:00:00",
         "70.672"
        ],
        [
         "1985-03-01 00:00:00",
         "62.4502"
        ],
        [
         "1985-04-01 00:00:00",
         "57.4714"
        ],
        [
         "1985-05-01 00:00:00",
         "55.3151"
        ],
        [
         "1985-06-01 00:00:00",
         "58.0904"
        ],
        [
         "1985-07-01 00:00:00",
         "62.6202"
        ],
        [
         "1985-08-01 00:00:00",
         "63.2485"
        ],
        [
         "1985-09-01 00:00:00",
         "60.5846"
        ],
        [
         "1985-10-01 00:00:00",
         "56.3154"
        ],
        [
         "1985-11-01 00:00:00",
         "58.0005"
        ],
        [
         "1985-12-01 00:00:00",
         "68.7145"
        ],
        [
         "1986-01-01 00:00:00",
         "73.3057"
        ],
        [
         "1986-02-01 00:00:00",
         "67.9869"
        ],
        [
         "1986-03-01 00:00:00",
         "62.2221"
        ],
        [
         "1986-04-01 00:00:00",
         "57.0329"
        ],
        [
         "1986-05-01 00:00:00",
         "55.8137"
        ],
        [
         "1986-06-01 00:00:00",
         "59.9005"
        ],
        [
         "1986-07-01 00:00:00",
         "65.7655"
        ],
        [
         "1986-08-01 00:00:00",
         "64.4816"
        ],
        [
         "1986-09-01 00:00:00",
         "61.0005"
        ],
        [
         "1986-10-01 00:00:00",
         "57.5322"
        ],
        [
         "1986-11-01 00:00:00",
         "59.3417"
        ],
        [
         "1986-12-01 00:00:00",
         "68.1354"
        ],
        [
         "1987-01-01 00:00:00",
         "73.8152"
        ],
        [
         "1987-02-01 00:00:00",
         "70.062"
        ],
        [
         "1987-03-01 00:00:00",
         "65.61"
        ],
        [
         "1987-04-01 00:00:00",
         "60.1586"
        ],
        [
         "1987-05-01 00:00:00",
         "58.8734"
        ],
        [
         "1987-06-01 00:00:00",
         "63.8918"
        ],
        [
         "1987-07-01 00:00:00",
         "68.8694"
        ],
        [
         "1987-08-01 00:00:00",
         "70.0669"
        ],
        [
         "1987-09-01 00:00:00",
         "64.1151"
        ],
        [
         "1987-10-01 00:00:00",
         "60.3789"
        ],
        [
         "1987-11-01 00:00:00",
         "62.4643"
        ],
        [
         "1987-12-01 00:00:00",
         "70.5777"
        ],
        [
         "1988-01-01 00:00:00",
         "79.8703"
        ],
        [
         "1988-02-01 00:00:00",
         "76.1622"
        ],
        [
         "1988-03-01 00:00:00",
         "70.2928"
        ],
        [
         "1988-04-01 00:00:00",
         "63.2384"
        ],
        [
         "1988-05-01 00:00:00",
         "61.4065"
        ],
        [
         "1988-06-01 00:00:00",
         "67.1097"
        ],
        [
         "1988-07-01 00:00:00",
         "72.9816"
        ],
        [
         "1988-08-01 00:00:00",
         "75.7655"
        ],
        [
         "1988-09-01 00:00:00",
         "67.5152"
        ],
        [
         "1988-10-01 00:00:00",
         "63.2832"
        ],
        [
         "1988-11-01 00:00:00",
         "65.1078"
        ],
        [
         "1988-12-01 00:00:00",
         "73.8631"
        ],
        [
         "1989-01-01 00:00:00",
         "77.9188"
        ],
        [
         "1989-02-01 00:00:00",
         "76.6822"
        ]
       ],
       "shape": {
        "columns": 1,
        "rows": 397
       }
      },
      "text/html": [
       "<div>\n",
       "<style scoped>\n",
       "    .dataframe tbody tr th:only-of-type {\n",
       "        vertical-align: middle;\n",
       "    }\n",
       "\n",
       "    .dataframe tbody tr th {\n",
       "        vertical-align: top;\n",
       "    }\n",
       "\n",
       "    .dataframe thead th {\n",
       "        text-align: right;\n",
       "    }\n",
       "</style>\n",
       "<table border=\"1\" class=\"dataframe\">\n",
       "  <thead>\n",
       "    <tr style=\"text-align: right;\">\n",
       "      <th></th>\n",
       "      <th>IPG2211A2N</th>\n",
       "    </tr>\n",
       "    <tr>\n",
       "      <th>DATE</th>\n",
       "      <th></th>\n",
       "    </tr>\n",
       "  </thead>\n",
       "  <tbody>\n",
       "    <tr>\n",
       "      <th>1985-01-01</th>\n",
       "      <td>72.5052</td>\n",
       "    </tr>\n",
       "    <tr>\n",
       "      <th>1985-02-01</th>\n",
       "      <td>70.6720</td>\n",
       "    </tr>\n",
       "    <tr>\n",
       "      <th>1985-03-01</th>\n",
       "      <td>62.4502</td>\n",
       "    </tr>\n",
       "    <tr>\n",
       "      <th>1985-04-01</th>\n",
       "      <td>57.4714</td>\n",
       "    </tr>\n",
       "    <tr>\n",
       "      <th>1985-05-01</th>\n",
       "      <td>55.3151</td>\n",
       "    </tr>\n",
       "    <tr>\n",
       "      <th>...</th>\n",
       "      <td>...</td>\n",
       "    </tr>\n",
       "    <tr>\n",
       "      <th>2017-09-01</th>\n",
       "      <td>98.6154</td>\n",
       "    </tr>\n",
       "    <tr>\n",
       "      <th>2017-10-01</th>\n",
       "      <td>93.6137</td>\n",
       "    </tr>\n",
       "    <tr>\n",
       "      <th>2017-11-01</th>\n",
       "      <td>97.3359</td>\n",
       "    </tr>\n",
       "    <tr>\n",
       "      <th>2017-12-01</th>\n",
       "      <td>114.7212</td>\n",
       "    </tr>\n",
       "    <tr>\n",
       "      <th>2018-01-01</th>\n",
       "      <td>129.4048</td>\n",
       "    </tr>\n",
       "  </tbody>\n",
       "</table>\n",
       "<p>397 rows × 1 columns</p>\n",
       "</div>"
      ],
      "text/plain": [
       "            IPG2211A2N\n",
       "DATE                  \n",
       "1985-01-01     72.5052\n",
       "1985-02-01     70.6720\n",
       "1985-03-01     62.4502\n",
       "1985-04-01     57.4714\n",
       "1985-05-01     55.3151\n",
       "...                ...\n",
       "2017-09-01     98.6154\n",
       "2017-10-01     93.6137\n",
       "2017-11-01     97.3359\n",
       "2017-12-01    114.7212\n",
       "2018-01-01    129.4048\n",
       "\n",
       "[397 rows x 1 columns]"
      ]
     },
     "execution_count": 22,
     "metadata": {},
     "output_type": "execute_result"
    }
   ],
   "source": [
    "df"
   ]
  },
  {
   "cell_type": "code",
   "execution_count": 23,
   "metadata": {},
   "outputs": [
    {
     "data": {
      "application/vnd.microsoft.datawrangler.viewer.v0+json": {
       "columns": [
        {
         "name": "DATE",
         "rawType": "datetime64[ns]",
         "type": "datetime"
        },
        {
         "name": "IPG2211A2N",
         "rawType": "float64",
         "type": "float"
        },
        {
         "name": "trend",
         "rawType": "float64",
         "type": "float"
        },
        {
         "name": "seasonal",
         "rawType": "float64",
         "type": "float"
        },
        {
         "name": "residual",
         "rawType": "float64",
         "type": "float"
        }
       ],
       "conversionMethod": "pd.DataFrame",
       "ref": "b5e8d4f6-631f-4bbd-b0c5-dc3a0a161c98",
       "rows": [
        [
         "1985-07-01 00:00:00",
         "62.6202",
         "62.19902083333333",
         "1.066145328795366",
         "0.9443097940265681"
        ],
        [
         "1985-08-01 00:00:00",
         "63.2485",
         "62.12049583333334",
         "1.0680809787889372",
         "0.9532594863569832"
        ],
        [
         "1985-09-01 00:00:00",
         "60.5846",
         "61.9991125",
         "0.9716817526177215",
         "1.005663585880045"
        ],
        [
         "1985-10-01 00:00:00",
         "56.3154",
         "61.9713375",
         "0.90069077179824",
         "1.0089289659489753"
        ],
        [
         "1985-11-01 00:00:00",
         "58.0005",
         "61.97384166666666",
         "0.9330496877017919",
         "1.0030406810147143"
        ],
        [
         "1985-12-01 00:00:00",
         "68.7145",
         "62.0700375",
         "1.0716676325027834",
         "1.0330141465787854"
        ],
        [
         "1986-01-01 00:00:00",
         "73.3057",
         "62.2765125",
         "1.1491718929453014",
         "1.0243030502138806"
        ],
        [
         "1986-02-01 00:00:00",
         "67.9869",
         "62.45894583333334",
         "1.0658751721834645",
         "1.0212315957091287"
        ],
        [
         "1986-03-01 00:00:00",
         "62.2221",
         "62.527654166666665",
         "0.9959853970532373",
         "0.9991243832302666"
        ],
        [
         "1986-04-01 00:00:00",
         "57.0329",
         "62.595683333333334",
         "0.8960270546312914",
         "1.0168571514421225"
        ],
        [
         "1986-05-01 00:00:00",
         "55.8137",
         "62.70226666666667",
         "0.8967243389269015",
         "0.9926556421914349"
        ],
        [
         "1986-06-01 00:00:00",
         "59.9005",
         "62.734020833333325",
         "0.9848999920549648",
         "0.9694718199487254"
        ],
        [
         "1986-07-01 00:00:00",
         "65.7655",
         "62.731120833333335",
         "1.066145328795366",
         "0.9833285996792206"
        ],
        [
         "1986-08-01 00:00:00",
         "64.4816",
         "62.838812499999996",
         "1.0680809787889372",
         "0.9607350939008478"
        ],
        [
         "1986-09-01 00:00:00",
         "61.0005",
         "63.06643749999999",
         "0.9716817526177215",
         "0.9954307407485543"
        ],
        [
         "1986-10-01 00:00:00",
         "57.5322",
         "63.33783749999999",
         "0.90069077179824",
         "1.0084910234809903"
        ],
        [
         "1986-11-01 00:00:00",
         "59.3417",
         "63.5955625",
         "0.9330496877017919",
         "1.0000653928670262"
        ],
        [
         "1986-12-01 00:00:00",
         "68.1354",
         "63.88935416666666",
         "1.0716676325027834",
         "0.9951400336109119"
        ],
        [
         "1987-01-01 00:00:00",
         "73.8152",
         "64.1849875",
         "1.1491718929453014",
         "1.0007540229113565"
        ],
        [
         "1987-02-01 00:00:00",
         "70.062",
         "64.5470375",
         "1.0658751721834645",
         "1.018356571109808"
        ],
        [
         "1987-03-01 00:00:00",
         "65.61",
         "64.90953333333334",
         "0.9959853970532373",
         "1.0148657125932894"
        ],
        [
         "1987-04-01 00:00:00",
         "60.1586",
         "65.15792083333334",
         "0.8960270546312914",
         "1.0304083758452098"
        ],
        [
         "1987-05-01 00:00:00",
         "58.8734",
         "65.40664166666666",
         "0.8967243389269015",
         "1.0037794707750411"
        ],
        [
         "1987-06-01 00:00:00",
         "63.8918",
         "65.6385125",
         "0.9848999920549648",
         "0.988312433520341"
        ],
        [
         "1987-07-01 00:00:00",
         "68.8694",
         "65.99257083333335",
         "1.066145328795366",
         "0.9788470666343739"
        ],
        [
         "1987-08-01 00:00:00",
         "70.0669",
         "66.49904166666667",
         "1.0680809787889372",
         "0.9864914731455103"
        ],
        [
         "1987-09-01 00:00:00",
         "64.1151",
         "66.94833333333334",
         "0.9716817526177215",
         "0.9855904962189694"
        ],
        [
         "1987-10-01 00:00:00",
         "60.3789",
         "67.271775",
         "0.90069077179824",
         "0.9964983791227808"
        ],
        [
         "1987-11-01 00:00:00",
         "62.4643",
         "67.50564583333333",
         "0.9330496877017919",
         "0.9917152898401376"
        ],
        [
         "1987-12-01 00:00:00",
         "70.5777",
         "67.74527083333334",
         "1.0716676325027834",
         "0.972139084399476"
        ],
        [
         "1988-01-01 00:00:00",
         "79.8703",
         "68.05069166666665",
         "1.1491718929453014",
         "1.021333969401826"
        ],
        [
         "1988-02-01 00:00:00",
         "76.1622",
         "68.459475",
         "1.0658751721834645",
         "1.0437574059070767"
        ],
        [
         "1988-03-01 00:00:00",
         "70.2928",
         "68.83858749999999",
         "0.9959853970532373",
         "1.0252408964693707"
        ],
        [
         "1988-04-01 00:00:00",
         "63.2384",
         "69.10127083333333",
         "0.8960270546312914",
         "1.0213479365693034"
        ],
        [
         "1988-05-01 00:00:00",
         "61.4065",
         "69.33242916666666",
         "0.8967243389269015",
         "0.987686164735367"
        ],
        [
         "1988-06-01 00:00:00",
         "67.1097",
         "69.57946666666666",
         "0.9848999920549648",
         "0.9792916871097483"
        ],
        [
         "1988-07-01 00:00:00",
         "72.9816",
         "69.63504583333334",
         "1.066145328795366",
         "0.9830352837618708"
        ],
        [
         "1988-08-01 00:00:00",
         "75.7655",
         "69.5754",
         "1.0680809787889372",
         "1.019557211663948"
        ],
        [
         "1988-09-01 00:00:00",
         "67.5152",
         "69.72454583333335",
         "0.9716817526177215",
         "0.996533303956204"
        ],
        [
         "1988-10-01 00:00:00",
         "63.2832",
         "69.92992916666668",
         "0.90069077179824",
         "1.0047306022525069"
        ],
        [
         "1988-11-01 00:00:00",
         "65.1078",
         "70.10294583333334",
         "0.9330496877017919",
         "0.9953870375028238"
        ],
        [
         "1988-12-01 00:00:00",
         "73.8631",
         "70.25482916666667",
         "1.0716676325027834",
         "0.9810502094068082"
        ],
        [
         "1989-01-01 00:00:00",
         "77.9188",
         "70.3552875",
         "1.1491718929453014",
         "0.9637414056688537"
        ],
        [
         "1989-02-01 00:00:00",
         "76.6822",
         "70.36894583333334",
         "1.0658751721834645",
         "1.0223678241888994"
        ],
        [
         "1989-03-01 00:00:00",
         "73.3523",
         "70.41350416666667",
         "0.9959853970532373",
         "1.045935267933985"
        ],
        [
         "1989-04-01 00:00:00",
         "65.1081",
         "70.59602083333334",
         "0.8960270546312914",
         "1.0292803371329484"
        ],
        [
         "1989-05-01 00:00:00",
         "63.6892",
         "70.86906666666668",
         "0.8967243389269015",
         "1.0021901338446677"
        ],
        [
         "1989-06-01 00:00:00",
         "68.4722",
         "71.464675",
         "0.9848999920549648",
         "0.9728160449609857"
        ],
        [
         "1989-07-01 00:00:00",
         "74.0301",
         "72.16354166666667",
         "1.066145328795366",
         "0.9622193541493161"
        ],
        [
         "1989-08-01 00:00:00",
         "75.0448",
         "72.45234999999998",
         "1.0680809787889372",
         "0.9697592866574725"
        ]
       ],
       "shape": {
        "columns": 4,
        "rows": 385
       }
      },
      "text/html": [
       "<div>\n",
       "<style scoped>\n",
       "    .dataframe tbody tr th:only-of-type {\n",
       "        vertical-align: middle;\n",
       "    }\n",
       "\n",
       "    .dataframe tbody tr th {\n",
       "        vertical-align: top;\n",
       "    }\n",
       "\n",
       "    .dataframe thead th {\n",
       "        text-align: right;\n",
       "    }\n",
       "</style>\n",
       "<table border=\"1\" class=\"dataframe\">\n",
       "  <thead>\n",
       "    <tr style=\"text-align: right;\">\n",
       "      <th></th>\n",
       "      <th>IPG2211A2N</th>\n",
       "      <th>trend</th>\n",
       "      <th>seasonal</th>\n",
       "      <th>residual</th>\n",
       "    </tr>\n",
       "    <tr>\n",
       "      <th>DATE</th>\n",
       "      <th></th>\n",
       "      <th></th>\n",
       "      <th></th>\n",
       "      <th></th>\n",
       "    </tr>\n",
       "  </thead>\n",
       "  <tbody>\n",
       "    <tr>\n",
       "      <th>1985-07-01</th>\n",
       "      <td>62.6202</td>\n",
       "      <td>62.199021</td>\n",
       "      <td>1.066145</td>\n",
       "      <td>0.944310</td>\n",
       "    </tr>\n",
       "    <tr>\n",
       "      <th>1985-08-01</th>\n",
       "      <td>63.2485</td>\n",
       "      <td>62.120496</td>\n",
       "      <td>1.068081</td>\n",
       "      <td>0.953259</td>\n",
       "    </tr>\n",
       "    <tr>\n",
       "      <th>1985-09-01</th>\n",
       "      <td>60.5846</td>\n",
       "      <td>61.999113</td>\n",
       "      <td>0.971682</td>\n",
       "      <td>1.005664</td>\n",
       "    </tr>\n",
       "    <tr>\n",
       "      <th>1985-10-01</th>\n",
       "      <td>56.3154</td>\n",
       "      <td>61.971337</td>\n",
       "      <td>0.900691</td>\n",
       "      <td>1.008929</td>\n",
       "    </tr>\n",
       "    <tr>\n",
       "      <th>1985-11-01</th>\n",
       "      <td>58.0005</td>\n",
       "      <td>61.973842</td>\n",
       "      <td>0.933050</td>\n",
       "      <td>1.003041</td>\n",
       "    </tr>\n",
       "    <tr>\n",
       "      <th>...</th>\n",
       "      <td>...</td>\n",
       "      <td>...</td>\n",
       "      <td>...</td>\n",
       "      <td>...</td>\n",
       "    </tr>\n",
       "    <tr>\n",
       "      <th>2017-03-01</th>\n",
       "      <td>101.0396</td>\n",
       "      <td>101.407296</td>\n",
       "      <td>0.995985</td>\n",
       "      <td>1.000390</td>\n",
       "    </tr>\n",
       "    <tr>\n",
       "      <th>2017-04-01</th>\n",
       "      <td>88.3530</td>\n",
       "      <td>101.323075</td>\n",
       "      <td>0.896027</td>\n",
       "      <td>0.973177</td>\n",
       "    </tr>\n",
       "    <tr>\n",
       "      <th>2017-05-01</th>\n",
       "      <td>92.0805</td>\n",
       "      <td>101.596946</td>\n",
       "      <td>0.896724</td>\n",
       "      <td>1.010713</td>\n",
       "    </tr>\n",
       "    <tr>\n",
       "      <th>2017-06-01</th>\n",
       "      <td>102.1532</td>\n",
       "      <td>101.863517</td>\n",
       "      <td>0.984900</td>\n",
       "      <td>1.018219</td>\n",
       "    </tr>\n",
       "    <tr>\n",
       "      <th>2017-07-01</th>\n",
       "      <td>112.1538</td>\n",
       "      <td>102.551271</td>\n",
       "      <td>1.066145</td>\n",
       "      <td>1.025785</td>\n",
       "    </tr>\n",
       "  </tbody>\n",
       "</table>\n",
       "<p>385 rows × 4 columns</p>\n",
       "</div>"
      ],
      "text/plain": [
       "            IPG2211A2N       trend  seasonal  residual\n",
       "DATE                                                  \n",
       "1985-07-01     62.6202   62.199021  1.066145  0.944310\n",
       "1985-08-01     63.2485   62.120496  1.068081  0.953259\n",
       "1985-09-01     60.5846   61.999113  0.971682  1.005664\n",
       "1985-10-01     56.3154   61.971337  0.900691  1.008929\n",
       "1985-11-01     58.0005   61.973842  0.933050  1.003041\n",
       "...                ...         ...       ...       ...\n",
       "2017-03-01    101.0396  101.407296  0.995985  1.000390\n",
       "2017-04-01     88.3530  101.323075  0.896027  0.973177\n",
       "2017-05-01     92.0805  101.596946  0.896724  1.010713\n",
       "2017-06-01    102.1532  101.863517  0.984900  1.018219\n",
       "2017-07-01    112.1538  102.551271  1.066145  1.025785\n",
       "\n",
       "[385 rows x 4 columns]"
      ]
     },
     "execution_count": 23,
     "metadata": {},
     "output_type": "execute_result"
    }
   ],
   "source": [
    "df_component"
   ]
  },
  {
   "cell_type": "code",
   "execution_count": 28,
   "metadata": {},
   "outputs": [
    {
     "name": "stdout",
     "output_type": "stream",
     "text": [
      "Requirement already satisfied: nbformat in c:\\users\\lucam\\appdata\\local\\programs\\python\\python311\\lib\\site-packages (5.10.4)\n",
      "Requirement already satisfied: fastjsonschema>=2.15 in c:\\users\\lucam\\appdata\\local\\programs\\python\\python311\\lib\\site-packages (from nbformat) (2.21.1)\n",
      "Requirement already satisfied: jsonschema>=2.6 in c:\\users\\lucam\\appdata\\local\\programs\\python\\python311\\lib\\site-packages (from nbformat) (4.23.0)\n",
      "Requirement already satisfied: jupyter-core!=5.0.*,>=4.12 in c:\\users\\lucam\\appdata\\roaming\\python\\python311\\site-packages (from nbformat) (5.7.2)\n",
      "Requirement already satisfied: traitlets>=5.1 in c:\\users\\lucam\\appdata\\roaming\\python\\python311\\site-packages (from nbformat) (5.14.3)\n",
      "Requirement already satisfied: attrs>=22.2.0 in c:\\users\\lucam\\appdata\\local\\programs\\python\\python311\\lib\\site-packages (from jsonschema>=2.6->nbformat) (25.1.0)\n",
      "Requirement already satisfied: jsonschema-specifications>=2023.03.6 in c:\\users\\lucam\\appdata\\local\\programs\\python\\python311\\lib\\site-packages (from jsonschema>=2.6->nbformat) (2024.10.1)\n",
      "Requirement already satisfied: referencing>=0.28.4 in c:\\users\\lucam\\appdata\\local\\programs\\python\\python311\\lib\\site-packages (from jsonschema>=2.6->nbformat) (0.36.2)\n",
      "Requirement already satisfied: rpds-py>=0.7.1 in c:\\users\\lucam\\appdata\\local\\programs\\python\\python311\\lib\\site-packages (from jsonschema>=2.6->nbformat) (0.23.0)\n",
      "Requirement already satisfied: platformdirs>=2.5 in c:\\users\\lucam\\appdata\\roaming\\python\\python311\\site-packages (from jupyter-core!=5.0.*,>=4.12->nbformat) (4.3.6)\n",
      "Requirement already satisfied: pywin32>=300 in c:\\users\\lucam\\appdata\\roaming\\python\\python311\\site-packages (from jupyter-core!=5.0.*,>=4.12->nbformat) (308)\n",
      "Requirement already satisfied: typing-extensions>=4.4.0 in c:\\users\\lucam\\appdata\\roaming\\python\\python311\\site-packages (from referencing>=0.28.4->jsonschema>=2.6->nbformat) (4.12.2)\n"
     ]
    },
    {
     "name": "stderr",
     "output_type": "stream",
     "text": [
      "\n",
      "[notice] A new release of pip is available: 24.0 -> 25.0.1\n",
      "[notice] To update, run: python.exe -m pip install --upgrade pip\n"
     ]
    }
   ],
   "source": [
    "!pip install -U nbformat\n"
   ]
  },
  {
   "cell_type": "code",
   "execution_count": 29,
   "metadata": {},
   "outputs": [
    {
     "ename": "ValueError",
     "evalue": "Mime type rendering requires nbformat>=4.2.0 but it is not installed",
     "output_type": "error",
     "traceback": [
      "\u001b[1;31m---------------------------------------------------------------------------\u001b[0m",
      "\u001b[1;31mValueError\u001b[0m                                Traceback (most recent call last)",
      "File \u001b[1;32m~\\AppData\\Roaming\\Python\\Python311\\site-packages\\IPython\\core\\formatters.py:984\u001b[0m, in \u001b[0;36mIPythonDisplayFormatter.__call__\u001b[1;34m(self, obj)\u001b[0m\n\u001b[0;32m    982\u001b[0m method \u001b[38;5;241m=\u001b[39m get_real_method(obj, \u001b[38;5;28mself\u001b[39m\u001b[38;5;241m.\u001b[39mprint_method)\n\u001b[0;32m    983\u001b[0m \u001b[38;5;28;01mif\u001b[39;00m method \u001b[38;5;129;01mis\u001b[39;00m \u001b[38;5;129;01mnot\u001b[39;00m \u001b[38;5;28;01mNone\u001b[39;00m:\n\u001b[1;32m--> 984\u001b[0m     \u001b[43mmethod\u001b[49m\u001b[43m(\u001b[49m\u001b[43m)\u001b[49m\n\u001b[0;32m    985\u001b[0m     \u001b[38;5;28;01mreturn\u001b[39;00m \u001b[38;5;28;01mTrue\u001b[39;00m\n",
      "File \u001b[1;32mc:\\Users\\lucam\\AppData\\Local\\Programs\\Python\\Python311\\Lib\\site-packages\\plotly\\basedatatypes.py:833\u001b[0m, in \u001b[0;36mBaseFigure._ipython_display_\u001b[1;34m(self)\u001b[0m\n\u001b[0;32m    830\u001b[0m \u001b[38;5;28;01mimport\u001b[39;00m\u001b[38;5;250m \u001b[39m\u001b[38;5;21;01mplotly\u001b[39;00m\u001b[38;5;21;01m.\u001b[39;00m\u001b[38;5;21;01mio\u001b[39;00m\u001b[38;5;250m \u001b[39m\u001b[38;5;28;01mas\u001b[39;00m\u001b[38;5;250m \u001b[39m\u001b[38;5;21;01mpio\u001b[39;00m\n\u001b[0;32m    832\u001b[0m \u001b[38;5;28;01mif\u001b[39;00m pio\u001b[38;5;241m.\u001b[39mrenderers\u001b[38;5;241m.\u001b[39mrender_on_display \u001b[38;5;129;01mand\u001b[39;00m pio\u001b[38;5;241m.\u001b[39mrenderers\u001b[38;5;241m.\u001b[39mdefault:\n\u001b[1;32m--> 833\u001b[0m     \u001b[43mpio\u001b[49m\u001b[38;5;241;43m.\u001b[39;49m\u001b[43mshow\u001b[49m\u001b[43m(\u001b[49m\u001b[38;5;28;43mself\u001b[39;49m\u001b[43m)\u001b[49m\n\u001b[0;32m    834\u001b[0m \u001b[38;5;28;01melse\u001b[39;00m:\n\u001b[0;32m    835\u001b[0m     \u001b[38;5;28mprint\u001b[39m(\u001b[38;5;28mrepr\u001b[39m(\u001b[38;5;28mself\u001b[39m))\n",
      "File \u001b[1;32mc:\\Users\\lucam\\AppData\\Local\\Programs\\Python\\Python311\\Lib\\site-packages\\plotly\\io\\_renderers.py:425\u001b[0m, in \u001b[0;36mshow\u001b[1;34m(fig, renderer, validate, **kwargs)\u001b[0m\n\u001b[0;32m    420\u001b[0m     \u001b[38;5;28;01mraise\u001b[39;00m \u001b[38;5;167;01mValueError\u001b[39;00m(\n\u001b[0;32m    421\u001b[0m         \u001b[38;5;124m\"\u001b[39m\u001b[38;5;124mMime type rendering requires ipython but it is not installed\u001b[39m\u001b[38;5;124m\"\u001b[39m\n\u001b[0;32m    422\u001b[0m     )\n\u001b[0;32m    424\u001b[0m \u001b[38;5;28;01mif\u001b[39;00m \u001b[38;5;129;01mnot\u001b[39;00m nbformat \u001b[38;5;129;01mor\u001b[39;00m Version(nbformat\u001b[38;5;241m.\u001b[39m__version__) \u001b[38;5;241m<\u001b[39m Version(\u001b[38;5;124m\"\u001b[39m\u001b[38;5;124m4.2.0\u001b[39m\u001b[38;5;124m\"\u001b[39m):\n\u001b[1;32m--> 425\u001b[0m     \u001b[38;5;28;01mraise\u001b[39;00m \u001b[38;5;167;01mValueError\u001b[39;00m(\n\u001b[0;32m    426\u001b[0m         \u001b[38;5;124m\"\u001b[39m\u001b[38;5;124mMime type rendering requires nbformat>=4.2.0 but it is not installed\u001b[39m\u001b[38;5;124m\"\u001b[39m\n\u001b[0;32m    427\u001b[0m     )\n\u001b[0;32m    429\u001b[0m display_jupyter_version_warnings()\n\u001b[0;32m    431\u001b[0m ipython_display\u001b[38;5;241m.\u001b[39mdisplay(bundle, raw\u001b[38;5;241m=\u001b[39m\u001b[38;5;28;01mTrue\u001b[39;00m)\n",
      "\u001b[1;31mValueError\u001b[0m: Mime type rendering requires nbformat>=4.2.0 but it is not installed"
     ]
    },
    {
     "data": {
      "application/vnd.plotly.v1+json": {
       "config": {
        "plotlyServerURL": "https://plot.ly"
       },
       "data": [
        {
         "fillpattern": {
          "shape": ""
         },
         "hovertemplate": "x=%{x}<br>y=%{y}<extra></extra>",
         "legendgroup": "",
         "line": {
          "color": "#636efa"
         },
         "marker": {
          "symbol": "circle"
         },
         "mode": "lines",
         "name": "",
         "orientation": "v",
         "showlegend": false,
         "stackgroup": "1",
         "type": "scatter",
         "x": [
          "1985-01-01T00:00:00.000000000",
          "1985-02-01T00:00:00.000000000",
          "1985-03-01T00:00:00.000000000",
          "1985-04-01T00:00:00.000000000",
          "1985-05-01T00:00:00.000000000",
          "1985-06-01T00:00:00.000000000",
          "1985-07-01T00:00:00.000000000",
          "1985-08-01T00:00:00.000000000",
          "1985-09-01T00:00:00.000000000",
          "1985-10-01T00:00:00.000000000",
          "1985-11-01T00:00:00.000000000",
          "1985-12-01T00:00:00.000000000",
          "1986-01-01T00:00:00.000000000",
          "1986-02-01T00:00:00.000000000",
          "1986-03-01T00:00:00.000000000",
          "1986-04-01T00:00:00.000000000",
          "1986-05-01T00:00:00.000000000",
          "1986-06-01T00:00:00.000000000",
          "1986-07-01T00:00:00.000000000",
          "1986-08-01T00:00:00.000000000",
          "1986-09-01T00:00:00.000000000",
          "1986-10-01T00:00:00.000000000",
          "1986-11-01T00:00:00.000000000",
          "1986-12-01T00:00:00.000000000",
          "1987-01-01T00:00:00.000000000",
          "1987-02-01T00:00:00.000000000",
          "1987-03-01T00:00:00.000000000",
          "1987-04-01T00:00:00.000000000",
          "1987-05-01T00:00:00.000000000",
          "1987-06-01T00:00:00.000000000",
          "1987-07-01T00:00:00.000000000",
          "1987-08-01T00:00:00.000000000",
          "1987-09-01T00:00:00.000000000",
          "1987-10-01T00:00:00.000000000",
          "1987-11-01T00:00:00.000000000",
          "1987-12-01T00:00:00.000000000",
          "1988-01-01T00:00:00.000000000",
          "1988-02-01T00:00:00.000000000",
          "1988-03-01T00:00:00.000000000",
          "1988-04-01T00:00:00.000000000",
          "1988-05-01T00:00:00.000000000",
          "1988-06-01T00:00:00.000000000",
          "1988-07-01T00:00:00.000000000",
          "1988-08-01T00:00:00.000000000",
          "1988-09-01T00:00:00.000000000",
          "1988-10-01T00:00:00.000000000",
          "1988-11-01T00:00:00.000000000",
          "1988-12-01T00:00:00.000000000",
          "1989-01-01T00:00:00.000000000",
          "1989-02-01T00:00:00.000000000",
          "1989-03-01T00:00:00.000000000",
          "1989-04-01T00:00:00.000000000",
          "1989-05-01T00:00:00.000000000",
          "1989-06-01T00:00:00.000000000",
          "1989-07-01T00:00:00.000000000",
          "1989-08-01T00:00:00.000000000",
          "1989-09-01T00:00:00.000000000",
          "1989-10-01T00:00:00.000000000",
          "1989-11-01T00:00:00.000000000",
          "1989-12-01T00:00:00.000000000",
          "1990-01-01T00:00:00.000000000",
          "1990-02-01T00:00:00.000000000",
          "1990-03-01T00:00:00.000000000",
          "1990-04-01T00:00:00.000000000",
          "1990-05-01T00:00:00.000000000",
          "1990-06-01T00:00:00.000000000",
          "1990-07-01T00:00:00.000000000",
          "1990-08-01T00:00:00.000000000",
          "1990-09-01T00:00:00.000000000",
          "1990-10-01T00:00:00.000000000",
          "1990-11-01T00:00:00.000000000",
          "1990-12-01T00:00:00.000000000",
          "1991-01-01T00:00:00.000000000",
          "1991-02-01T00:00:00.000000000",
          "1991-03-01T00:00:00.000000000",
          "1991-04-01T00:00:00.000000000",
          "1991-05-01T00:00:00.000000000",
          "1991-06-01T00:00:00.000000000",
          "1991-07-01T00:00:00.000000000",
          "1991-08-01T00:00:00.000000000",
          "1991-09-01T00:00:00.000000000",
          "1991-10-01T00:00:00.000000000",
          "1991-11-01T00:00:00.000000000",
          "1991-12-01T00:00:00.000000000",
          "1992-01-01T00:00:00.000000000",
          "1992-02-01T00:00:00.000000000",
          "1992-03-01T00:00:00.000000000",
          "1992-04-01T00:00:00.000000000",
          "1992-05-01T00:00:00.000000000",
          "1992-06-01T00:00:00.000000000",
          "1992-07-01T00:00:00.000000000",
          "1992-08-01T00:00:00.000000000",
          "1992-09-01T00:00:00.000000000",
          "1992-10-01T00:00:00.000000000",
          "1992-11-01T00:00:00.000000000",
          "1992-12-01T00:00:00.000000000",
          "1993-01-01T00:00:00.000000000",
          "1993-02-01T00:00:00.000000000",
          "1993-03-01T00:00:00.000000000",
          "1993-04-01T00:00:00.000000000",
          "1993-05-01T00:00:00.000000000",
          "1993-06-01T00:00:00.000000000",
          "1993-07-01T00:00:00.000000000",
          "1993-08-01T00:00:00.000000000",
          "1993-09-01T00:00:00.000000000",
          "1993-10-01T00:00:00.000000000",
          "1993-11-01T00:00:00.000000000",
          "1993-12-01T00:00:00.000000000",
          "1994-01-01T00:00:00.000000000",
          "1994-02-01T00:00:00.000000000",
          "1994-03-01T00:00:00.000000000",
          "1994-04-01T00:00:00.000000000",
          "1994-05-01T00:00:00.000000000",
          "1994-06-01T00:00:00.000000000",
          "1994-07-01T00:00:00.000000000",
          "1994-08-01T00:00:00.000000000",
          "1994-09-01T00:00:00.000000000",
          "1994-10-01T00:00:00.000000000",
          "1994-11-01T00:00:00.000000000",
          "1994-12-01T00:00:00.000000000",
          "1995-01-01T00:00:00.000000000",
          "1995-02-01T00:00:00.000000000",
          "1995-03-01T00:00:00.000000000",
          "1995-04-01T00:00:00.000000000",
          "1995-05-01T00:00:00.000000000",
          "1995-06-01T00:00:00.000000000",
          "1995-07-01T00:00:00.000000000",
          "1995-08-01T00:00:00.000000000",
          "1995-09-01T00:00:00.000000000",
          "1995-10-01T00:00:00.000000000",
          "1995-11-01T00:00:00.000000000",
          "1995-12-01T00:00:00.000000000",
          "1996-01-01T00:00:00.000000000",
          "1996-02-01T00:00:00.000000000",
          "1996-03-01T00:00:00.000000000",
          "1996-04-01T00:00:00.000000000",
          "1996-05-01T00:00:00.000000000",
          "1996-06-01T00:00:00.000000000",
          "1996-07-01T00:00:00.000000000",
          "1996-08-01T00:00:00.000000000",
          "1996-09-01T00:00:00.000000000",
          "1996-10-01T00:00:00.000000000",
          "1996-11-01T00:00:00.000000000",
          "1996-12-01T00:00:00.000000000",
          "1997-01-01T00:00:00.000000000",
          "1997-02-01T00:00:00.000000000",
          "1997-03-01T00:00:00.000000000",
          "1997-04-01T00:00:00.000000000",
          "1997-05-01T00:00:00.000000000",
          "1997-06-01T00:00:00.000000000",
          "1997-07-01T00:00:00.000000000",
          "1997-08-01T00:00:00.000000000",
          "1997-09-01T00:00:00.000000000",
          "1997-10-01T00:00:00.000000000",
          "1997-11-01T00:00:00.000000000",
          "1997-12-01T00:00:00.000000000",
          "1998-01-01T00:00:00.000000000",
          "1998-02-01T00:00:00.000000000",
          "1998-03-01T00:00:00.000000000",
          "1998-04-01T00:00:00.000000000",
          "1998-05-01T00:00:00.000000000",
          "1998-06-01T00:00:00.000000000",
          "1998-07-01T00:00:00.000000000",
          "1998-08-01T00:00:00.000000000",
          "1998-09-01T00:00:00.000000000",
          "1998-10-01T00:00:00.000000000",
          "1998-11-01T00:00:00.000000000",
          "1998-12-01T00:00:00.000000000",
          "1999-01-01T00:00:00.000000000",
          "1999-02-01T00:00:00.000000000",
          "1999-03-01T00:00:00.000000000",
          "1999-04-01T00:00:00.000000000",
          "1999-05-01T00:00:00.000000000",
          "1999-06-01T00:00:00.000000000",
          "1999-07-01T00:00:00.000000000",
          "1999-08-01T00:00:00.000000000",
          "1999-09-01T00:00:00.000000000",
          "1999-10-01T00:00:00.000000000",
          "1999-11-01T00:00:00.000000000",
          "1999-12-01T00:00:00.000000000",
          "2000-01-01T00:00:00.000000000",
          "2000-02-01T00:00:00.000000000",
          "2000-03-01T00:00:00.000000000",
          "2000-04-01T00:00:00.000000000",
          "2000-05-01T00:00:00.000000000",
          "2000-06-01T00:00:00.000000000",
          "2000-07-01T00:00:00.000000000",
          "2000-08-01T00:00:00.000000000",
          "2000-09-01T00:00:00.000000000",
          "2000-10-01T00:00:00.000000000",
          "2000-11-01T00:00:00.000000000",
          "2000-12-01T00:00:00.000000000",
          "2001-01-01T00:00:00.000000000",
          "2001-02-01T00:00:00.000000000",
          "2001-03-01T00:00:00.000000000",
          "2001-04-01T00:00:00.000000000",
          "2001-05-01T00:00:00.000000000",
          "2001-06-01T00:00:00.000000000",
          "2001-07-01T00:00:00.000000000",
          "2001-08-01T00:00:00.000000000",
          "2001-09-01T00:00:00.000000000",
          "2001-10-01T00:00:00.000000000",
          "2001-11-01T00:00:00.000000000",
          "2001-12-01T00:00:00.000000000",
          "2002-01-01T00:00:00.000000000",
          "2002-02-01T00:00:00.000000000",
          "2002-03-01T00:00:00.000000000",
          "2002-04-01T00:00:00.000000000",
          "2002-05-01T00:00:00.000000000",
          "2002-06-01T00:00:00.000000000",
          "2002-07-01T00:00:00.000000000",
          "2002-08-01T00:00:00.000000000",
          "2002-09-01T00:00:00.000000000",
          "2002-10-01T00:00:00.000000000",
          "2002-11-01T00:00:00.000000000",
          "2002-12-01T00:00:00.000000000",
          "2003-01-01T00:00:00.000000000",
          "2003-02-01T00:00:00.000000000",
          "2003-03-01T00:00:00.000000000",
          "2003-04-01T00:00:00.000000000",
          "2003-05-01T00:00:00.000000000",
          "2003-06-01T00:00:00.000000000",
          "2003-07-01T00:00:00.000000000",
          "2003-08-01T00:00:00.000000000",
          "2003-09-01T00:00:00.000000000",
          "2003-10-01T00:00:00.000000000",
          "2003-11-01T00:00:00.000000000",
          "2003-12-01T00:00:00.000000000",
          "2004-01-01T00:00:00.000000000",
          "2004-02-01T00:00:00.000000000",
          "2004-03-01T00:00:00.000000000",
          "2004-04-01T00:00:00.000000000",
          "2004-05-01T00:00:00.000000000",
          "2004-06-01T00:00:00.000000000",
          "2004-07-01T00:00:00.000000000",
          "2004-08-01T00:00:00.000000000",
          "2004-09-01T00:00:00.000000000",
          "2004-10-01T00:00:00.000000000",
          "2004-11-01T00:00:00.000000000",
          "2004-12-01T00:00:00.000000000",
          "2005-01-01T00:00:00.000000000",
          "2005-02-01T00:00:00.000000000",
          "2005-03-01T00:00:00.000000000",
          "2005-04-01T00:00:00.000000000",
          "2005-05-01T00:00:00.000000000",
          "2005-06-01T00:00:00.000000000",
          "2005-07-01T00:00:00.000000000",
          "2005-08-01T00:00:00.000000000",
          "2005-09-01T00:00:00.000000000",
          "2005-10-01T00:00:00.000000000",
          "2005-11-01T00:00:00.000000000",
          "2005-12-01T00:00:00.000000000",
          "2006-01-01T00:00:00.000000000",
          "2006-02-01T00:00:00.000000000",
          "2006-03-01T00:00:00.000000000",
          "2006-04-01T00:00:00.000000000",
          "2006-05-01T00:00:00.000000000",
          "2006-06-01T00:00:00.000000000",
          "2006-07-01T00:00:00.000000000",
          "2006-08-01T00:00:00.000000000",
          "2006-09-01T00:00:00.000000000",
          "2006-10-01T00:00:00.000000000",
          "2006-11-01T00:00:00.000000000",
          "2006-12-01T00:00:00.000000000",
          "2007-01-01T00:00:00.000000000",
          "2007-02-01T00:00:00.000000000",
          "2007-03-01T00:00:00.000000000",
          "2007-04-01T00:00:00.000000000",
          "2007-05-01T00:00:00.000000000",
          "2007-06-01T00:00:00.000000000",
          "2007-07-01T00:00:00.000000000",
          "2007-08-01T00:00:00.000000000",
          "2007-09-01T00:00:00.000000000",
          "2007-10-01T00:00:00.000000000",
          "2007-11-01T00:00:00.000000000",
          "2007-12-01T00:00:00.000000000",
          "2008-01-01T00:00:00.000000000",
          "2008-02-01T00:00:00.000000000",
          "2008-03-01T00:00:00.000000000",
          "2008-04-01T00:00:00.000000000",
          "2008-05-01T00:00:00.000000000",
          "2008-06-01T00:00:00.000000000",
          "2008-07-01T00:00:00.000000000",
          "2008-08-01T00:00:00.000000000",
          "2008-09-01T00:00:00.000000000",
          "2008-10-01T00:00:00.000000000",
          "2008-11-01T00:00:00.000000000",
          "2008-12-01T00:00:00.000000000",
          "2009-01-01T00:00:00.000000000",
          "2009-02-01T00:00:00.000000000",
          "2009-03-01T00:00:00.000000000",
          "2009-04-01T00:00:00.000000000",
          "2009-05-01T00:00:00.000000000",
          "2009-06-01T00:00:00.000000000",
          "2009-07-01T00:00:00.000000000",
          "2009-08-01T00:00:00.000000000",
          "2009-09-01T00:00:00.000000000",
          "2009-10-01T00:00:00.000000000",
          "2009-11-01T00:00:00.000000000",
          "2009-12-01T00:00:00.000000000",
          "2010-01-01T00:00:00.000000000",
          "2010-02-01T00:00:00.000000000",
          "2010-03-01T00:00:00.000000000",
          "2010-04-01T00:00:00.000000000",
          "2010-05-01T00:00:00.000000000",
          "2010-06-01T00:00:00.000000000",
          "2010-07-01T00:00:00.000000000",
          "2010-08-01T00:00:00.000000000",
          "2010-09-01T00:00:00.000000000",
          "2010-10-01T00:00:00.000000000",
          "2010-11-01T00:00:00.000000000",
          "2010-12-01T00:00:00.000000000",
          "2011-01-01T00:00:00.000000000",
          "2011-02-01T00:00:00.000000000",
          "2011-03-01T00:00:00.000000000",
          "2011-04-01T00:00:00.000000000",
          "2011-05-01T00:00:00.000000000",
          "2011-06-01T00:00:00.000000000",
          "2011-07-01T00:00:00.000000000",
          "2011-08-01T00:00:00.000000000",
          "2011-09-01T00:00:00.000000000",
          "2011-10-01T00:00:00.000000000",
          "2011-11-01T00:00:00.000000000",
          "2011-12-01T00:00:00.000000000",
          "2012-01-01T00:00:00.000000000",
          "2012-02-01T00:00:00.000000000",
          "2012-03-01T00:00:00.000000000",
          "2012-04-01T00:00:00.000000000",
          "2012-05-01T00:00:00.000000000",
          "2012-06-01T00:00:00.000000000",
          "2012-07-01T00:00:00.000000000",
          "2012-08-01T00:00:00.000000000",
          "2012-09-01T00:00:00.000000000",
          "2012-10-01T00:00:00.000000000",
          "2012-11-01T00:00:00.000000000",
          "2012-12-01T00:00:00.000000000",
          "2013-01-01T00:00:00.000000000",
          "2013-02-01T00:00:00.000000000",
          "2013-03-01T00:00:00.000000000",
          "2013-04-01T00:00:00.000000000",
          "2013-05-01T00:00:00.000000000",
          "2013-06-01T00:00:00.000000000",
          "2013-07-01T00:00:00.000000000",
          "2013-08-01T00:00:00.000000000",
          "2013-09-01T00:00:00.000000000",
          "2013-10-01T00:00:00.000000000",
          "2013-11-01T00:00:00.000000000",
          "2013-12-01T00:00:00.000000000",
          "2014-01-01T00:00:00.000000000",
          "2014-02-01T00:00:00.000000000",
          "2014-03-01T00:00:00.000000000",
          "2014-04-01T00:00:00.000000000",
          "2014-05-01T00:00:00.000000000",
          "2014-06-01T00:00:00.000000000",
          "2014-07-01T00:00:00.000000000",
          "2014-08-01T00:00:00.000000000",
          "2014-09-01T00:00:00.000000000",
          "2014-10-01T00:00:00.000000000",
          "2014-11-01T00:00:00.000000000",
          "2014-12-01T00:00:00.000000000",
          "2015-01-01T00:00:00.000000000",
          "2015-02-01T00:00:00.000000000",
          "2015-03-01T00:00:00.000000000",
          "2015-04-01T00:00:00.000000000",
          "2015-05-01T00:00:00.000000000",
          "2015-06-01T00:00:00.000000000",
          "2015-07-01T00:00:00.000000000",
          "2015-08-01T00:00:00.000000000",
          "2015-09-01T00:00:00.000000000",
          "2015-10-01T00:00:00.000000000",
          "2015-11-01T00:00:00.000000000",
          "2015-12-01T00:00:00.000000000",
          "2016-01-01T00:00:00.000000000",
          "2016-02-01T00:00:00.000000000",
          "2016-03-01T00:00:00.000000000",
          "2016-04-01T00:00:00.000000000",
          "2016-05-01T00:00:00.000000000",
          "2016-06-01T00:00:00.000000000",
          "2016-07-01T00:00:00.000000000",
          "2016-08-01T00:00:00.000000000",
          "2016-09-01T00:00:00.000000000",
          "2016-10-01T00:00:00.000000000",
          "2016-11-01T00:00:00.000000000",
          "2016-12-01T00:00:00.000000000",
          "2017-01-01T00:00:00.000000000",
          "2017-02-01T00:00:00.000000000",
          "2017-03-01T00:00:00.000000000",
          "2017-04-01T00:00:00.000000000",
          "2017-05-01T00:00:00.000000000",
          "2017-06-01T00:00:00.000000000",
          "2017-07-01T00:00:00.000000000",
          "2017-08-01T00:00:00.000000000",
          "2017-09-01T00:00:00.000000000",
          "2017-10-01T00:00:00.000000000",
          "2017-11-01T00:00:00.000000000",
          "2017-12-01T00:00:00.000000000",
          "2018-01-01T00:00:00.000000000"
         ],
         "xaxis": "x",
         "y": {
          "bdata": "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",
          "dtype": "f8"
         },
         "yaxis": "y"
        }
       ],
       "layout": {
        "legend": {
         "tracegroupgap": 0
        },
        "template": {
         "data": {
          "bar": [
           {
            "error_x": {
             "color": "#2a3f5f"
            },
            "error_y": {
             "color": "#2a3f5f"
            },
            "marker": {
             "line": {
              "color": "#E5ECF6",
              "width": 0.5
             },
             "pattern": {
              "fillmode": "overlay",
              "size": 10,
              "solidity": 0.2
             }
            },
            "type": "bar"
           }
          ],
          "barpolar": [
           {
            "marker": {
             "line": {
              "color": "#E5ECF6",
              "width": 0.5
             },
             "pattern": {
              "fillmode": "overlay",
              "size": 10,
              "solidity": 0.2
             }
            },
            "type": "barpolar"
           }
          ],
          "carpet": [
           {
            "aaxis": {
             "endlinecolor": "#2a3f5f",
             "gridcolor": "white",
             "linecolor": "white",
             "minorgridcolor": "white",
             "startlinecolor": "#2a3f5f"
            },
            "baxis": {
             "endlinecolor": "#2a3f5f",
             "gridcolor": "white",
             "linecolor": "white",
             "minorgridcolor": "white",
             "startlinecolor": "#2a3f5f"
            },
            "type": "carpet"
           }
          ],
          "choropleth": [
           {
            "colorbar": {
             "outlinewidth": 0,
             "ticks": ""
            },
            "type": "choropleth"
           }
          ],
          "contour": [
           {
            "colorbar": {
             "outlinewidth": 0,
             "ticks": ""
            },
            "colorscale": [
             [
              0,
              "#0d0887"
             ],
             [
              0.1111111111111111,
              "#46039f"
             ],
             [
              0.2222222222222222,
              "#7201a8"
             ],
             [
              0.3333333333333333,
              "#9c179e"
             ],
             [
              0.4444444444444444,
              "#bd3786"
             ],
             [
              0.5555555555555556,
              "#d8576b"
             ],
             [
              0.6666666666666666,
              "#ed7953"
             ],
             [
              0.7777777777777778,
              "#fb9f3a"
             ],
             [
              0.8888888888888888,
              "#fdca26"
             ],
             [
              1,
              "#f0f921"
             ]
            ],
            "type": "contour"
           }
          ],
          "contourcarpet": [
           {
            "colorbar": {
             "outlinewidth": 0,
             "ticks": ""
            },
            "type": "contourcarpet"
           }
          ],
          "heatmap": [
           {
            "colorbar": {
             "outlinewidth": 0,
             "ticks": ""
            },
            "colorscale": [
             [
              0,
              "#0d0887"
             ],
             [
              0.1111111111111111,
              "#46039f"
             ],
             [
              0.2222222222222222,
              "#7201a8"
             ],
             [
              0.3333333333333333,
              "#9c179e"
             ],
             [
              0.4444444444444444,
              "#bd3786"
             ],
             [
              0.5555555555555556,
              "#d8576b"
             ],
             [
              0.6666666666666666,
              "#ed7953"
             ],
             [
              0.7777777777777778,
              "#fb9f3a"
             ],
             [
              0.8888888888888888,
              "#fdca26"
             ],
             [
              1,
              "#f0f921"
             ]
            ],
            "type": "heatmap"
           }
          ],
          "histogram": [
           {
            "marker": {
             "pattern": {
              "fillmode": "overlay",
              "size": 10,
              "solidity": 0.2
             }
            },
            "type": "histogram"
           }
          ],
          "histogram2d": [
           {
            "colorbar": {
             "outlinewidth": 0,
             "ticks": ""
            },
            "colorscale": [
             [
              0,
              "#0d0887"
             ],
             [
              0.1111111111111111,
              "#46039f"
             ],
             [
              0.2222222222222222,
              "#7201a8"
             ],
             [
              0.3333333333333333,
              "#9c179e"
             ],
             [
              0.4444444444444444,
              "#bd3786"
             ],
             [
              0.5555555555555556,
              "#d8576b"
             ],
             [
              0.6666666666666666,
              "#ed7953"
             ],
             [
              0.7777777777777778,
              "#fb9f3a"
             ],
             [
              0.8888888888888888,
              "#fdca26"
             ],
             [
              1,
              "#f0f921"
             ]
            ],
            "type": "histogram2d"
           }
          ],
          "histogram2dcontour": [
           {
            "colorbar": {
             "outlinewidth": 0,
             "ticks": ""
            },
            "colorscale": [
             [
              0,
              "#0d0887"
             ],
             [
              0.1111111111111111,
              "#46039f"
             ],
             [
              0.2222222222222222,
              "#7201a8"
             ],
             [
              0.3333333333333333,
              "#9c179e"
             ],
             [
              0.4444444444444444,
              "#bd3786"
             ],
             [
              0.5555555555555556,
              "#d8576b"
             ],
             [
              0.6666666666666666,
              "#ed7953"
             ],
             [
              0.7777777777777778,
              "#fb9f3a"
             ],
             [
              0.8888888888888888,
              "#fdca26"
             ],
             [
              1,
              "#f0f921"
             ]
            ],
            "type": "histogram2dcontour"
           }
          ],
          "mesh3d": [
           {
            "colorbar": {
             "outlinewidth": 0,
             "ticks": ""
            },
            "type": "mesh3d"
           }
          ],
          "parcoords": [
           {
            "line": {
             "colorbar": {
              "outlinewidth": 0,
              "ticks": ""
             }
            },
            "type": "parcoords"
           }
          ],
          "pie": [
           {
            "automargin": true,
            "type": "pie"
           }
          ],
          "scatter": [
           {
            "fillpattern": {
             "fillmode": "overlay",
             "size": 10,
             "solidity": 0.2
            },
            "type": "scatter"
           }
          ],
          "scatter3d": [
           {
            "line": {
             "colorbar": {
              "outlinewidth": 0,
              "ticks": ""
             }
            },
            "marker": {
             "colorbar": {
              "outlinewidth": 0,
              "ticks": ""
             }
            },
            "type": "scatter3d"
           }
          ],
          "scattercarpet": [
           {
            "marker": {
             "colorbar": {
              "outlinewidth": 0,
              "ticks": ""
             }
            },
            "type": "scattercarpet"
           }
          ],
          "scattergeo": [
           {
            "marker": {
             "colorbar": {
              "outlinewidth": 0,
              "ticks": ""
             }
            },
            "type": "scattergeo"
           }
          ],
          "scattergl": [
           {
            "marker": {
             "colorbar": {
              "outlinewidth": 0,
              "ticks": ""
             }
            },
            "type": "scattergl"
           }
          ],
          "scattermap": [
           {
            "marker": {
             "colorbar": {
              "outlinewidth": 0,
              "ticks": ""
             }
            },
            "type": "scattermap"
           }
          ],
          "scattermapbox": [
           {
            "marker": {
             "colorbar": {
              "outlinewidth": 0,
              "ticks": ""
             }
            },
            "type": "scattermapbox"
           }
          ],
          "scatterpolar": [
           {
            "marker": {
             "colorbar": {
              "outlinewidth": 0,
              "ticks": ""
             }
            },
            "type": "scatterpolar"
           }
          ],
          "scatterpolargl": [
           {
            "marker": {
             "colorbar": {
              "outlinewidth": 0,
              "ticks": ""
             }
            },
            "type": "scatterpolargl"
           }
          ],
          "scatterternary": [
           {
            "marker": {
             "colorbar": {
              "outlinewidth": 0,
              "ticks": ""
             }
            },
            "type": "scatterternary"
           }
          ],
          "surface": [
           {
            "colorbar": {
             "outlinewidth": 0,
             "ticks": ""
            },
            "colorscale": [
             [
              0,
              "#0d0887"
             ],
             [
              0.1111111111111111,
              "#46039f"
             ],
             [
              0.2222222222222222,
              "#7201a8"
             ],
             [
              0.3333333333333333,
              "#9c179e"
             ],
             [
              0.4444444444444444,
              "#bd3786"
             ],
             [
              0.5555555555555556,
              "#d8576b"
             ],
             [
              0.6666666666666666,
              "#ed7953"
             ],
             [
              0.7777777777777778,
              "#fb9f3a"
             ],
             [
              0.8888888888888888,
              "#fdca26"
             ],
             [
              1,
              "#f0f921"
             ]
            ],
            "type": "surface"
           }
          ],
          "table": [
           {
            "cells": {
             "fill": {
              "color": "#EBF0F8"
             },
             "line": {
              "color": "white"
             }
            },
            "header": {
             "fill": {
              "color": "#C8D4E3"
             },
             "line": {
              "color": "white"
             }
            },
            "type": "table"
           }
          ]
         },
         "layout": {
          "annotationdefaults": {
           "arrowcolor": "#2a3f5f",
           "arrowhead": 0,
           "arrowwidth": 1
          },
          "autotypenumbers": "strict",
          "coloraxis": {
           "colorbar": {
            "outlinewidth": 0,
            "ticks": ""
           }
          },
          "colorscale": {
           "diverging": [
            [
             0,
             "#8e0152"
            ],
            [
             0.1,
             "#c51b7d"
            ],
            [
             0.2,
             "#de77ae"
            ],
            [
             0.3,
             "#f1b6da"
            ],
            [
             0.4,
             "#fde0ef"
            ],
            [
             0.5,
             "#f7f7f7"
            ],
            [
             0.6,
             "#e6f5d0"
            ],
            [
             0.7,
             "#b8e186"
            ],
            [
             0.8,
             "#7fbc41"
            ],
            [
             0.9,
             "#4d9221"
            ],
            [
             1,
             "#276419"
            ]
           ],
           "sequential": [
            [
             0,
             "#0d0887"
            ],
            [
             0.1111111111111111,
             "#46039f"
            ],
            [
             0.2222222222222222,
             "#7201a8"
            ],
            [
             0.3333333333333333,
             "#9c179e"
            ],
            [
             0.4444444444444444,
             "#bd3786"
            ],
            [
             0.5555555555555556,
             "#d8576b"
            ],
            [
             0.6666666666666666,
             "#ed7953"
            ],
            [
             0.7777777777777778,
             "#fb9f3a"
            ],
            [
             0.8888888888888888,
             "#fdca26"
            ],
            [
             1,
             "#f0f921"
            ]
           ],
           "sequentialminus": [
            [
             0,
             "#0d0887"
            ],
            [
             0.1111111111111111,
             "#46039f"
            ],
            [
             0.2222222222222222,
             "#7201a8"
            ],
            [
             0.3333333333333333,
             "#9c179e"
            ],
            [
             0.4444444444444444,
             "#bd3786"
            ],
            [
             0.5555555555555556,
             "#d8576b"
            ],
            [
             0.6666666666666666,
             "#ed7953"
            ],
            [
             0.7777777777777778,
             "#fb9f3a"
            ],
            [
             0.8888888888888888,
             "#fdca26"
            ],
            [
             1,
             "#f0f921"
            ]
           ]
          },
          "colorway": [
           "#636efa",
           "#EF553B",
           "#00cc96",
           "#ab63fa",
           "#FFA15A",
           "#19d3f3",
           "#FF6692",
           "#B6E880",
           "#FF97FF",
           "#FECB52"
          ],
          "font": {
           "color": "#2a3f5f"
          },
          "geo": {
           "bgcolor": "white",
           "lakecolor": "white",
           "landcolor": "#E5ECF6",
           "showlakes": true,
           "showland": true,
           "subunitcolor": "white"
          },
          "hoverlabel": {
           "align": "left"
          },
          "hovermode": "closest",
          "mapbox": {
           "style": "light"
          },
          "paper_bgcolor": "white",
          "plot_bgcolor": "#E5ECF6",
          "polar": {
           "angularaxis": {
            "gridcolor": "white",
            "linecolor": "white",
            "ticks": ""
           },
           "bgcolor": "#E5ECF6",
           "radialaxis": {
            "gridcolor": "white",
            "linecolor": "white",
            "ticks": ""
           }
          },
          "scene": {
           "xaxis": {
            "backgroundcolor": "#E5ECF6",
            "gridcolor": "white",
            "gridwidth": 2,
            "linecolor": "white",
            "showbackground": true,
            "ticks": "",
            "zerolinecolor": "white"
           },
           "yaxis": {
            "backgroundcolor": "#E5ECF6",
            "gridcolor": "white",
            "gridwidth": 2,
            "linecolor": "white",
            "showbackground": true,
            "ticks": "",
            "zerolinecolor": "white"
           },
           "zaxis": {
            "backgroundcolor": "#E5ECF6",
            "gridcolor": "white",
            "gridwidth": 2,
            "linecolor": "white",
            "showbackground": true,
            "ticks": "",
            "zerolinecolor": "white"
           }
          },
          "shapedefaults": {
           "line": {
            "color": "#2a3f5f"
           }
          },
          "ternary": {
           "aaxis": {
            "gridcolor": "white",
            "linecolor": "white",
            "ticks": ""
           },
           "baxis": {
            "gridcolor": "white",
            "linecolor": "white",
            "ticks": ""
           },
           "bgcolor": "#E5ECF6",
           "caxis": {
            "gridcolor": "white",
            "linecolor": "white",
            "ticks": ""
           }
          },
          "title": {
           "x": 0.05
          },
          "xaxis": {
           "automargin": true,
           "gridcolor": "white",
           "linecolor": "white",
           "ticks": "",
           "title": {
            "standoff": 15
           },
           "zerolinecolor": "white",
           "zerolinewidth": 2
          },
          "yaxis": {
           "automargin": true,
           "gridcolor": "white",
           "linecolor": "white",
           "ticks": "",
           "title": {
            "standoff": 15
           },
           "zerolinecolor": "white",
           "zerolinewidth": 2
          }
         }
        },
        "title": {
         "text": "original time seires"
        },
        "xaxis": {
         "anchor": "y",
         "domain": [
          0,
          1
         ],
         "title": {
          "text": "x"
         }
        },
        "yaxis": {
         "anchor": "x",
         "domain": [
          0,
          1
         ],
         "title": {
          "text": "y"
         }
        }
       }
      },
      "text/html": [
       "<div>                        <script type=\"text/javascript\">window.PlotlyConfig = {MathJaxConfig: 'local'};</script>\n",
       "        <script charset=\"utf-8\" src=\"https://cdn.plot.ly/plotly-3.0.0.min.js\"></script>                <div id=\"126de237-b695-44d1-8fec-6f1c10d4245f\" class=\"plotly-graph-div\" style=\"height:100%; width:100%;\"></div>            <script type=\"text/javascript\">                window.PLOTLYENV=window.PLOTLYENV || {};                                if (document.getElementById(\"126de237-b695-44d1-8fec-6f1c10d4245f\")) {                    Plotly.newPlot(                        \"126de237-b695-44d1-8fec-6f1c10d4245f\",                        [{\"fillpattern\":{\"shape\":\"\"},\"hovertemplate\":\"x=%{x}\\u003cbr\\u003ey=%{y}\\u003cextra\\u003e\\u003c\\u002fextra\\u003e\",\"legendgroup\":\"\",\"line\":{\"color\":\"#636efa\"},\"marker\":{\"symbol\":\"circle\"},\"mode\":\"lines\",\"name\":\"\",\"orientation\":\"v\",\"showlegend\":false,\"stackgroup\":\"1\",\"x\":[\"1985-01-01T00:00:00.000000000\",\"1985-02-01T00:00:00.000000000\",\"1985-03-01T00:00:00.000000000\",\"1985-04-01T00:00:00.000000000\",\"1985-05-01T00:00:00.000000000\",\"1985-06-01T00:00:00.000000000\",\"1985-07-01T00:00:00.000000000\",\"1985-08-01T00:00:00.000000000\",\"1985-09-01T00:00:00.000000000\",\"1985-10-01T00:00:00.000000000\",\"1985-11-01T00:00:00.000000000\",\"1985-12-01T00:00:00.000000000\",\"1986-01-01T00:00:00.000000000\",\"1986-02-01T00:00:00.000000000\",\"1986-03-01T00:00:00.000000000\",\"1986-04-01T00:00:00.000000000\",\"1986-05-01T00:00:00.000000000\",\"1986-06-01T00:00:00.000000000\",\"1986-07-01T00:00:00.000000000\",\"1986-08-01T00:00:00.000000000\",\"1986-09-01T00:00:00.000000000\",\"1986-10-01T00:00:00.000000000\",\"1986-11-01T00:00:00.000000000\",\"1986-12-01T00:00:00.000000000\",\"1987-01-01T00:00:00.000000000\",\"1987-02-01T00:00:00.000000000\",\"1987-03-01T00:00:00.000000000\",\"1987-04-01T00:00:00.000000000\",\"1987-05-01T00:00:00.000000000\",\"1987-06-01T00:00:00.000000000\",\"1987-07-01T00:00:00.000000000\",\"1987-08-01T00:00:00.000000000\",\"1987-09-01T00:00:00.000000000\",\"1987-10-01T00:00:00.000000000\",\"1987-11-01T00:00:00.000000000\",\"1987-12-01T00:00:00.000000000\",\"1988-01-01T00:00:00.000000000\",\"1988-02-01T00:00:00.000000000\",\"1988-03-01T00:00:00.000000000\",\"1988-04-01T00:00:00.000000000\",\"1988-05-01T00:00:00.000000000\",\"1988-06-01T00:00:00.000000000\",\"1988-07-01T00:00:00.000000000\",\"1988-08-01T00:00:00.000000000\",\"1988-09-01T00:00:00.000000000\",\"1988-10-01T00:00:00.000000000\",\"1988-11-01T00:00:00.000000000\",\"1988-12-01T00:00:00.000000000\",\"1989-01-01T00:00:00.000000000\",\"1989-02-01T00:00:00.000000000\",\"1989-03-01T00:00:00.000000000\",\"1989-04-01T00:00:00.000000000\",\"1989-05-01T00:00:00.000000000\",\"1989-06-01T00:00:00.000000000\",\"1989-07-01T00:00:00.000000000\",\"1989-08-01T00:00:00.000000000\",\"1989-09-01T00:00:00.000000000\",\"1989-10-01T00:00:00.000000000\",\"1989-11-01T00:00:00.000000000\",\"1989-12-01T00:00:00.000000000\",\"1990-01-01T00:00:00.000000000\",\"1990-02-01T00:00:00.000000000\",\"1990-03-01T00:00:00.000000000\",\"1990-04-01T00:00:00.000000000\",\"1990-05-01T00:00:00.000000000\",\"1990-06-01T00:00:00.000000000\",\"1990-07-01T00:00:00.000000000\",\"1990-08-01T00:00:00.000000000\",\"1990-09-01T00:00:00.000000000\",\"1990-10-01T00:00:00.000000000\",\"1990-11-01T00:00:00.000000000\",\"1990-12-01T00:00:00.000000000\",\"1991-01-01T00:00:00.000000000\",\"1991-02-01T00:00:00.000000000\",\"1991-03-01T00:00:00.000000000\",\"1991-04-01T00:00:00.000000000\",\"1991-05-01T00:00:00.000000000\",\"1991-06-01T00:00:00.000000000\",\"1991-07-01T00:00:00.000000000\",\"1991-08-01T00:00:00.000000000\",\"1991-09-01T00:00:00.000000000\",\"1991-10-01T00:00:00.000000000\",\"1991-11-01T00:00:00.000000000\",\"1991-12-01T00:00:00.000000000\",\"1992-01-01T00:00:00.000000000\",\"1992-02-01T00:00:00.000000000\",\"1992-03-01T00:00:00.000000000\",\"1992-04-01T00:00:00.000000000\",\"1992-05-01T00:00:00.000000000\",\"1992-06-01T00:00:00.000000000\",\"1992-07-01T00:00:00.000000000\",\"1992-08-01T00:00:00.000000000\",\"1992-09-01T00:00:00.000000000\",\"1992-10-01T00:00:00.000000000\",\"1992-11-01T00:00:00.000000000\",\"1992-12-01T00:00:00.000000000\",\"1993-01-01T00:00:00.000000000\",\"1993-02-01T00:00:00.000000000\",\"1993-03-01T00:00:00.000000000\",\"1993-04-01T00:00:00.000000000\",\"1993-05-01T00:00:00.000000000\",\"1993-06-01T00:00:00.000000000\",\"1993-07-01T00:00:00.000000000\",\"1993-08-01T00:00:00.000000000\",\"1993-09-01T00:00:00.000000000\",\"1993-10-01T00:00:00.000000000\",\"1993-11-01T00:00:00.000000000\",\"1993-12-01T00:00:00.000000000\",\"1994-01-01T00:00:00.000000000\",\"1994-02-01T00:00:00.000000000\",\"1994-03-01T00:00:00.000000000\",\"1994-04-01T00:00:00.000000000\",\"1994-05-01T00:00:00.000000000\",\"1994-06-01T00:00:00.000000000\",\"1994-07-01T00:00:00.000000000\",\"1994-08-01T00:00:00.000000000\",\"1994-09-01T00:00:00.000000000\",\"1994-10-01T00:00:00.000000000\",\"1994-11-01T00:00:00.000000000\",\"1994-12-01T00:00:00.000000000\",\"1995-01-01T00:00:00.000000000\",\"1995-02-01T00:00:00.000000000\",\"1995-03-01T00:00:00.000000000\",\"1995-04-01T00:00:00.000000000\",\"1995-05-01T00:00:00.000000000\",\"1995-06-01T00:00:00.000000000\",\"1995-07-01T00:00:00.000000000\",\"1995-08-01T00:00:00.000000000\",\"1995-09-01T00:00:00.000000000\",\"1995-10-01T00:00:00.000000000\",\"1995-11-01T00:00:00.000000000\",\"1995-12-01T00:00:00.000000000\",\"1996-01-01T00:00:00.000000000\",\"1996-02-01T00:00:00.000000000\",\"1996-03-01T00:00:00.000000000\",\"1996-04-01T00:00:00.000000000\",\"1996-05-01T00:00:00.000000000\",\"1996-06-01T00:00:00.000000000\",\"1996-07-01T00:00:00.000000000\",\"1996-08-01T00:00:00.000000000\",\"1996-09-01T00:00:00.000000000\",\"1996-10-01T00:00:00.000000000\",\"1996-11-01T00:00:00.000000000\",\"1996-12-01T00:00:00.000000000\",\"1997-01-01T00:00:00.000000000\",\"1997-02-01T00:00:00.000000000\",\"1997-03-01T00:00:00.000000000\",\"1997-04-01T00:00:00.000000000\",\"1997-05-01T00:00:00.000000000\",\"1997-06-01T00:00:00.000000000\",\"1997-07-01T00:00:00.000000000\",\"1997-08-01T00:00:00.000000000\",\"1997-09-01T00:00:00.000000000\",\"1997-10-01T00:00:00.000000000\",\"1997-11-01T00:00:00.000000000\",\"1997-12-01T00:00:00.000000000\",\"1998-01-01T00:00:00.000000000\",\"1998-02-01T00:00:00.000000000\",\"1998-03-01T00:00:00.000000000\",\"1998-04-01T00:00:00.000000000\",\"1998-05-01T00:00:00.000000000\",\"1998-06-01T00:00:00.000000000\",\"1998-07-01T00:00:00.000000000\",\"1998-08-01T00:00:00.000000000\",\"1998-09-01T00:00:00.000000000\",\"1998-10-01T00:00:00.000000000\",\"1998-11-01T00:00:00.000000000\",\"1998-12-01T00:00:00.000000000\",\"1999-01-01T00:00:00.000000000\",\"1999-02-01T00:00:00.000000000\",\"1999-03-01T00:00:00.000000000\",\"1999-04-01T00:00:00.000000000\",\"1999-05-01T00:00:00.000000000\",\"1999-06-01T00:00:00.000000000\",\"1999-07-01T00:00:00.000000000\",\"1999-08-01T00:00:00.000000000\",\"1999-09-01T00:00:00.000000000\",\"1999-10-01T00:00:00.000000000\",\"1999-11-01T00:00:00.000000000\",\"1999-12-01T00:00:00.000000000\",\"2000-01-01T00:00:00.000000000\",\"2000-02-01T00:00:00.000000000\",\"2000-03-01T00:00:00.000000000\",\"2000-04-01T00:00:00.000000000\",\"2000-05-01T00:00:00.000000000\",\"2000-06-01T00:00:00.000000000\",\"2000-07-01T00:00:00.000000000\",\"2000-08-01T00:00:00.000000000\",\"2000-09-01T00:00:00.000000000\",\"2000-10-01T00:00:00.000000000\",\"2000-11-01T00:00:00.000000000\",\"2000-12-01T00:00:00.000000000\",\"2001-01-01T00:00:00.000000000\",\"2001-02-01T00:00:00.000000000\",\"2001-03-01T00:00:00.000000000\",\"2001-04-01T00:00:00.000000000\",\"2001-05-01T00:00:00.000000000\",\"2001-06-01T00:00:00.000000000\",\"2001-07-01T00:00:00.000000000\",\"2001-08-01T00:00:00.000000000\",\"2001-09-01T00:00:00.000000000\",\"2001-10-01T00:00:00.000000000\",\"2001-11-01T00:00:00.000000000\",\"2001-12-01T00:00:00.000000000\",\"2002-01-01T00:00:00.000000000\",\"2002-02-01T00:00:00.000000000\",\"2002-03-01T00:00:00.000000000\",\"2002-04-01T00:00:00.000000000\",\"2002-05-01T00:00:00.000000000\",\"2002-06-01T00:00:00.000000000\",\"2002-07-01T00:00:00.000000000\",\"2002-08-01T00:00:00.000000000\",\"2002-09-01T00:00:00.000000000\",\"2002-10-01T00:00:00.000000000\",\"2002-11-01T00:00:00.000000000\",\"2002-12-01T00:00:00.000000000\",\"2003-01-01T00:00:00.000000000\",\"2003-02-01T00:00:00.000000000\",\"2003-03-01T00:00:00.000000000\",\"2003-04-01T00:00:00.000000000\",\"2003-05-01T00:00:00.000000000\",\"2003-06-01T00:00:00.000000000\",\"2003-07-01T00:00:00.000000000\",\"2003-08-01T00:00:00.000000000\",\"2003-09-01T00:00:00.000000000\",\"2003-10-01T00:00:00.000000000\",\"2003-11-01T00:00:00.000000000\",\"2003-12-01T00:00:00.000000000\",\"2004-01-01T00:00:00.000000000\",\"2004-02-01T00:00:00.000000000\",\"2004-03-01T00:00:00.000000000\",\"2004-04-01T00:00:00.000000000\",\"2004-05-01T00:00:00.000000000\",\"2004-06-01T00:00:00.000000000\",\"2004-07-01T00:00:00.000000000\",\"2004-08-01T00:00:00.000000000\",\"2004-09-01T00:00:00.000000000\",\"2004-10-01T00:00:00.000000000\",\"2004-11-01T00:00:00.000000000\",\"2004-12-01T00:00:00.000000000\",\"2005-01-01T00:00:00.000000000\",\"2005-02-01T00:00:00.000000000\",\"2005-03-01T00:00:00.000000000\",\"2005-04-01T00:00:00.000000000\",\"2005-05-01T00:00:00.000000000\",\"2005-06-01T00:00:00.000000000\",\"2005-07-01T00:00:00.000000000\",\"2005-08-01T00:00:00.000000000\",\"2005-09-01T00:00:00.000000000\",\"2005-10-01T00:00:00.000000000\",\"2005-11-01T00:00:00.000000000\",\"2005-12-01T00:00:00.000000000\",\"2006-01-01T00:00:00.000000000\",\"2006-02-01T00:00:00.000000000\",\"2006-03-01T00:00:00.000000000\",\"2006-04-01T00:00:00.000000000\",\"2006-05-01T00:00:00.000000000\",\"2006-06-01T00:00:00.000000000\",\"2006-07-01T00:00:00.000000000\",\"2006-08-01T00:00:00.000000000\",\"2006-09-01T00:00:00.000000000\",\"2006-10-01T00:00:00.000000000\",\"2006-11-01T00:00:00.000000000\",\"2006-12-01T00:00:00.000000000\",\"2007-01-01T00:00:00.000000000\",\"2007-02-01T00:00:00.000000000\",\"2007-03-01T00:00:00.000000000\",\"2007-04-01T00:00:00.000000000\",\"2007-05-01T00:00:00.000000000\",\"2007-06-01T00:00:00.000000000\",\"2007-07-01T00:00:00.000000000\",\"2007-08-01T00:00:00.000000000\",\"2007-09-01T00:00:00.000000000\",\"2007-10-01T00:00:00.000000000\",\"2007-11-01T00:00:00.000000000\",\"2007-12-01T00:00:00.000000000\",\"2008-01-01T00:00:00.000000000\",\"2008-02-01T00:00:00.000000000\",\"2008-03-01T00:00:00.000000000\",\"2008-04-01T00:00:00.000000000\",\"2008-05-01T00:00:00.000000000\",\"2008-06-01T00:00:00.000000000\",\"2008-07-01T00:00:00.000000000\",\"2008-08-01T00:00:00.000000000\",\"2008-09-01T00:00:00.000000000\",\"2008-10-01T00:00:00.000000000\",\"2008-11-01T00:00:00.000000000\",\"2008-12-01T00:00:00.000000000\",\"2009-01-01T00:00:00.000000000\",\"2009-02-01T00:00:00.000000000\",\"2009-03-01T00:00:00.000000000\",\"2009-04-01T00:00:00.000000000\",\"2009-05-01T00:00:00.000000000\",\"2009-06-01T00:00:00.000000000\",\"2009-07-01T00:00:00.000000000\",\"2009-08-01T00:00:00.000000000\",\"2009-09-01T00:00:00.000000000\",\"2009-10-01T00:00:00.000000000\",\"2009-11-01T00:00:00.000000000\",\"2009-12-01T00:00:00.000000000\",\"2010-01-01T00:00:00.000000000\",\"2010-02-01T00:00:00.000000000\",\"2010-03-01T00:00:00.000000000\",\"2010-04-01T00:00:00.000000000\",\"2010-05-01T00:00:00.000000000\",\"2010-06-01T00:00:00.000000000\",\"2010-07-01T00:00:00.000000000\",\"2010-08-01T00:00:00.000000000\",\"2010-09-01T00:00:00.000000000\",\"2010-10-01T00:00:00.000000000\",\"2010-11-01T00:00:00.000000000\",\"2010-12-01T00:00:00.000000000\",\"2011-01-01T00:00:00.000000000\",\"2011-02-01T00:00:00.000000000\",\"2011-03-01T00:00:00.000000000\",\"2011-04-01T00:00:00.000000000\",\"2011-05-01T00:00:00.000000000\",\"2011-06-01T00:00:00.000000000\",\"2011-07-01T00:00:00.000000000\",\"2011-08-01T00:00:00.000000000\",\"2011-09-01T00:00:00.000000000\",\"2011-10-01T00:00:00.000000000\",\"2011-11-01T00:00:00.000000000\",\"2011-12-01T00:00:00.000000000\",\"2012-01-01T00:00:00.000000000\",\"2012-02-01T00:00:00.000000000\",\"2012-03-01T00:00:00.000000000\",\"2012-04-01T00:00:00.000000000\",\"2012-05-01T00:00:00.000000000\",\"2012-06-01T00:00:00.000000000\",\"2012-07-01T00:00:00.000000000\",\"2012-08-01T00:00:00.000000000\",\"2012-09-01T00:00:00.000000000\",\"2012-10-01T00:00:00.000000000\",\"2012-11-01T00:00:00.000000000\",\"2012-12-01T00:00:00.000000000\",\"2013-01-01T00:00:00.000000000\",\"2013-02-01T00:00:00.000000000\",\"2013-03-01T00:00:00.000000000\",\"2013-04-01T00:00:00.000000000\",\"2013-05-01T00:00:00.000000000\",\"2013-06-01T00:00:00.000000000\",\"2013-07-01T00:00:00.000000000\",\"2013-08-01T00:00:00.000000000\",\"2013-09-01T00:00:00.000000000\",\"2013-10-01T00:00:00.000000000\",\"2013-11-01T00:00:00.000000000\",\"2013-12-01T00:00:00.000000000\",\"2014-01-01T00:00:00.000000000\",\"2014-02-01T00:00:00.000000000\",\"2014-03-01T00:00:00.000000000\",\"2014-04-01T00:00:00.000000000\",\"2014-05-01T00:00:00.000000000\",\"2014-06-01T00:00:00.000000000\",\"2014-07-01T00:00:00.000000000\",\"2014-08-01T00:00:00.000000000\",\"2014-09-01T00:00:00.000000000\",\"2014-10-01T00:00:00.000000000\",\"2014-11-01T00:00:00.000000000\",\"2014-12-01T00:00:00.000000000\",\"2015-01-01T00:00:00.000000000\",\"2015-02-01T00:00:00.000000000\",\"2015-03-01T00:00:00.000000000\",\"2015-04-01T00:00:00.000000000\",\"2015-05-01T00:00:00.000000000\",\"2015-06-01T00:00:00.000000000\",\"2015-07-01T00:00:00.000000000\",\"2015-08-01T00:00:00.000000000\",\"2015-09-01T00:00:00.000000000\",\"2015-10-01T00:00:00.000000000\",\"2015-11-01T00:00:00.000000000\",\"2015-12-01T00:00:00.000000000\",\"2016-01-01T00:00:00.000000000\",\"2016-02-01T00:00:00.000000000\",\"2016-03-01T00:00:00.000000000\",\"2016-04-01T00:00:00.000000000\",\"2016-05-01T00:00:00.000000000\",\"2016-06-01T00:00:00.000000000\",\"2016-07-01T00:00:00.000000000\",\"2016-08-01T00:00:00.000000000\",\"2016-09-01T00:00:00.000000000\",\"2016-10-01T00:00:00.000000000\",\"2016-11-01T00:00:00.000000000\",\"2016-12-01T00:00:00.000000000\",\"2017-01-01T00:00:00.000000000\",\"2017-02-01T00:00:00.000000000\",\"2017-03-01T00:00:00.000000000\",\"2017-04-01T00:00:00.000000000\",\"2017-05-01T00:00:00.000000000\",\"2017-06-01T00:00:00.000000000\",\"2017-07-01T00:00:00.000000000\",\"2017-08-01T00:00:00.000000000\",\"2017-09-01T00:00:00.000000000\",\"2017-10-01T00:00:00.000000000\",\"2017-11-01T00:00:00.000000000\",\"2017-12-01T00:00:00.000000000\",\"2018-01-01T00:00:00.000000000\"],\"xaxis\":\"x\",\"y\":{\"dtype\":\"f8\",\"bdata\":\"HHxhMlUgUkBeukkMAqtRQGFUUiegOU9AzqrP1Va8TEAcfGEyVahLQHrHKTqSC01AVn2utmJPT0ArhxbZzp9PQO2ePCzUSk5ARpT2Bl8oTEDy0k1iEABNQH0\\u002fNV66LVFAyJi7lpBTUkAJG55eKf9QQIY41sVtHE9A6gQ0ETaETECqYFRSJ+hLQCUGgZVD801AokW28\\u002f1wUEA7cM6I0h5QQPLSTWIQgE5AMnctIR\\u002fETECIhVrTvKtNQDj4wmSqCFFAwOyePCx0UkCHFtnO94NRQNejcD0KZ1BAo5I6AU0UTkDHKTqSy29NQFJJnYAm8k9AHcnlP6Q3UUCOBvAWSIRRQEHxY8xdB1BAKjqSy38wTkAzxLEubjtPQIy5awn5pFFAXW3F\\u002frL3U0BR2ht8YQpTQDQRNjy9klFA5q4l5IOeT0B56SYxCLROQMIXJlMFx1BAO3DOiNI+UkCiRbbz\\u002ffBSQIy5awn54FBAFR3J5T+kT0CQoPgx5kZQQF5LyAc9d1JAJuSDns16U0AyVTAqqStTQF+YTBWMVlJApSxDHOtGUECcM6K0N9hPQPVKWYY4HlFABOeMKO2BUkAXt9EA3sJSQAHeAgmKU1FAlkOLbOd3UEA\\u002fxty1hERRQGN\\u002f2T15DFVAdEaU9gYXVUCJ0t7gC0tTQM07TtGRTFJAIEHxY8zRUECU9gZfmHRQQL3jFB3J3VFAnu+nxksnU0CC4seYu0ZTQJZDi2znQ1JADi2yne\\u002fbUEDHSzeJQSRRQABvgQTFa1NAmggbnl6BVUDkg57NqmNTQI\\u002fC9ShcV1JAmpmZmZnJUECxv+yePDRRQEvqBDQRtlJAZ0Rpb\\u002fAFVEA17zhFR8pTQPCFyVTBZFJAY+5aQj4wUUBFR3L5DyFSQGWqYFRS31NAg8DKoUVSVUDmriXkgwpUQPYoXI\\u002fCoVJAodY07zhpUUDPZtXnastQQPcGX5hMzVFAP8bctYRgU0C1N\\u002fjCZCJTQN\\u002fgC5OpFlJAmSoYldRBUUByio7k8l9SQGkAb4EEIVVAzTtO0ZH8VUCPU3QklyNVQFHaG3xh3lNAXW3F\\u002frLDUUCIY13cRutQQHBfB84ZlVJAuycPC7WGVEAdWmQ734NUQO0NvjCZplJA3SQGgZVrUUBd3EYDeJtSQAKaCBueDlVAcM6I0t6IV0DnHafoSMpVQHL5D+m3z1NAtTf4wmS+UUBGJXUCmlhRQKUsQxzrflNAfT81XrrRVEC4QILix3hUQPkP6bev61JAzF1LyAfRUUDWVuwvu89SQEcDeAskNFVABaOSOgEdV0CEns2qz9lVQMxdS8gHUVRAKqkT0ER0UkBhMlUwKlFSQEHxY8xdk1NAl\\u002f+Qfvt+VUBJLv8h\\u002fWJWQE5iEFg5oFNAodY07zhtUkB2cRsN4OlTQH\\u002f7OnDOtFZA5x2n6Ei+WEBbQj7o2ThXQM6I0t7gu1VAZ9XnaitOU0D5D+m3rytTQBZqTfOOe1RAaCJseHp9VUBBguLHmKNVQI4G8BZIzFNAHOviNhqsUkDb+X5qvERUQFCNl24Sn1ZARGlv8IWdWEDZzvdT43FWQM3MzMzMwFRA7zhFR3IJU0BDHOviNnZSQLByaJHt8FNA\\u002fkP67escVkDD0ytlGfJVQKMBvAUSfFRAwOyePCxgU0AXt9EA3oJUQFg5tMh2BldAppvEILCyV0AUrkfhevRVQDojSnuDo1VAldQJaCIwU0BnRGlv8IFTQKg1zTtOnVVAYVRSJ6B1V0BEi2zn+2FXQHuDL0ym4lVAoImw4ekFVEDyQc9m1VtUQGTMXUvI61ZADeAtkKCIWUAPnDOitMtWQF5LyAc9r1ZANxrAWyAhVEAi\\u002ffZ14NhTQH3Qs1n19VVApU5AE2FfWECfPCzUmhpYQAMJih9jzlVAaQBvgQQpVEApXI\\u002fC9YxUQHicoiO5oFdA0LNZ9bmOWUCQMXctIZNXQLUV+8vuBVZAuB6F61FcVEDpSC7\\u002fIR1VQO0NvjCZwlZAJCh+jLn\\u002fV0APnDOitNdYQDQRNjy9ulZAt9EA3gLJVEC0yHa+nwJWQBNhw9MrnVlApSxDHOtGW0BJLv8h\\u002fUpYQLfRAN4CNVdAw\\u002fUoXI+6VEDl0CLb+aJUQFpkO99PmVZA2\\u002fl+arwEWEDPZtXnauNYQESLbOf7EVZAlkOLbOerVEAdyeU\\u002fpLtUQJF++zpwQldAwcqhRba\\u002fWUDhehSuR81XQOM2GsBbUFdAexSuR+FyVUCJ0t7gC09VQJXUCWgiTFdA\\u002ftR46SaZWUDc14FzRmhZQABvgQTFU1dA\\u002ffZ14Jy5VUAbnl4pyyRWQEi\\u002ffR04M1lAyJi7lpCLW0D9h\\u002fTb1\\u002fVZQGwJ+aBno1dAhxbZzvdDVUALtaZ5x11VQHDOiNLexFZArkfhehSOWUAu\\u002fyH99h1aQFg5tMh2OldAo5I6AU2gVUBiEFg5tCRWQDQRNjy94llAvAUSFD9uXEAZBFYOLYpaQL3jFB3J2VdAmEwVjEquVUC1FfvL7kFWQD81XrpJ4FdAF7fRAN5yWUApXI\\u002fC9QxZQKjGSzeJgVdA78nDQq3hVUBlqmBUUmdWQG3F\\u002frJ7blpAw2SqYFTKW0DZzvdT43FZQPCnxks3vVhAdCSX\\u002f5CeVUBKe4MvTM5VQMbctYR84FhAGJXUCWgWW0As1JrmHV9bQAisHFpkx1hAhjjWxW1wVkA2qz5XW51WQEOtad5xDltAWKg1zTseWkAawFsgQWFZQGiz6nO1mVhAlPYGX5jgVUAofoy5a4FWQG+BBMWPIVlA4lgXt9G8W0BTBaOSOuFbQKkT0ETY8FdAq8\\u002fVVuyXVkA7cM6I0hZXQE5iEFg5xFlA+Q\\u002fpt68DXEBE+u3rwPVbQLgehetRzFhAHHxhMlW0VkCdEaW9wQNXQATnjCjtPVlAXCBB8WPkWkBm9+RhoYZcQG6jAbwFYllAOGdEaW9AV0AYldQJaHpXQHEbDeAtsFpADJOpglG1XEDsL7snDw9bQKMBvAUSHFlAHcnlP6S\\u002fVkB0RpT2Bs9WQAyTqYJR\\u002fVlA9+RhodawW0DHSzeJQeRaQOAtkKD4bVhAayv2l92\\u002fVkDImLuWkHNXQBDpt68DW1tAodY07zg1XUDecYqO5BpaQIqw4emVdlhADeAtkKAMVkAnwoanV+JVQIhjXdxGT1hAUkmdgCb6WUBHcvkP6W9aQLFQa5p3uFdAOwFNhA1TVkBt5\\u002fup8VZWQHlYqDXNq1tARUdy+Q\\u002fBXUAnMQisHKJbQHBfB84ZkVhAMzMzMzOTVUD2l92Th7VWQMpUwaikFlpACD2bVZ8zXEBSJ6CJsDlcQIiFWtO8B1lA5WGh1jQ7VkCamZmZmTFXQOm3rwPnlFxArBxaZDvfXUAVjErqBNhaQNiBc0aUxlhACYofY+5WVkCxUGuad4RWQNxoAG+BtFlABTQRNjytXEA8vVKWIWZcQAN4CyQo3lhAO3DOiNKWVkArhxbZznNXQNobfGEy1VpAL26jAbz9W0CzDHGsi9dZQBTQRNjwZFdACD2bVZ\\u002fjVUCGyVTBqDBXQClcj8L1SFlA5x2n6EhCXECJ0t7gC3dbQBZqTfOOL1hAMQisHFqYVkDEQq1p3pVXQCh+jLlrUVpA8tJNYhDgXEDl0CLb+a5aQOSDns2qv1lA48eYu5bAVkDZPXlYqL1WQPH0SlmGLFlAtvP91HiJW0BeS8gHPQtbQJJc\\u002fkP60VhAn6ut2F\\u002fyVkAgY+5aQlJYQOcdp+hIXlxAB\\u002fAWSFAQX0BcIEHxYzhcQPfkYaHWMFpA2PD0SlmSVkB\\u002farx0kwhXQNV46SYxeFlAHqfoSC4jW0Aj2\\u002fl+agxbQAn5oGezGllAat5xio4YV0C30QDeAu1YQG40gLdAVltAGsBbIEERXkBj7lpCPhhdQNlfdk8eHlpA6+I2GsBvVkDLoUW288VWQCGwcmiRqVlAOPjCZKroW0BSuB6F66VbQELPZtXnellA7uvAOSPmVkAVjErqBERXQMPTK2UZzllANqs+V1tFXUAm5IOezapaQLsnDwu11ldAlIeFWtNUVkAJG55eKa9WQGZmZmZmAlpArWnecYqiXEBpAG+BBOFcQCL99nXgsFlApb3BFybfVkApXI\\u002fC9ThXQLdif9k9MVxA30+Nl262XEBB8WPMXd9YQPs6cM6IQllAO99PjZcWVkD+1HjpJgVXQNJvXwfOiVlA\\u002fYf029cJXEBBguLHmDtbQFZ9rrZip1hAiGNd3EZnV0B9rrZif1VYQAN4CyQorlxAdy0hH\\u002fQsYEA=\"},\"yaxis\":\"y\",\"type\":\"scatter\"}],                        {\"template\":{\"data\":{\"histogram2dcontour\":[{\"type\":\"histogram2dcontour\",\"colorbar\":{\"outlinewidth\":0,\"ticks\":\"\"},\"colorscale\":[[0.0,\"#0d0887\"],[0.1111111111111111,\"#46039f\"],[0.2222222222222222,\"#7201a8\"],[0.3333333333333333,\"#9c179e\"],[0.4444444444444444,\"#bd3786\"],[0.5555555555555556,\"#d8576b\"],[0.6666666666666666,\"#ed7953\"],[0.7777777777777778,\"#fb9f3a\"],[0.8888888888888888,\"#fdca26\"],[1.0,\"#f0f921\"]]}],\"choropleth\":[{\"type\":\"choropleth\",\"colorbar\":{\"outlinewidth\":0,\"ticks\":\"\"}}],\"histogram2d\":[{\"type\":\"histogram2d\",\"colorbar\":{\"outlinewidth\":0,\"ticks\":\"\"},\"colorscale\":[[0.0,\"#0d0887\"],[0.1111111111111111,\"#46039f\"],[0.2222222222222222,\"#7201a8\"],[0.3333333333333333,\"#9c179e\"],[0.4444444444444444,\"#bd3786\"],[0.5555555555555556,\"#d8576b\"],[0.6666666666666666,\"#ed7953\"],[0.7777777777777778,\"#fb9f3a\"],[0.8888888888888888,\"#fdca26\"],[1.0,\"#f0f921\"]]}],\"heatmap\":[{\"type\":\"heatmap\",\"colorbar\":{\"outlinewidth\":0,\"ticks\":\"\"},\"colorscale\":[[0.0,\"#0d0887\"],[0.1111111111111111,\"#46039f\"],[0.2222222222222222,\"#7201a8\"],[0.3333333333333333,\"#9c179e\"],[0.4444444444444444,\"#bd3786\"],[0.5555555555555556,\"#d8576b\"],[0.6666666666666666,\"#ed7953\"],[0.7777777777777778,\"#fb9f3a\"],[0.8888888888888888,\"#fdca26\"],[1.0,\"#f0f921\"]]}],\"contourcarpet\":[{\"type\":\"contourcarpet\",\"colorbar\":{\"outlinewidth\":0,\"ticks\":\"\"}}],\"contour\":[{\"type\":\"contour\",\"colorbar\":{\"outlinewidth\":0,\"ticks\":\"\"},\"colorscale\":[[0.0,\"#0d0887\"],[0.1111111111111111,\"#46039f\"],[0.2222222222222222,\"#7201a8\"],[0.3333333333333333,\"#9c179e\"],[0.4444444444444444,\"#bd3786\"],[0.5555555555555556,\"#d8576b\"],[0.6666666666666666,\"#ed7953\"],[0.7777777777777778,\"#fb9f3a\"],[0.8888888888888888,\"#fdca26\"],[1.0,\"#f0f921\"]]}],\"surface\":[{\"type\":\"surface\",\"colorbar\":{\"outlinewidth\":0,\"ticks\":\"\"},\"colorscale\":[[0.0,\"#0d0887\"],[0.1111111111111111,\"#46039f\"],[0.2222222222222222,\"#7201a8\"],[0.3333333333333333,\"#9c179e\"],[0.4444444444444444,\"#bd3786\"],[0.5555555555555556,\"#d8576b\"],[0.6666666666666666,\"#ed7953\"],[0.7777777777777778,\"#fb9f3a\"],[0.8888888888888888,\"#fdca26\"],[1.0,\"#f0f921\"]]}],\"mesh3d\":[{\"type\":\"mesh3d\",\"colorbar\":{\"outlinewidth\":0,\"ticks\":\"\"}}],\"scatter\":[{\"fillpattern\":{\"fillmode\":\"overlay\",\"size\":10,\"solidity\":0.2},\"type\":\"scatter\"}],\"parcoords\":[{\"type\":\"parcoords\",\"line\":{\"colorbar\":{\"outlinewidth\":0,\"ticks\":\"\"}}}],\"scatterpolargl\":[{\"type\":\"scatterpolargl\",\"marker\":{\"colorbar\":{\"outlinewidth\":0,\"ticks\":\"\"}}}],\"bar\":[{\"error_x\":{\"color\":\"#2a3f5f\"},\"error_y\":{\"color\":\"#2a3f5f\"},\"marker\":{\"line\":{\"color\":\"#E5ECF6\",\"width\":0.5},\"pattern\":{\"fillmode\":\"overlay\",\"size\":10,\"solidity\":0.2}},\"type\":\"bar\"}],\"scattergeo\":[{\"type\":\"scattergeo\",\"marker\":{\"colorbar\":{\"outlinewidth\":0,\"ticks\":\"\"}}}],\"scatterpolar\":[{\"type\":\"scatterpolar\",\"marker\":{\"colorbar\":{\"outlinewidth\":0,\"ticks\":\"\"}}}],\"histogram\":[{\"marker\":{\"pattern\":{\"fillmode\":\"overlay\",\"size\":10,\"solidity\":0.2}},\"type\":\"histogram\"}],\"scattergl\":[{\"type\":\"scattergl\",\"marker\":{\"colorbar\":{\"outlinewidth\":0,\"ticks\":\"\"}}}],\"scatter3d\":[{\"type\":\"scatter3d\",\"line\":{\"colorbar\":{\"outlinewidth\":0,\"ticks\":\"\"}},\"marker\":{\"colorbar\":{\"outlinewidth\":0,\"ticks\":\"\"}}}],\"scattermap\":[{\"type\":\"scattermap\",\"marker\":{\"colorbar\":{\"outlinewidth\":0,\"ticks\":\"\"}}}],\"scattermapbox\":[{\"type\":\"scattermapbox\",\"marker\":{\"colorbar\":{\"outlinewidth\":0,\"ticks\":\"\"}}}],\"scatterternary\":[{\"type\":\"scatterternary\",\"marker\":{\"colorbar\":{\"outlinewidth\":0,\"ticks\":\"\"}}}],\"scattercarpet\":[{\"type\":\"scattercarpet\",\"marker\":{\"colorbar\":{\"outlinewidth\":0,\"ticks\":\"\"}}}],\"carpet\":[{\"aaxis\":{\"endlinecolor\":\"#2a3f5f\",\"gridcolor\":\"white\",\"linecolor\":\"white\",\"minorgridcolor\":\"white\",\"startlinecolor\":\"#2a3f5f\"},\"baxis\":{\"endlinecolor\":\"#2a3f5f\",\"gridcolor\":\"white\",\"linecolor\":\"white\",\"minorgridcolor\":\"white\",\"startlinecolor\":\"#2a3f5f\"},\"type\":\"carpet\"}],\"table\":[{\"cells\":{\"fill\":{\"color\":\"#EBF0F8\"},\"line\":{\"color\":\"white\"}},\"header\":{\"fill\":{\"color\":\"#C8D4E3\"},\"line\":{\"color\":\"white\"}},\"type\":\"table\"}],\"barpolar\":[{\"marker\":{\"line\":{\"color\":\"#E5ECF6\",\"width\":0.5},\"pattern\":{\"fillmode\":\"overlay\",\"size\":10,\"solidity\":0.2}},\"type\":\"barpolar\"}],\"pie\":[{\"automargin\":true,\"type\":\"pie\"}]},\"layout\":{\"autotypenumbers\":\"strict\",\"colorway\":[\"#636efa\",\"#EF553B\",\"#00cc96\",\"#ab63fa\",\"#FFA15A\",\"#19d3f3\",\"#FF6692\",\"#B6E880\",\"#FF97FF\",\"#FECB52\"],\"font\":{\"color\":\"#2a3f5f\"},\"hovermode\":\"closest\",\"hoverlabel\":{\"align\":\"left\"},\"paper_bgcolor\":\"white\",\"plot_bgcolor\":\"#E5ECF6\",\"polar\":{\"bgcolor\":\"#E5ECF6\",\"angularaxis\":{\"gridcolor\":\"white\",\"linecolor\":\"white\",\"ticks\":\"\"},\"radialaxis\":{\"gridcolor\":\"white\",\"linecolor\":\"white\",\"ticks\":\"\"}},\"ternary\":{\"bgcolor\":\"#E5ECF6\",\"aaxis\":{\"gridcolor\":\"white\",\"linecolor\":\"white\",\"ticks\":\"\"},\"baxis\":{\"gridcolor\":\"white\",\"linecolor\":\"white\",\"ticks\":\"\"},\"caxis\":{\"gridcolor\":\"white\",\"linecolor\":\"white\",\"ticks\":\"\"}},\"coloraxis\":{\"colorbar\":{\"outlinewidth\":0,\"ticks\":\"\"}},\"colorscale\":{\"sequential\":[[0.0,\"#0d0887\"],[0.1111111111111111,\"#46039f\"],[0.2222222222222222,\"#7201a8\"],[0.3333333333333333,\"#9c179e\"],[0.4444444444444444,\"#bd3786\"],[0.5555555555555556,\"#d8576b\"],[0.6666666666666666,\"#ed7953\"],[0.7777777777777778,\"#fb9f3a\"],[0.8888888888888888,\"#fdca26\"],[1.0,\"#f0f921\"]],\"sequentialminus\":[[0.0,\"#0d0887\"],[0.1111111111111111,\"#46039f\"],[0.2222222222222222,\"#7201a8\"],[0.3333333333333333,\"#9c179e\"],[0.4444444444444444,\"#bd3786\"],[0.5555555555555556,\"#d8576b\"],[0.6666666666666666,\"#ed7953\"],[0.7777777777777778,\"#fb9f3a\"],[0.8888888888888888,\"#fdca26\"],[1.0,\"#f0f921\"]],\"diverging\":[[0,\"#8e0152\"],[0.1,\"#c51b7d\"],[0.2,\"#de77ae\"],[0.3,\"#f1b6da\"],[0.4,\"#fde0ef\"],[0.5,\"#f7f7f7\"],[0.6,\"#e6f5d0\"],[0.7,\"#b8e186\"],[0.8,\"#7fbc41\"],[0.9,\"#4d9221\"],[1,\"#276419\"]]},\"xaxis\":{\"gridcolor\":\"white\",\"linecolor\":\"white\",\"ticks\":\"\",\"title\":{\"standoff\":15},\"zerolinecolor\":\"white\",\"automargin\":true,\"zerolinewidth\":2},\"yaxis\":{\"gridcolor\":\"white\",\"linecolor\":\"white\",\"ticks\":\"\",\"title\":{\"standoff\":15},\"zerolinecolor\":\"white\",\"automargin\":true,\"zerolinewidth\":2},\"scene\":{\"xaxis\":{\"backgroundcolor\":\"#E5ECF6\",\"gridcolor\":\"white\",\"linecolor\":\"white\",\"showbackground\":true,\"ticks\":\"\",\"zerolinecolor\":\"white\",\"gridwidth\":2},\"yaxis\":{\"backgroundcolor\":\"#E5ECF6\",\"gridcolor\":\"white\",\"linecolor\":\"white\",\"showbackground\":true,\"ticks\":\"\",\"zerolinecolor\":\"white\",\"gridwidth\":2},\"zaxis\":{\"backgroundcolor\":\"#E5ECF6\",\"gridcolor\":\"white\",\"linecolor\":\"white\",\"showbackground\":true,\"ticks\":\"\",\"zerolinecolor\":\"white\",\"gridwidth\":2}},\"shapedefaults\":{\"line\":{\"color\":\"#2a3f5f\"}},\"annotationdefaults\":{\"arrowcolor\":\"#2a3f5f\",\"arrowhead\":0,\"arrowwidth\":1},\"geo\":{\"bgcolor\":\"white\",\"landcolor\":\"#E5ECF6\",\"subunitcolor\":\"white\",\"showland\":true,\"showlakes\":true,\"lakecolor\":\"white\"},\"title\":{\"x\":0.05},\"mapbox\":{\"style\":\"light\"}}},\"xaxis\":{\"anchor\":\"y\",\"domain\":[0.0,1.0],\"title\":{\"text\":\"x\"}},\"yaxis\":{\"anchor\":\"x\",\"domain\":[0.0,1.0],\"title\":{\"text\":\"y\"}},\"legend\":{\"tracegroupgap\":0},\"title\":{\"text\":\"original time seires\"}},                        {\"responsive\": true}                    )                };            </script>        </div>"
      ],
      "text/plain": [
       "Figure({\n",
       "    'data': [{'fillpattern': {'shape': ''},\n",
       "              'hovertemplate': 'x=%{x}<br>y=%{y}<extra></extra>',\n",
       "              'legendgroup': '',\n",
       "              'line': {'color': '#636efa'},\n",
       "              'marker': {'symbol': 'circle'},\n",
       "              'mode': 'lines',\n",
       "              'name': '',\n",
       "              'orientation': 'v',\n",
       "              'showlegend': False,\n",
       "              'stackgroup': '1',\n",
       "              'type': 'scatter',\n",
       "              'x': array(['1985-01-01T00:00:00.000000000', '1985-02-01T00:00:00.000000000',\n",
       "                          '1985-03-01T00:00:00.000000000', ..., '2017-11-01T00:00:00.000000000',\n",
       "                          '2017-12-01T00:00:00.000000000', '2018-01-01T00:00:00.000000000'],\n",
       "                         dtype='datetime64[ns]'),\n",
       "              'xaxis': 'x',\n",
       "              'y': {'bdata': ('HHxhMlUgUkBeukkMAqtRQGFUUiegOU' ... 'Zif1VYQAN4CyQorlxAdy0hH/QsYEA='),\n",
       "                    'dtype': 'f8'},\n",
       "              'yaxis': 'y'}],\n",
       "    'layout': {'legend': {'tracegroupgap': 0},\n",
       "               'template': '...',\n",
       "               'title': {'text': 'original time seires'},\n",
       "               'xaxis': {'anchor': 'y', 'domain': [0.0, 1.0], 'title': {'text': 'x'}},\n",
       "               'yaxis': {'anchor': 'x', 'domain': [0.0, 1.0], 'title': {'text': 'y'}}}\n",
       "})"
      ]
     },
     "execution_count": 29,
     "metadata": {},
     "output_type": "execute_result"
    }
   ],
   "source": [
    "import plotly.express as px\n",
    "\n",
    "fig = px.area(x=df.index, y=df[\"IPG2211A2N\"], title=\"original time seires\")\n",
    "fig"
   ]
  },
  {
   "cell_type": "code",
   "execution_count": 30,
   "metadata": {},
   "outputs": [],
   "source": [
    "dff = df_component.melt(ignore_index=False)"
   ]
  },
  {
   "cell_type": "code",
   "execution_count": 31,
   "metadata": {},
   "outputs": [
    {
     "data": {
      "application/vnd.microsoft.datawrangler.viewer.v0+json": {
       "columns": [
        {
         "name": "DATE",
         "rawType": "datetime64[ns]",
         "type": "datetime"
        },
        {
         "name": "variable",
         "rawType": "object",
         "type": "string"
        },
        {
         "name": "value",
         "rawType": "float64",
         "type": "float"
        }
       ],
       "conversionMethod": "pd.DataFrame",
       "ref": "e5cde133-06ee-4eae-bf94-631996cad846",
       "rows": [
        [
         "1985-07-01 00:00:00",
         "IPG2211A2N",
         "62.6202"
        ],
        [
         "1985-08-01 00:00:00",
         "IPG2211A2N",
         "63.2485"
        ],
        [
         "1985-09-01 00:00:00",
         "IPG2211A2N",
         "60.5846"
        ],
        [
         "1985-10-01 00:00:00",
         "IPG2211A2N",
         "56.3154"
        ],
        [
         "1985-11-01 00:00:00",
         "IPG2211A2N",
         "58.0005"
        ],
        [
         "1985-12-01 00:00:00",
         "IPG2211A2N",
         "68.7145"
        ],
        [
         "1986-01-01 00:00:00",
         "IPG2211A2N",
         "73.3057"
        ],
        [
         "1986-02-01 00:00:00",
         "IPG2211A2N",
         "67.9869"
        ],
        [
         "1986-03-01 00:00:00",
         "IPG2211A2N",
         "62.2221"
        ],
        [
         "1986-04-01 00:00:00",
         "IPG2211A2N",
         "57.0329"
        ],
        [
         "1986-05-01 00:00:00",
         "IPG2211A2N",
         "55.8137"
        ],
        [
         "1986-06-01 00:00:00",
         "IPG2211A2N",
         "59.9005"
        ],
        [
         "1986-07-01 00:00:00",
         "IPG2211A2N",
         "65.7655"
        ],
        [
         "1986-08-01 00:00:00",
         "IPG2211A2N",
         "64.4816"
        ],
        [
         "1986-09-01 00:00:00",
         "IPG2211A2N",
         "61.0005"
        ],
        [
         "1986-10-01 00:00:00",
         "IPG2211A2N",
         "57.5322"
        ],
        [
         "1986-11-01 00:00:00",
         "IPG2211A2N",
         "59.3417"
        ],
        [
         "1986-12-01 00:00:00",
         "IPG2211A2N",
         "68.1354"
        ],
        [
         "1987-01-01 00:00:00",
         "IPG2211A2N",
         "73.8152"
        ],
        [
         "1987-02-01 00:00:00",
         "IPG2211A2N",
         "70.062"
        ],
        [
         "1987-03-01 00:00:00",
         "IPG2211A2N",
         "65.61"
        ],
        [
         "1987-04-01 00:00:00",
         "IPG2211A2N",
         "60.1586"
        ],
        [
         "1987-05-01 00:00:00",
         "IPG2211A2N",
         "58.8734"
        ],
        [
         "1987-06-01 00:00:00",
         "IPG2211A2N",
         "63.8918"
        ],
        [
         "1987-07-01 00:00:00",
         "IPG2211A2N",
         "68.8694"
        ],
        [
         "1987-08-01 00:00:00",
         "IPG2211A2N",
         "70.0669"
        ],
        [
         "1987-09-01 00:00:00",
         "IPG2211A2N",
         "64.1151"
        ],
        [
         "1987-10-01 00:00:00",
         "IPG2211A2N",
         "60.3789"
        ],
        [
         "1987-11-01 00:00:00",
         "IPG2211A2N",
         "62.4643"
        ],
        [
         "1987-12-01 00:00:00",
         "IPG2211A2N",
         "70.5777"
        ],
        [
         "1988-01-01 00:00:00",
         "IPG2211A2N",
         "79.8703"
        ],
        [
         "1988-02-01 00:00:00",
         "IPG2211A2N",
         "76.1622"
        ],
        [
         "1988-03-01 00:00:00",
         "IPG2211A2N",
         "70.2928"
        ],
        [
         "1988-04-01 00:00:00",
         "IPG2211A2N",
         "63.2384"
        ],
        [
         "1988-05-01 00:00:00",
         "IPG2211A2N",
         "61.4065"
        ],
        [
         "1988-06-01 00:00:00",
         "IPG2211A2N",
         "67.1097"
        ],
        [
         "1988-07-01 00:00:00",
         "IPG2211A2N",
         "72.9816"
        ],
        [
         "1988-08-01 00:00:00",
         "IPG2211A2N",
         "75.7655"
        ],
        [
         "1988-09-01 00:00:00",
         "IPG2211A2N",
         "67.5152"
        ],
        [
         "1988-10-01 00:00:00",
         "IPG2211A2N",
         "63.2832"
        ],
        [
         "1988-11-01 00:00:00",
         "IPG2211A2N",
         "65.1078"
        ],
        [
         "1988-12-01 00:00:00",
         "IPG2211A2N",
         "73.8631"
        ],
        [
         "1989-01-01 00:00:00",
         "IPG2211A2N",
         "77.9188"
        ],
        [
         "1989-02-01 00:00:00",
         "IPG2211A2N",
         "76.6822"
        ],
        [
         "1989-03-01 00:00:00",
         "IPG2211A2N",
         "73.3523"
        ],
        [
         "1989-04-01 00:00:00",
         "IPG2211A2N",
         "65.1081"
        ],
        [
         "1989-05-01 00:00:00",
         "IPG2211A2N",
         "63.6892"
        ],
        [
         "1989-06-01 00:00:00",
         "IPG2211A2N",
         "68.4722"
        ],
        [
         "1989-07-01 00:00:00",
         "IPG2211A2N",
         "74.0301"
        ],
        [
         "1989-08-01 00:00:00",
         "IPG2211A2N",
         "75.0448"
        ]
       ],
       "shape": {
        "columns": 2,
        "rows": 1540
       }
      },
      "text/html": [
       "<div>\n",
       "<style scoped>\n",
       "    .dataframe tbody tr th:only-of-type {\n",
       "        vertical-align: middle;\n",
       "    }\n",
       "\n",
       "    .dataframe tbody tr th {\n",
       "        vertical-align: top;\n",
       "    }\n",
       "\n",
       "    .dataframe thead th {\n",
       "        text-align: right;\n",
       "    }\n",
       "</style>\n",
       "<table border=\"1\" class=\"dataframe\">\n",
       "  <thead>\n",
       "    <tr style=\"text-align: right;\">\n",
       "      <th></th>\n",
       "      <th>variable</th>\n",
       "      <th>value</th>\n",
       "    </tr>\n",
       "    <tr>\n",
       "      <th>DATE</th>\n",
       "      <th></th>\n",
       "      <th></th>\n",
       "    </tr>\n",
       "  </thead>\n",
       "  <tbody>\n",
       "    <tr>\n",
       "      <th>1985-07-01</th>\n",
       "      <td>IPG2211A2N</td>\n",
       "      <td>62.620200</td>\n",
       "    </tr>\n",
       "    <tr>\n",
       "      <th>1985-08-01</th>\n",
       "      <td>IPG2211A2N</td>\n",
       "      <td>63.248500</td>\n",
       "    </tr>\n",
       "    <tr>\n",
       "      <th>1985-09-01</th>\n",
       "      <td>IPG2211A2N</td>\n",
       "      <td>60.584600</td>\n",
       "    </tr>\n",
       "    <tr>\n",
       "      <th>1985-10-01</th>\n",
       "      <td>IPG2211A2N</td>\n",
       "      <td>56.315400</td>\n",
       "    </tr>\n",
       "    <tr>\n",
       "      <th>1985-11-01</th>\n",
       "      <td>IPG2211A2N</td>\n",
       "      <td>58.000500</td>\n",
       "    </tr>\n",
       "    <tr>\n",
       "      <th>...</th>\n",
       "      <td>...</td>\n",
       "      <td>...</td>\n",
       "    </tr>\n",
       "    <tr>\n",
       "      <th>2017-03-01</th>\n",
       "      <td>residual</td>\n",
       "      <td>1.000390</td>\n",
       "    </tr>\n",
       "    <tr>\n",
       "      <th>2017-04-01</th>\n",
       "      <td>residual</td>\n",
       "      <td>0.973177</td>\n",
       "    </tr>\n",
       "    <tr>\n",
       "      <th>2017-05-01</th>\n",
       "      <td>residual</td>\n",
       "      <td>1.010713</td>\n",
       "    </tr>\n",
       "    <tr>\n",
       "      <th>2017-06-01</th>\n",
       "      <td>residual</td>\n",
       "      <td>1.018219</td>\n",
       "    </tr>\n",
       "    <tr>\n",
       "      <th>2017-07-01</th>\n",
       "      <td>residual</td>\n",
       "      <td>1.025785</td>\n",
       "    </tr>\n",
       "  </tbody>\n",
       "</table>\n",
       "<p>1540 rows × 2 columns</p>\n",
       "</div>"
      ],
      "text/plain": [
       "              variable      value\n",
       "DATE                             \n",
       "1985-07-01  IPG2211A2N  62.620200\n",
       "1985-08-01  IPG2211A2N  63.248500\n",
       "1985-09-01  IPG2211A2N  60.584600\n",
       "1985-10-01  IPG2211A2N  56.315400\n",
       "1985-11-01  IPG2211A2N  58.000500\n",
       "...                ...        ...\n",
       "2017-03-01    residual   1.000390\n",
       "2017-04-01    residual   0.973177\n",
       "2017-05-01    residual   1.010713\n",
       "2017-06-01    residual   1.018219\n",
       "2017-07-01    residual   1.025785\n",
       "\n",
       "[1540 rows x 2 columns]"
      ]
     },
     "execution_count": 31,
     "metadata": {},
     "output_type": "execute_result"
    }
   ],
   "source": [
    "dff"
   ]
  },
  {
   "cell_type": "markdown",
   "metadata": {},
   "source": [
    "---"
   ]
  },
  {
   "cell_type": "code",
   "execution_count": 32,
   "metadata": {},
   "outputs": [],
   "source": [
    "import pandas as pd\n",
    "from prophet import Prophet\n",
    "import joblib"
   ]
  },
  {
   "cell_type": "code",
   "execution_count": 36,
   "metadata": {},
   "outputs": [],
   "source": [
    "path = 'https://frenzy86.s3.eu-west-2.amazonaws.com/python/data/monthly-milk-production-pounds.csv'"
   ]
  },
  {
   "cell_type": "code",
   "execution_count": 37,
   "metadata": {},
   "outputs": [],
   "source": [
    "df1 = pd.read_csv(path)"
   ]
  },
  {
   "cell_type": "code",
   "execution_count": 38,
   "metadata": {},
   "outputs": [
    {
     "data": {
      "application/vnd.microsoft.datawrangler.viewer.v0+json": {
       "columns": [
        {
         "name": "index",
         "rawType": "int64",
         "type": "integer"
        },
        {
         "name": "Month",
         "rawType": "object",
         "type": "string"
        },
        {
         "name": "Monthly milk production: pounds per cow. Jan 62 ? Dec 75",
         "rawType": "float64",
         "type": "float"
        }
       ],
       "conversionMethod": "pd.DataFrame",
       "ref": "fd4254fd-0742-4d60-a7cf-4a2ff8d12f2d",
       "rows": [
        [
         "0",
         "1962-01",
         "589.0"
        ],
        [
         "1",
         "1962-02",
         "561.0"
        ],
        [
         "2",
         "1962-03",
         "640.0"
        ],
        [
         "3",
         "1962-04",
         "656.0"
        ],
        [
         "4",
         "1962-05",
         "727.0"
        ],
        [
         "5",
         "1962-06",
         "697.0"
        ],
        [
         "6",
         "1962-07",
         "640.0"
        ],
        [
         "7",
         "1962-08",
         "599.0"
        ],
        [
         "8",
         "1962-09",
         "568.0"
        ],
        [
         "9",
         "1962-10",
         "577.0"
        ],
        [
         "10",
         "1962-11",
         "553.0"
        ],
        [
         "11",
         "1962-12",
         "582.0"
        ],
        [
         "12",
         "1963-01",
         "600.0"
        ],
        [
         "13",
         "1963-02",
         "566.0"
        ],
        [
         "14",
         "1963-03",
         "653.0"
        ],
        [
         "15",
         "1963-04",
         "673.0"
        ],
        [
         "16",
         "1963-05",
         "742.0"
        ],
        [
         "17",
         "1963-06",
         "716.0"
        ],
        [
         "18",
         "1963-07",
         "660.0"
        ],
        [
         "19",
         "1963-08",
         "617.0"
        ],
        [
         "20",
         "1963-09",
         "583.0"
        ],
        [
         "21",
         "1963-10",
         "587.0"
        ],
        [
         "22",
         "1963-11",
         "565.0"
        ],
        [
         "23",
         "1963-12",
         "598.0"
        ],
        [
         "24",
         "1964-01",
         "628.0"
        ],
        [
         "25",
         "1964-02",
         "618.0"
        ],
        [
         "26",
         "1964-03",
         "688.0"
        ],
        [
         "27",
         "1964-04",
         "705.0"
        ],
        [
         "28",
         "1964-05",
         "770.0"
        ],
        [
         "29",
         "1964-06",
         "736.0"
        ],
        [
         "30",
         "1964-07",
         "678.0"
        ],
        [
         "31",
         "1964-08",
         "639.0"
        ],
        [
         "32",
         "1964-09",
         "604.0"
        ],
        [
         "33",
         "1964-10",
         "611.0"
        ],
        [
         "34",
         "1964-11",
         "594.0"
        ],
        [
         "35",
         "1964-12",
         "634.0"
        ],
        [
         "36",
         "1965-01",
         "658.0"
        ],
        [
         "37",
         "1965-02",
         "622.0"
        ],
        [
         "38",
         "1965-03",
         "709.0"
        ],
        [
         "39",
         "1965-04",
         "722.0"
        ],
        [
         "40",
         "1965-05",
         "782.0"
        ],
        [
         "41",
         "1965-06",
         "756.0"
        ],
        [
         "42",
         "1965-07",
         "702.0"
        ],
        [
         "43",
         "1965-08",
         "653.0"
        ],
        [
         "44",
         "1965-09",
         "615.0"
        ],
        [
         "45",
         "1965-10",
         "621.0"
        ],
        [
         "46",
         "1965-11",
         "602.0"
        ],
        [
         "47",
         "1965-12",
         "635.0"
        ],
        [
         "48",
         "1966-01",
         "677.0"
        ],
        [
         "49",
         "1966-02",
         "635.0"
        ]
       ],
       "shape": {
        "columns": 2,
        "rows": 169
       }
      },
      "text/html": [
       "<div>\n",
       "<style scoped>\n",
       "    .dataframe tbody tr th:only-of-type {\n",
       "        vertical-align: middle;\n",
       "    }\n",
       "\n",
       "    .dataframe tbody tr th {\n",
       "        vertical-align: top;\n",
       "    }\n",
       "\n",
       "    .dataframe thead th {\n",
       "        text-align: right;\n",
       "    }\n",
       "</style>\n",
       "<table border=\"1\" class=\"dataframe\">\n",
       "  <thead>\n",
       "    <tr style=\"text-align: right;\">\n",
       "      <th></th>\n",
       "      <th>Month</th>\n",
       "      <th>Monthly milk production: pounds per cow. Jan 62 ? Dec 75</th>\n",
       "    </tr>\n",
       "  </thead>\n",
       "  <tbody>\n",
       "    <tr>\n",
       "      <th>0</th>\n",
       "      <td>1962-01</td>\n",
       "      <td>589.0</td>\n",
       "    </tr>\n",
       "    <tr>\n",
       "      <th>1</th>\n",
       "      <td>1962-02</td>\n",
       "      <td>561.0</td>\n",
       "    </tr>\n",
       "    <tr>\n",
       "      <th>2</th>\n",
       "      <td>1962-03</td>\n",
       "      <td>640.0</td>\n",
       "    </tr>\n",
       "    <tr>\n",
       "      <th>3</th>\n",
       "      <td>1962-04</td>\n",
       "      <td>656.0</td>\n",
       "    </tr>\n",
       "    <tr>\n",
       "      <th>4</th>\n",
       "      <td>1962-05</td>\n",
       "      <td>727.0</td>\n",
       "    </tr>\n",
       "    <tr>\n",
       "      <th>...</th>\n",
       "      <td>...</td>\n",
       "      <td>...</td>\n",
       "    </tr>\n",
       "    <tr>\n",
       "      <th>164</th>\n",
       "      <td>1975-09</td>\n",
       "      <td>817.0</td>\n",
       "    </tr>\n",
       "    <tr>\n",
       "      <th>165</th>\n",
       "      <td>1975-10</td>\n",
       "      <td>827.0</td>\n",
       "    </tr>\n",
       "    <tr>\n",
       "      <th>166</th>\n",
       "      <td>1975-11</td>\n",
       "      <td>797.0</td>\n",
       "    </tr>\n",
       "    <tr>\n",
       "      <th>167</th>\n",
       "      <td>1975-12</td>\n",
       "      <td>843.0</td>\n",
       "    </tr>\n",
       "    <tr>\n",
       "      <th>168</th>\n",
       "      <td>Monthly milk production: pounds per cow. Jan 6...</td>\n",
       "      <td>NaN</td>\n",
       "    </tr>\n",
       "  </tbody>\n",
       "</table>\n",
       "<p>169 rows × 2 columns</p>\n",
       "</div>"
      ],
      "text/plain": [
       "                                                 Month  \\\n",
       "0                                              1962-01   \n",
       "1                                              1962-02   \n",
       "2                                              1962-03   \n",
       "3                                              1962-04   \n",
       "4                                              1962-05   \n",
       "..                                                 ...   \n",
       "164                                            1975-09   \n",
       "165                                            1975-10   \n",
       "166                                            1975-11   \n",
       "167                                            1975-12   \n",
       "168  Monthly milk production: pounds per cow. Jan 6...   \n",
       "\n",
       "     Monthly milk production: pounds per cow. Jan 62 ? Dec 75  \n",
       "0                                                589.0         \n",
       "1                                                561.0         \n",
       "2                                                640.0         \n",
       "3                                                656.0         \n",
       "4                                                727.0         \n",
       "..                                                 ...         \n",
       "164                                              817.0         \n",
       "165                                              827.0         \n",
       "166                                              797.0         \n",
       "167                                              843.0         \n",
       "168                                                NaN         \n",
       "\n",
       "[169 rows x 2 columns]"
      ]
     },
     "execution_count": 38,
     "metadata": {},
     "output_type": "execute_result"
    }
   ],
   "source": [
    "df1"
   ]
  },
  {
   "cell_type": "code",
   "execution_count": 39,
   "metadata": {},
   "outputs": [
    {
     "data": {
      "application/vnd.microsoft.datawrangler.viewer.v0+json": {
       "columns": [
        {
         "name": "DATE",
         "rawType": "datetime64[ns]",
         "type": "datetime"
        },
        {
         "name": "IPG2211A2N",
         "rawType": "float64",
         "type": "float"
        }
       ],
       "conversionMethod": "pd.DataFrame",
       "ref": "81c98e5c-c13c-4693-a1f1-39fa671dc2a6",
       "rows": [
        [
         "1985-01-01 00:00:00",
         "72.5052"
        ],
        [
         "1985-02-01 00:00:00",
         "70.672"
        ],
        [
         "1985-03-01 00:00:00",
         "62.4502"
        ],
        [
         "1985-04-01 00:00:00",
         "57.4714"
        ],
        [
         "1985-05-01 00:00:00",
         "55.3151"
        ],
        [
         "1985-06-01 00:00:00",
         "58.0904"
        ],
        [
         "1985-07-01 00:00:00",
         "62.6202"
        ],
        [
         "1985-08-01 00:00:00",
         "63.2485"
        ],
        [
         "1985-09-01 00:00:00",
         "60.5846"
        ],
        [
         "1985-10-01 00:00:00",
         "56.3154"
        ],
        [
         "1985-11-01 00:00:00",
         "58.0005"
        ],
        [
         "1985-12-01 00:00:00",
         "68.7145"
        ],
        [
         "1986-01-01 00:00:00",
         "73.3057"
        ],
        [
         "1986-02-01 00:00:00",
         "67.9869"
        ],
        [
         "1986-03-01 00:00:00",
         "62.2221"
        ],
        [
         "1986-04-01 00:00:00",
         "57.0329"
        ],
        [
         "1986-05-01 00:00:00",
         "55.8137"
        ],
        [
         "1986-06-01 00:00:00",
         "59.9005"
        ],
        [
         "1986-07-01 00:00:00",
         "65.7655"
        ],
        [
         "1986-08-01 00:00:00",
         "64.4816"
        ],
        [
         "1986-09-01 00:00:00",
         "61.0005"
        ],
        [
         "1986-10-01 00:00:00",
         "57.5322"
        ],
        [
         "1986-11-01 00:00:00",
         "59.3417"
        ],
        [
         "1986-12-01 00:00:00",
         "68.1354"
        ],
        [
         "1987-01-01 00:00:00",
         "73.8152"
        ],
        [
         "1987-02-01 00:00:00",
         "70.062"
        ],
        [
         "1987-03-01 00:00:00",
         "65.61"
        ],
        [
         "1987-04-01 00:00:00",
         "60.1586"
        ],
        [
         "1987-05-01 00:00:00",
         "58.8734"
        ],
        [
         "1987-06-01 00:00:00",
         "63.8918"
        ],
        [
         "1987-07-01 00:00:00",
         "68.8694"
        ],
        [
         "1987-08-01 00:00:00",
         "70.0669"
        ],
        [
         "1987-09-01 00:00:00",
         "64.1151"
        ],
        [
         "1987-10-01 00:00:00",
         "60.3789"
        ],
        [
         "1987-11-01 00:00:00",
         "62.4643"
        ],
        [
         "1987-12-01 00:00:00",
         "70.5777"
        ],
        [
         "1988-01-01 00:00:00",
         "79.8703"
        ],
        [
         "1988-02-01 00:00:00",
         "76.1622"
        ],
        [
         "1988-03-01 00:00:00",
         "70.2928"
        ],
        [
         "1988-04-01 00:00:00",
         "63.2384"
        ],
        [
         "1988-05-01 00:00:00",
         "61.4065"
        ],
        [
         "1988-06-01 00:00:00",
         "67.1097"
        ],
        [
         "1988-07-01 00:00:00",
         "72.9816"
        ],
        [
         "1988-08-01 00:00:00",
         "75.7655"
        ],
        [
         "1988-09-01 00:00:00",
         "67.5152"
        ],
        [
         "1988-10-01 00:00:00",
         "63.2832"
        ],
        [
         "1988-11-01 00:00:00",
         "65.1078"
        ],
        [
         "1988-12-01 00:00:00",
         "73.8631"
        ],
        [
         "1989-01-01 00:00:00",
         "77.9188"
        ],
        [
         "1989-02-01 00:00:00",
         "76.6822"
        ]
       ],
       "shape": {
        "columns": 1,
        "rows": 397
       }
      },
      "text/html": [
       "<div>\n",
       "<style scoped>\n",
       "    .dataframe tbody tr th:only-of-type {\n",
       "        vertical-align: middle;\n",
       "    }\n",
       "\n",
       "    .dataframe tbody tr th {\n",
       "        vertical-align: top;\n",
       "    }\n",
       "\n",
       "    .dataframe thead th {\n",
       "        text-align: right;\n",
       "    }\n",
       "</style>\n",
       "<table border=\"1\" class=\"dataframe\">\n",
       "  <thead>\n",
       "    <tr style=\"text-align: right;\">\n",
       "      <th></th>\n",
       "      <th>IPG2211A2N</th>\n",
       "    </tr>\n",
       "    <tr>\n",
       "      <th>DATE</th>\n",
       "      <th></th>\n",
       "    </tr>\n",
       "  </thead>\n",
       "  <tbody>\n",
       "    <tr>\n",
       "      <th>1985-01-01</th>\n",
       "      <td>72.5052</td>\n",
       "    </tr>\n",
       "    <tr>\n",
       "      <th>1985-02-01</th>\n",
       "      <td>70.6720</td>\n",
       "    </tr>\n",
       "    <tr>\n",
       "      <th>1985-03-01</th>\n",
       "      <td>62.4502</td>\n",
       "    </tr>\n",
       "    <tr>\n",
       "      <th>1985-04-01</th>\n",
       "      <td>57.4714</td>\n",
       "    </tr>\n",
       "    <tr>\n",
       "      <th>1985-05-01</th>\n",
       "      <td>55.3151</td>\n",
       "    </tr>\n",
       "    <tr>\n",
       "      <th>...</th>\n",
       "      <td>...</td>\n",
       "    </tr>\n",
       "    <tr>\n",
       "      <th>2017-09-01</th>\n",
       "      <td>98.6154</td>\n",
       "    </tr>\n",
       "    <tr>\n",
       "      <th>2017-10-01</th>\n",
       "      <td>93.6137</td>\n",
       "    </tr>\n",
       "    <tr>\n",
       "      <th>2017-11-01</th>\n",
       "      <td>97.3359</td>\n",
       "    </tr>\n",
       "    <tr>\n",
       "      <th>2017-12-01</th>\n",
       "      <td>114.7212</td>\n",
       "    </tr>\n",
       "    <tr>\n",
       "      <th>2018-01-01</th>\n",
       "      <td>129.4048</td>\n",
       "    </tr>\n",
       "  </tbody>\n",
       "</table>\n",
       "<p>397 rows × 1 columns</p>\n",
       "</div>"
      ],
      "text/plain": [
       "            IPG2211A2N\n",
       "DATE                  \n",
       "1985-01-01     72.5052\n",
       "1985-02-01     70.6720\n",
       "1985-03-01     62.4502\n",
       "1985-04-01     57.4714\n",
       "1985-05-01     55.3151\n",
       "...                ...\n",
       "2017-09-01     98.6154\n",
       "2017-10-01     93.6137\n",
       "2017-11-01     97.3359\n",
       "2017-12-01    114.7212\n",
       "2018-01-01    129.4048\n",
       "\n",
       "[397 rows x 1 columns]"
      ]
     },
     "execution_count": 39,
     "metadata": {},
     "output_type": "execute_result"
    }
   ],
   "source": [
    "df"
   ]
  },
  {
   "cell_type": "code",
   "execution_count": 42,
   "metadata": {},
   "outputs": [],
   "source": [
    "df = df.reset_index()"
   ]
  },
  {
   "cell_type": "code",
   "execution_count": 43,
   "metadata": {},
   "outputs": [
    {
     "data": {
      "application/vnd.microsoft.datawrangler.viewer.v0+json": {
       "columns": [
        {
         "name": "index",
         "rawType": "int64",
         "type": "integer"
        },
        {
         "name": "DATE",
         "rawType": "datetime64[ns]",
         "type": "datetime"
        },
        {
         "name": "IPG2211A2N",
         "rawType": "float64",
         "type": "float"
        }
       ],
       "conversionMethod": "pd.DataFrame",
       "ref": "398cd8fc-3bc3-4306-9c3e-91895b199b8b",
       "rows": [
        [
         "0",
         "1985-01-01 00:00:00",
         "72.5052"
        ],
        [
         "1",
         "1985-02-01 00:00:00",
         "70.672"
        ],
        [
         "2",
         "1985-03-01 00:00:00",
         "62.4502"
        ],
        [
         "3",
         "1985-04-01 00:00:00",
         "57.4714"
        ],
        [
         "4",
         "1985-05-01 00:00:00",
         "55.3151"
        ],
        [
         "5",
         "1985-06-01 00:00:00",
         "58.0904"
        ],
        [
         "6",
         "1985-07-01 00:00:00",
         "62.6202"
        ],
        [
         "7",
         "1985-08-01 00:00:00",
         "63.2485"
        ],
        [
         "8",
         "1985-09-01 00:00:00",
         "60.5846"
        ],
        [
         "9",
         "1985-10-01 00:00:00",
         "56.3154"
        ],
        [
         "10",
         "1985-11-01 00:00:00",
         "58.0005"
        ],
        [
         "11",
         "1985-12-01 00:00:00",
         "68.7145"
        ],
        [
         "12",
         "1986-01-01 00:00:00",
         "73.3057"
        ],
        [
         "13",
         "1986-02-01 00:00:00",
         "67.9869"
        ],
        [
         "14",
         "1986-03-01 00:00:00",
         "62.2221"
        ],
        [
         "15",
         "1986-04-01 00:00:00",
         "57.0329"
        ],
        [
         "16",
         "1986-05-01 00:00:00",
         "55.8137"
        ],
        [
         "17",
         "1986-06-01 00:00:00",
         "59.9005"
        ],
        [
         "18",
         "1986-07-01 00:00:00",
         "65.7655"
        ],
        [
         "19",
         "1986-08-01 00:00:00",
         "64.4816"
        ],
        [
         "20",
         "1986-09-01 00:00:00",
         "61.0005"
        ],
        [
         "21",
         "1986-10-01 00:00:00",
         "57.5322"
        ],
        [
         "22",
         "1986-11-01 00:00:00",
         "59.3417"
        ],
        [
         "23",
         "1986-12-01 00:00:00",
         "68.1354"
        ],
        [
         "24",
         "1987-01-01 00:00:00",
         "73.8152"
        ],
        [
         "25",
         "1987-02-01 00:00:00",
         "70.062"
        ],
        [
         "26",
         "1987-03-01 00:00:00",
         "65.61"
        ],
        [
         "27",
         "1987-04-01 00:00:00",
         "60.1586"
        ],
        [
         "28",
         "1987-05-01 00:00:00",
         "58.8734"
        ],
        [
         "29",
         "1987-06-01 00:00:00",
         "63.8918"
        ],
        [
         "30",
         "1987-07-01 00:00:00",
         "68.8694"
        ],
        [
         "31",
         "1987-08-01 00:00:00",
         "70.0669"
        ],
        [
         "32",
         "1987-09-01 00:00:00",
         "64.1151"
        ],
        [
         "33",
         "1987-10-01 00:00:00",
         "60.3789"
        ],
        [
         "34",
         "1987-11-01 00:00:00",
         "62.4643"
        ],
        [
         "35",
         "1987-12-01 00:00:00",
         "70.5777"
        ],
        [
         "36",
         "1988-01-01 00:00:00",
         "79.8703"
        ],
        [
         "37",
         "1988-02-01 00:00:00",
         "76.1622"
        ],
        [
         "38",
         "1988-03-01 00:00:00",
         "70.2928"
        ],
        [
         "39",
         "1988-04-01 00:00:00",
         "63.2384"
        ],
        [
         "40",
         "1988-05-01 00:00:00",
         "61.4065"
        ],
        [
         "41",
         "1988-06-01 00:00:00",
         "67.1097"
        ],
        [
         "42",
         "1988-07-01 00:00:00",
         "72.9816"
        ],
        [
         "43",
         "1988-08-01 00:00:00",
         "75.7655"
        ],
        [
         "44",
         "1988-09-01 00:00:00",
         "67.5152"
        ],
        [
         "45",
         "1988-10-01 00:00:00",
         "63.2832"
        ],
        [
         "46",
         "1988-11-01 00:00:00",
         "65.1078"
        ],
        [
         "47",
         "1988-12-01 00:00:00",
         "73.8631"
        ],
        [
         "48",
         "1989-01-01 00:00:00",
         "77.9188"
        ],
        [
         "49",
         "1989-02-01 00:00:00",
         "76.6822"
        ]
       ],
       "shape": {
        "columns": 2,
        "rows": 397
       }
      },
      "text/html": [
       "<div>\n",
       "<style scoped>\n",
       "    .dataframe tbody tr th:only-of-type {\n",
       "        vertical-align: middle;\n",
       "    }\n",
       "\n",
       "    .dataframe tbody tr th {\n",
       "        vertical-align: top;\n",
       "    }\n",
       "\n",
       "    .dataframe thead th {\n",
       "        text-align: right;\n",
       "    }\n",
       "</style>\n",
       "<table border=\"1\" class=\"dataframe\">\n",
       "  <thead>\n",
       "    <tr style=\"text-align: right;\">\n",
       "      <th></th>\n",
       "      <th>DATE</th>\n",
       "      <th>IPG2211A2N</th>\n",
       "    </tr>\n",
       "  </thead>\n",
       "  <tbody>\n",
       "    <tr>\n",
       "      <th>0</th>\n",
       "      <td>1985-01-01</td>\n",
       "      <td>72.5052</td>\n",
       "    </tr>\n",
       "    <tr>\n",
       "      <th>1</th>\n",
       "      <td>1985-02-01</td>\n",
       "      <td>70.6720</td>\n",
       "    </tr>\n",
       "    <tr>\n",
       "      <th>2</th>\n",
       "      <td>1985-03-01</td>\n",
       "      <td>62.4502</td>\n",
       "    </tr>\n",
       "    <tr>\n",
       "      <th>3</th>\n",
       "      <td>1985-04-01</td>\n",
       "      <td>57.4714</td>\n",
       "    </tr>\n",
       "    <tr>\n",
       "      <th>4</th>\n",
       "      <td>1985-05-01</td>\n",
       "      <td>55.3151</td>\n",
       "    </tr>\n",
       "    <tr>\n",
       "      <th>...</th>\n",
       "      <td>...</td>\n",
       "      <td>...</td>\n",
       "    </tr>\n",
       "    <tr>\n",
       "      <th>392</th>\n",
       "      <td>2017-09-01</td>\n",
       "      <td>98.6154</td>\n",
       "    </tr>\n",
       "    <tr>\n",
       "      <th>393</th>\n",
       "      <td>2017-10-01</td>\n",
       "      <td>93.6137</td>\n",
       "    </tr>\n",
       "    <tr>\n",
       "      <th>394</th>\n",
       "      <td>2017-11-01</td>\n",
       "      <td>97.3359</td>\n",
       "    </tr>\n",
       "    <tr>\n",
       "      <th>395</th>\n",
       "      <td>2017-12-01</td>\n",
       "      <td>114.7212</td>\n",
       "    </tr>\n",
       "    <tr>\n",
       "      <th>396</th>\n",
       "      <td>2018-01-01</td>\n",
       "      <td>129.4048</td>\n",
       "    </tr>\n",
       "  </tbody>\n",
       "</table>\n",
       "<p>397 rows × 2 columns</p>\n",
       "</div>"
      ],
      "text/plain": [
       "          DATE  IPG2211A2N\n",
       "0   1985-01-01     72.5052\n",
       "1   1985-02-01     70.6720\n",
       "2   1985-03-01     62.4502\n",
       "3   1985-04-01     57.4714\n",
       "4   1985-05-01     55.3151\n",
       "..         ...         ...\n",
       "392 2017-09-01     98.6154\n",
       "393 2017-10-01     93.6137\n",
       "394 2017-11-01     97.3359\n",
       "395 2017-12-01    114.7212\n",
       "396 2018-01-01    129.4048\n",
       "\n",
       "[397 rows x 2 columns]"
      ]
     },
     "execution_count": 43,
     "metadata": {},
     "output_type": "execute_result"
    }
   ],
   "source": [
    "df"
   ]
  },
  {
   "cell_type": "code",
   "execution_count": 44,
   "metadata": {},
   "outputs": [],
   "source": [
    "df.columns = [\"ds\", \"y\"]"
   ]
  },
  {
   "cell_type": "code",
   "execution_count": 45,
   "metadata": {},
   "outputs": [
    {
     "data": {
      "application/vnd.microsoft.datawrangler.viewer.v0+json": {
       "columns": [
        {
         "name": "index",
         "rawType": "int64",
         "type": "integer"
        },
        {
         "name": "ds",
         "rawType": "datetime64[ns]",
         "type": "datetime"
        },
        {
         "name": "y",
         "rawType": "float64",
         "type": "float"
        }
       ],
       "conversionMethod": "pd.DataFrame",
       "ref": "9896fff7-3441-4acb-8fa0-7c986922f22a",
       "rows": [
        [
         "0",
         "1985-01-01 00:00:00",
         "72.5052"
        ],
        [
         "1",
         "1985-02-01 00:00:00",
         "70.672"
        ],
        [
         "2",
         "1985-03-01 00:00:00",
         "62.4502"
        ],
        [
         "3",
         "1985-04-01 00:00:00",
         "57.4714"
        ],
        [
         "4",
         "1985-05-01 00:00:00",
         "55.3151"
        ],
        [
         "5",
         "1985-06-01 00:00:00",
         "58.0904"
        ],
        [
         "6",
         "1985-07-01 00:00:00",
         "62.6202"
        ],
        [
         "7",
         "1985-08-01 00:00:00",
         "63.2485"
        ],
        [
         "8",
         "1985-09-01 00:00:00",
         "60.5846"
        ],
        [
         "9",
         "1985-10-01 00:00:00",
         "56.3154"
        ],
        [
         "10",
         "1985-11-01 00:00:00",
         "58.0005"
        ],
        [
         "11",
         "1985-12-01 00:00:00",
         "68.7145"
        ],
        [
         "12",
         "1986-01-01 00:00:00",
         "73.3057"
        ],
        [
         "13",
         "1986-02-01 00:00:00",
         "67.9869"
        ],
        [
         "14",
         "1986-03-01 00:00:00",
         "62.2221"
        ],
        [
         "15",
         "1986-04-01 00:00:00",
         "57.0329"
        ],
        [
         "16",
         "1986-05-01 00:00:00",
         "55.8137"
        ],
        [
         "17",
         "1986-06-01 00:00:00",
         "59.9005"
        ],
        [
         "18",
         "1986-07-01 00:00:00",
         "65.7655"
        ],
        [
         "19",
         "1986-08-01 00:00:00",
         "64.4816"
        ],
        [
         "20",
         "1986-09-01 00:00:00",
         "61.0005"
        ],
        [
         "21",
         "1986-10-01 00:00:00",
         "57.5322"
        ],
        [
         "22",
         "1986-11-01 00:00:00",
         "59.3417"
        ],
        [
         "23",
         "1986-12-01 00:00:00",
         "68.1354"
        ],
        [
         "24",
         "1987-01-01 00:00:00",
         "73.8152"
        ],
        [
         "25",
         "1987-02-01 00:00:00",
         "70.062"
        ],
        [
         "26",
         "1987-03-01 00:00:00",
         "65.61"
        ],
        [
         "27",
         "1987-04-01 00:00:00",
         "60.1586"
        ],
        [
         "28",
         "1987-05-01 00:00:00",
         "58.8734"
        ],
        [
         "29",
         "1987-06-01 00:00:00",
         "63.8918"
        ],
        [
         "30",
         "1987-07-01 00:00:00",
         "68.8694"
        ],
        [
         "31",
         "1987-08-01 00:00:00",
         "70.0669"
        ],
        [
         "32",
         "1987-09-01 00:00:00",
         "64.1151"
        ],
        [
         "33",
         "1987-10-01 00:00:00",
         "60.3789"
        ],
        [
         "34",
         "1987-11-01 00:00:00",
         "62.4643"
        ],
        [
         "35",
         "1987-12-01 00:00:00",
         "70.5777"
        ],
        [
         "36",
         "1988-01-01 00:00:00",
         "79.8703"
        ],
        [
         "37",
         "1988-02-01 00:00:00",
         "76.1622"
        ],
        [
         "38",
         "1988-03-01 00:00:00",
         "70.2928"
        ],
        [
         "39",
         "1988-04-01 00:00:00",
         "63.2384"
        ],
        [
         "40",
         "1988-05-01 00:00:00",
         "61.4065"
        ],
        [
         "41",
         "1988-06-01 00:00:00",
         "67.1097"
        ],
        [
         "42",
         "1988-07-01 00:00:00",
         "72.9816"
        ],
        [
         "43",
         "1988-08-01 00:00:00",
         "75.7655"
        ],
        [
         "44",
         "1988-09-01 00:00:00",
         "67.5152"
        ],
        [
         "45",
         "1988-10-01 00:00:00",
         "63.2832"
        ],
        [
         "46",
         "1988-11-01 00:00:00",
         "65.1078"
        ],
        [
         "47",
         "1988-12-01 00:00:00",
         "73.8631"
        ],
        [
         "48",
         "1989-01-01 00:00:00",
         "77.9188"
        ],
        [
         "49",
         "1989-02-01 00:00:00",
         "76.6822"
        ]
       ],
       "shape": {
        "columns": 2,
        "rows": 397
       }
      },
      "text/html": [
       "<div>\n",
       "<style scoped>\n",
       "    .dataframe tbody tr th:only-of-type {\n",
       "        vertical-align: middle;\n",
       "    }\n",
       "\n",
       "    .dataframe tbody tr th {\n",
       "        vertical-align: top;\n",
       "    }\n",
       "\n",
       "    .dataframe thead th {\n",
       "        text-align: right;\n",
       "    }\n",
       "</style>\n",
       "<table border=\"1\" class=\"dataframe\">\n",
       "  <thead>\n",
       "    <tr style=\"text-align: right;\">\n",
       "      <th></th>\n",
       "      <th>ds</th>\n",
       "      <th>y</th>\n",
       "    </tr>\n",
       "  </thead>\n",
       "  <tbody>\n",
       "    <tr>\n",
       "      <th>0</th>\n",
       "      <td>1985-01-01</td>\n",
       "      <td>72.5052</td>\n",
       "    </tr>\n",
       "    <tr>\n",
       "      <th>1</th>\n",
       "      <td>1985-02-01</td>\n",
       "      <td>70.6720</td>\n",
       "    </tr>\n",
       "    <tr>\n",
       "      <th>2</th>\n",
       "      <td>1985-03-01</td>\n",
       "      <td>62.4502</td>\n",
       "    </tr>\n",
       "    <tr>\n",
       "      <th>3</th>\n",
       "      <td>1985-04-01</td>\n",
       "      <td>57.4714</td>\n",
       "    </tr>\n",
       "    <tr>\n",
       "      <th>4</th>\n",
       "      <td>1985-05-01</td>\n",
       "      <td>55.3151</td>\n",
       "    </tr>\n",
       "    <tr>\n",
       "      <th>...</th>\n",
       "      <td>...</td>\n",
       "      <td>...</td>\n",
       "    </tr>\n",
       "    <tr>\n",
       "      <th>392</th>\n",
       "      <td>2017-09-01</td>\n",
       "      <td>98.6154</td>\n",
       "    </tr>\n",
       "    <tr>\n",
       "      <th>393</th>\n",
       "      <td>2017-10-01</td>\n",
       "      <td>93.6137</td>\n",
       "    </tr>\n",
       "    <tr>\n",
       "      <th>394</th>\n",
       "      <td>2017-11-01</td>\n",
       "      <td>97.3359</td>\n",
       "    </tr>\n",
       "    <tr>\n",
       "      <th>395</th>\n",
       "      <td>2017-12-01</td>\n",
       "      <td>114.7212</td>\n",
       "    </tr>\n",
       "    <tr>\n",
       "      <th>396</th>\n",
       "      <td>2018-01-01</td>\n",
       "      <td>129.4048</td>\n",
       "    </tr>\n",
       "  </tbody>\n",
       "</table>\n",
       "<p>397 rows × 2 columns</p>\n",
       "</div>"
      ],
      "text/plain": [
       "            ds         y\n",
       "0   1985-01-01   72.5052\n",
       "1   1985-02-01   70.6720\n",
       "2   1985-03-01   62.4502\n",
       "3   1985-04-01   57.4714\n",
       "4   1985-05-01   55.3151\n",
       "..         ...       ...\n",
       "392 2017-09-01   98.6154\n",
       "393 2017-10-01   93.6137\n",
       "394 2017-11-01   97.3359\n",
       "395 2017-12-01  114.7212\n",
       "396 2018-01-01  129.4048\n",
       "\n",
       "[397 rows x 2 columns]"
      ]
     },
     "execution_count": 45,
     "metadata": {},
     "output_type": "execute_result"
    }
   ],
   "source": [
    "df"
   ]
  },
  {
   "cell_type": "code",
   "execution_count": 47,
   "metadata": {},
   "outputs": [
    {
     "data": {
      "text/plain": [
       "<Axes: >"
      ]
     },
     "execution_count": 47,
     "metadata": {},
     "output_type": "execute_result"
    },
    {
     "data": {
      "image/png": "[encoded data removed]",
      "text/plain": [
       "<Figure size 1800x1000 with 1 Axes>"
      ]
     },
     "metadata": {},
     "output_type": "display_data"
    }
   ],
   "source": [
    "df[\"y\"].plot(figsize=(18,10))"
   ]
  },
  {
   "cell_type": "code",
   "execution_count": null,
   "metadata": {},
   "outputs": [],
   "source": [
    "df[\"ds\"] = pd.to_datetime(df[\"ds\"])"
   ]
  },
  {
   "cell_type": "code",
   "execution_count": 48,
   "metadata": {},
   "outputs": [
    {
     "name": "stdout",
     "output_type": "stream",
     "text": [
      "<class 'pandas.core.frame.DataFrame'>\n",
      "RangeIndex: 397 entries, 0 to 396\n",
      "Data columns (total 2 columns):\n",
      " #   Column  Non-Null Count  Dtype         \n",
      "---  ------  --------------  -----         \n",
      " 0   ds      397 non-null    datetime64[ns]\n",
      " 1   y       397 non-null    float64       \n",
      "dtypes: datetime64[ns](1), float64(1)\n",
      "memory usage: 6.3 KB\n"
     ]
    }
   ],
   "source": [
    "df.info()"
   ]
  },
  {
   "cell_type": "code",
   "execution_count": 50,
   "metadata": {},
   "outputs": [
    {
     "data": {
      "text/plain": [
       "['__class__',\n",
       " '__delattr__',\n",
       " '__dict__',\n",
       " '__dir__',\n",
       " '__doc__',\n",
       " '__eq__',\n",
       " '__format__',\n",
       " '__ge__',\n",
       " '__getattribute__',\n",
       " '__getstate__',\n",
       " '__gt__',\n",
       " '__hash__',\n",
       " '__init__',\n",
       " '__init_subclass__',\n",
       " '__le__',\n",
       " '__lt__',\n",
       " '__module__',\n",
       " '__ne__',\n",
       " '__new__',\n",
       " '__reduce__',\n",
       " '__reduce_ex__',\n",
       " '__repr__',\n",
       " '__setattr__',\n",
       " '__sizeof__',\n",
       " '__str__',\n",
       " '__subclasshook__',\n",
       " '__weakref__',\n",
       " '_load_stan_backend',\n",
       " '_logistic_uncertainty',\n",
       " '_make_historical_mat_time',\n",
       " '_make_trend_shift_matrix',\n",
       " '_sample_uncertainty',\n",
       " 'add_country_holidays',\n",
       " 'add_group_component',\n",
       " 'add_regressor',\n",
       " 'add_seasonality',\n",
       " 'calculate_initial_params',\n",
       " 'construct_holiday_dataframe',\n",
       " 'fit',\n",
       " 'flat_growth_init',\n",
       " 'flat_trend',\n",
       " 'fourier_series',\n",
       " 'initialize_scales',\n",
       " 'linear_growth_init',\n",
       " 'logistic_growth_init',\n",
       " 'make_all_seasonality_features',\n",
       " 'make_future_dataframe',\n",
       " 'make_holiday_features',\n",
       " 'make_seasonality_features',\n",
       " 'parse_seasonality_args',\n",
       " 'percentile',\n",
       " 'piecewise_linear',\n",
       " 'piecewise_logistic',\n",
       " 'plot',\n",
       " 'plot_components',\n",
       " 'predict',\n",
       " 'predict_seasonal_components',\n",
       " 'predict_trend',\n",
       " 'predict_uncertainty',\n",
       " 'predictive_samples',\n",
       " 'preprocess',\n",
       " 'regressor_column_matrix',\n",
       " 'sample_model',\n",
       " 'sample_model_vectorized',\n",
       " 'sample_posterior_predictive',\n",
       " 'sample_predictive_trend',\n",
       " 'sample_predictive_trend_vectorized',\n",
       " 'set_auto_seasonalities',\n",
       " 'set_changepoints',\n",
       " 'setup_dataframe',\n",
       " 'validate_column_name',\n",
       " 'validate_inputs']"
      ]
     },
     "execution_count": 50,
     "metadata": {},
     "output_type": "execute_result"
    }
   ],
   "source": [
    "dir(Prophet)"
   ]
  },
  {
   "cell_type": "code",
   "execution_count": 51,
   "metadata": {},
   "outputs": [
    {
     "name": "stderr",
     "output_type": "stream",
     "text": [
      "13:52:55 - cmdstanpy - INFO - Chain [1] start processing\n",
      "13:52:55 - cmdstanpy - INFO - Chain [1] done processing\n",
      "13:52:55 - cmdstanpy - ERROR - Chain [1] error: terminated by signal 3221225657 \n",
      "Optimization terminated abnormally. Falling back to Newton.\n",
      "13:52:55 - cmdstanpy - INFO - Chain [1] start processing\n",
      "13:52:55 - cmdstanpy - INFO - Chain [1] done processing\n",
      "13:52:55 - cmdstanpy - ERROR - Chain [1] error: terminated by signal 3221225657 \n"
     ]
    },
    {
     "ename": "RuntimeError",
     "evalue": "Error during optimization! Command 'C:\\Users\\lucam\\AppData\\Local\\Programs\\Python\\Python311\\Lib\\site-packages\\prophet\\stan_model\\prophet_model.bin random seed=22897 data file=C:\\Users\\lucam\\AppData\\Local\\Temp\\tmpqym3dw_f\\bt4s5w2v.json init=C:\\Users\\lucam\\AppData\\Local\\Temp\\tmpqym3dw_f\\r1ahg9bp.json output file=C:\\Users\\lucam\\AppData\\Local\\Temp\\tmpqym3dw_f\\prophet_model4eyhly0z\\prophet_model-20250221135255.csv method=optimize algorithm=newton iter=10000' failed: ",
     "output_type": "error",
     "traceback": [
      "\u001b[1;31m---------------------------------------------------------------------------\u001b[0m",
      "\u001b[1;31mRuntimeError\u001b[0m                              Traceback (most recent call last)",
      "File \u001b[1;32mc:\\Users\\lucam\\AppData\\Local\\Programs\\Python\\Python311\\Lib\\site-packages\\prophet\\models.py:121\u001b[0m, in \u001b[0;36mCmdStanPyBackend.fit\u001b[1;34m(self, stan_init, stan_data, **kwargs)\u001b[0m\n\u001b[0;32m    120\u001b[0m \u001b[38;5;28;01mtry\u001b[39;00m:\n\u001b[1;32m--> 121\u001b[0m     \u001b[38;5;28mself\u001b[39m\u001b[38;5;241m.\u001b[39mstan_fit \u001b[38;5;241m=\u001b[39m \u001b[38;5;28;43mself\u001b[39;49m\u001b[38;5;241;43m.\u001b[39;49m\u001b[43mmodel\u001b[49m\u001b[38;5;241;43m.\u001b[39;49m\u001b[43moptimize\u001b[49m\u001b[43m(\u001b[49m\u001b[38;5;241;43m*\u001b[39;49m\u001b[38;5;241;43m*\u001b[39;49m\u001b[43margs\u001b[49m\u001b[43m)\u001b[49m\n\u001b[0;32m    122\u001b[0m \u001b[38;5;28;01mexcept\u001b[39;00m \u001b[38;5;167;01mRuntimeError\u001b[39;00m \u001b[38;5;28;01mas\u001b[39;00m e:\n\u001b[0;32m    123\u001b[0m     \u001b[38;5;66;03m# Fall back on Newton\u001b[39;00m\n",
      "File \u001b[1;32mc:\\Users\\lucam\\AppData\\Local\\Programs\\Python\\Python311\\Lib\\site-packages\\cmdstanpy\\model.py:659\u001b[0m, in \u001b[0;36mCmdStanModel.optimize\u001b[1;34m(self, data, seed, inits, output_dir, sig_figs, save_profile, algorithm, init_alpha, tol_obj, tol_rel_obj, tol_grad, tol_rel_grad, tol_param, history_size, iter, save_iterations, require_converged, show_console, refresh, time_fmt, timeout, jacobian)\u001b[0m\n\u001b[0;32m    658\u001b[0m     \u001b[38;5;28;01melse\u001b[39;00m:\n\u001b[1;32m--> 659\u001b[0m         \u001b[38;5;28;01mraise\u001b[39;00m \u001b[38;5;167;01mRuntimeError\u001b[39;00m(msg)\n\u001b[0;32m    660\u001b[0m mle \u001b[38;5;241m=\u001b[39m CmdStanMLE(runset)\n",
      "\u001b[1;31mRuntimeError\u001b[0m: Error during optimization! Command 'C:\\Users\\lucam\\AppData\\Local\\Programs\\Python\\Python311\\Lib\\site-packages\\prophet\\stan_model\\prophet_model.bin random seed=60515 data file=C:\\Users\\lucam\\AppData\\Local\\Temp\\tmpqym3dw_f\\8jhk9vrx.json init=C:\\Users\\lucam\\AppData\\Local\\Temp\\tmpqym3dw_f\\yo4xneo2.json output file=C:\\Users\\lucam\\AppData\\Local\\Temp\\tmpqym3dw_f\\prophet_model10fbtslo\\prophet_model-20250221135255.csv method=optimize algorithm=lbfgs iter=10000' failed: ",
      "\nDuring handling of the above exception, another exception occurred:\n",
      "\u001b[1;31mRuntimeError\u001b[0m                              Traceback (most recent call last)",
      "Cell \u001b[1;32mIn[51], line 2\u001b[0m\n\u001b[0;32m      1\u001b[0m m\u001b[38;5;241m=\u001b[39mProphet()\n\u001b[1;32m----> 2\u001b[0m model \u001b[38;5;241m=\u001b[39m \u001b[43mm\u001b[49m\u001b[38;5;241;43m.\u001b[39;49m\u001b[43mfit\u001b[49m\u001b[43m(\u001b[49m\u001b[43mdf\u001b[49m\u001b[43m)\u001b[49m\n",
      "File \u001b[1;32mc:\\Users\\lucam\\AppData\\Local\\Programs\\Python\\Python311\\Lib\\site-packages\\prophet\\forecaster.py:1232\u001b[0m, in \u001b[0;36mProphet.fit\u001b[1;34m(self, df, **kwargs)\u001b[0m\n\u001b[0;32m   1230\u001b[0m     \u001b[38;5;28mself\u001b[39m\u001b[38;5;241m.\u001b[39mparams \u001b[38;5;241m=\u001b[39m \u001b[38;5;28mself\u001b[39m\u001b[38;5;241m.\u001b[39mstan_backend\u001b[38;5;241m.\u001b[39msampling(stan_init, dat, \u001b[38;5;28mself\u001b[39m\u001b[38;5;241m.\u001b[39mmcmc_samples, \u001b[38;5;241m*\u001b[39m\u001b[38;5;241m*\u001b[39mkwargs)\n\u001b[0;32m   1231\u001b[0m \u001b[38;5;28;01melse\u001b[39;00m:\n\u001b[1;32m-> 1232\u001b[0m     \u001b[38;5;28mself\u001b[39m\u001b[38;5;241m.\u001b[39mparams \u001b[38;5;241m=\u001b[39m \u001b[38;5;28;43mself\u001b[39;49m\u001b[38;5;241;43m.\u001b[39;49m\u001b[43mstan_backend\u001b[49m\u001b[38;5;241;43m.\u001b[39;49m\u001b[43mfit\u001b[49m\u001b[43m(\u001b[49m\u001b[43mstan_init\u001b[49m\u001b[43m,\u001b[49m\u001b[43m \u001b[49m\u001b[43mdat\u001b[49m\u001b[43m,\u001b[49m\u001b[43m \u001b[49m\u001b[38;5;241;43m*\u001b[39;49m\u001b[38;5;241;43m*\u001b[39;49m\u001b[43mkwargs\u001b[49m\u001b[43m)\u001b[49m\n\u001b[0;32m   1234\u001b[0m \u001b[38;5;28mself\u001b[39m\u001b[38;5;241m.\u001b[39mstan_fit \u001b[38;5;241m=\u001b[39m \u001b[38;5;28mself\u001b[39m\u001b[38;5;241m.\u001b[39mstan_backend\u001b[38;5;241m.\u001b[39mstan_fit\n\u001b[0;32m   1235\u001b[0m \u001b[38;5;66;03m# If no changepoints were requested, replace delta with 0s\u001b[39;00m\n",
      "File \u001b[1;32mc:\\Users\\lucam\\AppData\\Local\\Programs\\Python\\Python311\\Lib\\site-packages\\prophet\\models.py:128\u001b[0m, in \u001b[0;36mCmdStanPyBackend.fit\u001b[1;34m(self, stan_init, stan_data, **kwargs)\u001b[0m\n\u001b[0;32m    126\u001b[0m     logger\u001b[38;5;241m.\u001b[39mwarning(\u001b[38;5;124m'\u001b[39m\u001b[38;5;124mOptimization terminated abnormally. Falling back to Newton.\u001b[39m\u001b[38;5;124m'\u001b[39m)\n\u001b[0;32m    127\u001b[0m     args[\u001b[38;5;124m'\u001b[39m\u001b[38;5;124malgorithm\u001b[39m\u001b[38;5;124m'\u001b[39m] \u001b[38;5;241m=\u001b[39m \u001b[38;5;124m'\u001b[39m\u001b[38;5;124mNewton\u001b[39m\u001b[38;5;124m'\u001b[39m\n\u001b[1;32m--> 128\u001b[0m     \u001b[38;5;28mself\u001b[39m\u001b[38;5;241m.\u001b[39mstan_fit \u001b[38;5;241m=\u001b[39m \u001b[38;5;28;43mself\u001b[39;49m\u001b[38;5;241;43m.\u001b[39;49m\u001b[43mmodel\u001b[49m\u001b[38;5;241;43m.\u001b[39;49m\u001b[43moptimize\u001b[49m\u001b[43m(\u001b[49m\u001b[38;5;241;43m*\u001b[39;49m\u001b[38;5;241;43m*\u001b[39;49m\u001b[43margs\u001b[49m\u001b[43m)\u001b[49m\n\u001b[0;32m    129\u001b[0m params \u001b[38;5;241m=\u001b[39m \u001b[38;5;28mself\u001b[39m\u001b[38;5;241m.\u001b[39mstan_to_dict_numpy(\n\u001b[0;32m    130\u001b[0m     \u001b[38;5;28mself\u001b[39m\u001b[38;5;241m.\u001b[39mstan_fit\u001b[38;5;241m.\u001b[39mcolumn_names, \u001b[38;5;28mself\u001b[39m\u001b[38;5;241m.\u001b[39mstan_fit\u001b[38;5;241m.\u001b[39moptimized_params_np)\n\u001b[0;32m    131\u001b[0m \u001b[38;5;28;01mfor\u001b[39;00m par \u001b[38;5;129;01min\u001b[39;00m params:\n",
      "File \u001b[1;32mc:\\Users\\lucam\\AppData\\Local\\Programs\\Python\\Python311\\Lib\\site-packages\\cmdstanpy\\model.py:659\u001b[0m, in \u001b[0;36mCmdStanModel.optimize\u001b[1;34m(self, data, seed, inits, output_dir, sig_figs, save_profile, algorithm, init_alpha, tol_obj, tol_rel_obj, tol_grad, tol_rel_grad, tol_param, history_size, iter, save_iterations, require_converged, show_console, refresh, time_fmt, timeout, jacobian)\u001b[0m\n\u001b[0;32m    657\u001b[0m         get_logger()\u001b[38;5;241m.\u001b[39mwarning(msg)\n\u001b[0;32m    658\u001b[0m     \u001b[38;5;28;01melse\u001b[39;00m:\n\u001b[1;32m--> 659\u001b[0m         \u001b[38;5;28;01mraise\u001b[39;00m \u001b[38;5;167;01mRuntimeError\u001b[39;00m(msg)\n\u001b[0;32m    660\u001b[0m mle \u001b[38;5;241m=\u001b[39m CmdStanMLE(runset)\n\u001b[0;32m    661\u001b[0m \u001b[38;5;28;01mreturn\u001b[39;00m mle\n",
      "\u001b[1;31mRuntimeError\u001b[0m: Error during optimization! Command 'C:\\Users\\lucam\\AppData\\Local\\Programs\\Python\\Python311\\Lib\\site-packages\\prophet\\stan_model\\prophet_model.bin random seed=22897 data file=C:\\Users\\lucam\\AppData\\Local\\Temp\\tmpqym3dw_f\\bt4s5w2v.json init=C:\\Users\\lucam\\AppData\\Local\\Temp\\tmpqym3dw_f\\r1ahg9bp.json output file=C:\\Users\\lucam\\AppData\\Local\\Temp\\tmpqym3dw_f\\prophet_model4eyhly0z\\prophet_model-20250221135255.csv method=optimize algorithm=newton iter=10000' failed: "
     ]
    }
   ],
   "source": [
    "m=Prophet()\n",
    "model = m.fit(df)"
   ]
  },
  {
   "cell_type": "code",
   "execution_count": 52,
   "metadata": {},
   "outputs": [
    {
     "ename": "NameError",
     "evalue": "name 'model' is not defined",
     "output_type": "error",
     "traceback": [
      "\u001b[1;31m---------------------------------------------------------------------------\u001b[0m",
      "\u001b[1;31mNameError\u001b[0m                                 Traceback (most recent call last)",
      "Cell \u001b[1;32mIn[52], line 1\u001b[0m\n\u001b[1;32m----> 1\u001b[0m \u001b[43mmodel\u001b[49m\n",
      "\u001b[1;31mNameError\u001b[0m: name 'model' is not defined"
     ]
    }
   ],
   "source": [
    "model"
   ]
  },
  {
   "cell_type": "code",
   "execution_count": null,
   "metadata": {},
   "outputs": [],
   "source": []
  }
 ],
 "metadata": {
  "kernelspec": {
   "display_name": "Python 3",
   "language": "python",
   "name": "python3"
  },
  "language_info": {
   "codemirror_mode": {
    "name": "ipython",
    "version": 3
   },
   "file_extension": ".py",
   "mimetype": "text/x-python",
   "name": "python",
   "nbconvert_exporter": "python",
   "pygments_lexer": "ipython3",
   "version": "3.11.9"
  }
 },
 "nbformat": 4,
 "nbformat_minor": 2
}
